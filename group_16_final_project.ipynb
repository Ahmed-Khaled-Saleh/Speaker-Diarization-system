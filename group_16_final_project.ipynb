{
  "nbformat": 4,
  "nbformat_minor": 0,
  "metadata": {
    "colab": {
      "name": "group 16 final project.ipynb",
      "provenance": [],
      "collapsed_sections": []
    },
    "kernelspec": {
      "name": "python3",
      "display_name": "Python 3"
    },
    "language_info": {
      "name": "python"
    },
    "accelerator": "GPU",
    "gpuClass": "standard",
    "widgets": {
      "application/vnd.jupyter.widget-state+json": {
        "2a611675d46e4599a6df16478126a034": {
          "model_module": "@jupyter-widgets/controls",
          "model_name": "HBoxModel",
          "model_module_version": "1.5.0",
          "state": {
            "_dom_classes": [],
            "_model_module": "@jupyter-widgets/controls",
            "_model_module_version": "1.5.0",
            "_model_name": "HBoxModel",
            "_view_count": null,
            "_view_module": "@jupyter-widgets/controls",
            "_view_module_version": "1.5.0",
            "_view_name": "HBoxView",
            "box_style": "",
            "children": [
              "IPY_MODEL_98d588d0da644c83884e580f44be4ece",
              "IPY_MODEL_61118fc859d3443ba796c438b7b28df9",
              "IPY_MODEL_eb697917487d4714ad3f6b03c8009208"
            ],
            "layout": "IPY_MODEL_08892fd3ef454d09ba94708c00968d7e"
          }
        },
        "98d588d0da644c83884e580f44be4ece": {
          "model_module": "@jupyter-widgets/controls",
          "model_name": "HTMLModel",
          "model_module_version": "1.5.0",
          "state": {
            "_dom_classes": [],
            "_model_module": "@jupyter-widgets/controls",
            "_model_module_version": "1.5.0",
            "_model_name": "HTMLModel",
            "_view_count": null,
            "_view_module": "@jupyter-widgets/controls",
            "_view_module_version": "1.5.0",
            "_view_name": "HTMLView",
            "description": "",
            "description_tooltip": null,
            "layout": "IPY_MODEL_cec32a348e4f419cab9f52235e35b212",
            "placeholder": "​",
            "style": "IPY_MODEL_ef2087ec5c9d429fb698e1a55df87a56",
            "value": "100%"
          }
        },
        "61118fc859d3443ba796c438b7b28df9": {
          "model_module": "@jupyter-widgets/controls",
          "model_name": "FloatProgressModel",
          "model_module_version": "1.5.0",
          "state": {
            "_dom_classes": [],
            "_model_module": "@jupyter-widgets/controls",
            "_model_module_version": "1.5.0",
            "_model_name": "FloatProgressModel",
            "_view_count": null,
            "_view_module": "@jupyter-widgets/controls",
            "_view_module_version": "1.5.0",
            "_view_name": "ProgressView",
            "bar_style": "success",
            "description": "",
            "description_tooltip": null,
            "layout": "IPY_MODEL_38efcf10fb964cd6adc083fb605a239e",
            "max": 377664473,
            "min": 0,
            "orientation": "horizontal",
            "style": "IPY_MODEL_a1bde4af39854c25834b305cf931c579",
            "value": 377664473
          }
        },
        "eb697917487d4714ad3f6b03c8009208": {
          "model_module": "@jupyter-widgets/controls",
          "model_name": "HTMLModel",
          "model_module_version": "1.5.0",
          "state": {
            "_dom_classes": [],
            "_model_module": "@jupyter-widgets/controls",
            "_model_module_version": "1.5.0",
            "_model_name": "HTMLModel",
            "_view_count": null,
            "_view_module": "@jupyter-widgets/controls",
            "_view_module_version": "1.5.0",
            "_view_name": "HTMLView",
            "description": "",
            "description_tooltip": null,
            "layout": "IPY_MODEL_0e24514cc61449abad706b755a457658",
            "placeholder": "​",
            "style": "IPY_MODEL_fe8a05228b204972b5edfc0a9de492ab",
            "value": " 360M/360M [00:21&lt;00:00, 18.9MB/s]"
          }
        },
        "08892fd3ef454d09ba94708c00968d7e": {
          "model_module": "@jupyter-widgets/base",
          "model_name": "LayoutModel",
          "model_module_version": "1.2.0",
          "state": {
            "_model_module": "@jupyter-widgets/base",
            "_model_module_version": "1.2.0",
            "_model_name": "LayoutModel",
            "_view_count": null,
            "_view_module": "@jupyter-widgets/base",
            "_view_module_version": "1.2.0",
            "_view_name": "LayoutView",
            "align_content": null,
            "align_items": null,
            "align_self": null,
            "border": null,
            "bottom": null,
            "display": null,
            "flex": null,
            "flex_flow": null,
            "grid_area": null,
            "grid_auto_columns": null,
            "grid_auto_flow": null,
            "grid_auto_rows": null,
            "grid_column": null,
            "grid_gap": null,
            "grid_row": null,
            "grid_template_areas": null,
            "grid_template_columns": null,
            "grid_template_rows": null,
            "height": null,
            "justify_content": null,
            "justify_items": null,
            "left": null,
            "margin": null,
            "max_height": null,
            "max_width": null,
            "min_height": null,
            "min_width": null,
            "object_fit": null,
            "object_position": null,
            "order": null,
            "overflow": null,
            "overflow_x": null,
            "overflow_y": null,
            "padding": null,
            "right": null,
            "top": null,
            "visibility": null,
            "width": null
          }
        },
        "cec32a348e4f419cab9f52235e35b212": {
          "model_module": "@jupyter-widgets/base",
          "model_name": "LayoutModel",
          "model_module_version": "1.2.0",
          "state": {
            "_model_module": "@jupyter-widgets/base",
            "_model_module_version": "1.2.0",
            "_model_name": "LayoutModel",
            "_view_count": null,
            "_view_module": "@jupyter-widgets/base",
            "_view_module_version": "1.2.0",
            "_view_name": "LayoutView",
            "align_content": null,
            "align_items": null,
            "align_self": null,
            "border": null,
            "bottom": null,
            "display": null,
            "flex": null,
            "flex_flow": null,
            "grid_area": null,
            "grid_auto_columns": null,
            "grid_auto_flow": null,
            "grid_auto_rows": null,
            "grid_column": null,
            "grid_gap": null,
            "grid_row": null,
            "grid_template_areas": null,
            "grid_template_columns": null,
            "grid_template_rows": null,
            "height": null,
            "justify_content": null,
            "justify_items": null,
            "left": null,
            "margin": null,
            "max_height": null,
            "max_width": null,
            "min_height": null,
            "min_width": null,
            "object_fit": null,
            "object_position": null,
            "order": null,
            "overflow": null,
            "overflow_x": null,
            "overflow_y": null,
            "padding": null,
            "right": null,
            "top": null,
            "visibility": null,
            "width": null
          }
        },
        "ef2087ec5c9d429fb698e1a55df87a56": {
          "model_module": "@jupyter-widgets/controls",
          "model_name": "DescriptionStyleModel",
          "model_module_version": "1.5.0",
          "state": {
            "_model_module": "@jupyter-widgets/controls",
            "_model_module_version": "1.5.0",
            "_model_name": "DescriptionStyleModel",
            "_view_count": null,
            "_view_module": "@jupyter-widgets/base",
            "_view_module_version": "1.2.0",
            "_view_name": "StyleView",
            "description_width": ""
          }
        },
        "38efcf10fb964cd6adc083fb605a239e": {
          "model_module": "@jupyter-widgets/base",
          "model_name": "LayoutModel",
          "model_module_version": "1.2.0",
          "state": {
            "_model_module": "@jupyter-widgets/base",
            "_model_module_version": "1.2.0",
            "_model_name": "LayoutModel",
            "_view_count": null,
            "_view_module": "@jupyter-widgets/base",
            "_view_module_version": "1.2.0",
            "_view_name": "LayoutView",
            "align_content": null,
            "align_items": null,
            "align_self": null,
            "border": null,
            "bottom": null,
            "display": null,
            "flex": null,
            "flex_flow": null,
            "grid_area": null,
            "grid_auto_columns": null,
            "grid_auto_flow": null,
            "grid_auto_rows": null,
            "grid_column": null,
            "grid_gap": null,
            "grid_row": null,
            "grid_template_areas": null,
            "grid_template_columns": null,
            "grid_template_rows": null,
            "height": null,
            "justify_content": null,
            "justify_items": null,
            "left": null,
            "margin": null,
            "max_height": null,
            "max_width": null,
            "min_height": null,
            "min_width": null,
            "object_fit": null,
            "object_position": null,
            "order": null,
            "overflow": null,
            "overflow_x": null,
            "overflow_y": null,
            "padding": null,
            "right": null,
            "top": null,
            "visibility": null,
            "width": null
          }
        },
        "a1bde4af39854c25834b305cf931c579": {
          "model_module": "@jupyter-widgets/controls",
          "model_name": "ProgressStyleModel",
          "model_module_version": "1.5.0",
          "state": {
            "_model_module": "@jupyter-widgets/controls",
            "_model_module_version": "1.5.0",
            "_model_name": "ProgressStyleModel",
            "_view_count": null,
            "_view_module": "@jupyter-widgets/base",
            "_view_module_version": "1.2.0",
            "_view_name": "StyleView",
            "bar_color": null,
            "description_width": ""
          }
        },
        "0e24514cc61449abad706b755a457658": {
          "model_module": "@jupyter-widgets/base",
          "model_name": "LayoutModel",
          "model_module_version": "1.2.0",
          "state": {
            "_model_module": "@jupyter-widgets/base",
            "_model_module_version": "1.2.0",
            "_model_name": "LayoutModel",
            "_view_count": null,
            "_view_module": "@jupyter-widgets/base",
            "_view_module_version": "1.2.0",
            "_view_name": "LayoutView",
            "align_content": null,
            "align_items": null,
            "align_self": null,
            "border": null,
            "bottom": null,
            "display": null,
            "flex": null,
            "flex_flow": null,
            "grid_area": null,
            "grid_auto_columns": null,
            "grid_auto_flow": null,
            "grid_auto_rows": null,
            "grid_column": null,
            "grid_gap": null,
            "grid_row": null,
            "grid_template_areas": null,
            "grid_template_columns": null,
            "grid_template_rows": null,
            "height": null,
            "justify_content": null,
            "justify_items": null,
            "left": null,
            "margin": null,
            "max_height": null,
            "max_width": null,
            "min_height": null,
            "min_width": null,
            "object_fit": null,
            "object_position": null,
            "order": null,
            "overflow": null,
            "overflow_x": null,
            "overflow_y": null,
            "padding": null,
            "right": null,
            "top": null,
            "visibility": null,
            "width": null
          }
        },
        "fe8a05228b204972b5edfc0a9de492ab": {
          "model_module": "@jupyter-widgets/controls",
          "model_name": "DescriptionStyleModel",
          "model_module_version": "1.5.0",
          "state": {
            "_model_module": "@jupyter-widgets/controls",
            "_model_module_version": "1.5.0",
            "_model_name": "DescriptionStyleModel",
            "_view_count": null,
            "_view_module": "@jupyter-widgets/base",
            "_view_module_version": "1.2.0",
            "_view_name": "StyleView",
            "description_width": ""
          }
        }
      }
    }
  },
  "cells": [
    {
      "cell_type": "code",
      "execution_count": 1,
      "metadata": {
        "id": "9Fi6myQ4C4Az"
      },
      "outputs": [],
      "source": [
        "!pip install -qq torch==1.11.0 torchvision==0.12.0 torchaudio==0.11.0 torchtext==0.12.0\n",
        "!pip install -qq speechbrain==0.5.12\n",
        "!pip install -qq pyannote.audio\n",
        "\n",
        "# for visualization purposes\n",
        "#!pip install -qq moviepy ipython==7.34.0"
      ]
    },
    {
      "cell_type": "code",
      "source": [
        "!pip install pytube\n",
        "import os\n"
      ],
      "metadata": {
        "colab": {
          "base_uri": "https://localhost:8080/"
        },
        "id": "Cs5vTpPiNo47",
        "outputId": "9ac54d9f-dc40-4753-d02e-ad6a46c59b80"
      },
      "execution_count": 2,
      "outputs": [
        {
          "output_type": "stream",
          "name": "stdout",
          "text": [
            "Looking in indexes: https://pypi.org/simple, https://us-python.pkg.dev/colab-wheels/public/simple/\n",
            "Requirement already satisfied: pytube in /usr/local/lib/python3.7/dist-packages (12.1.0)\n"
          ]
        }
      ]
    },
    {
      "cell_type": "code",
      "source": [
        "!pwd"
      ],
      "metadata": {
        "colab": {
          "base_uri": "https://localhost:8080/"
        },
        "id": "AmA2wiGSaKh9",
        "outputId": "c7766db7-bfba-4dbc-909c-7804568fc1ae"
      },
      "execution_count": 3,
      "outputs": [
        {
          "output_type": "stream",
          "name": "stdout",
          "text": [
            "/content\n"
          ]
        }
      ]
    },
    {
      "cell_type": "code",
      "source": [
        "\n",
        "!pip install pytube\n",
        "from pytube import YouTube\n",
        "import os\n",
        "\n",
        "yt = YouTube(\"https://www.youtube.com/watch?v=VBPTFlpv31k&list=PLrAXtmErZgOdP_8GztsuKi9nrraNbKKp4\")\n",
        "stream = yt.streams.filter(progressive=True, file_extension='mp4').order_by('resolution').desc().first()\n",
        "stream.download('wav')\n",
        "\n",
        "os.chdir('./wav')\n",
        "\n",
        "def get_wav(videoname: str):\n",
        "    os.rename(f'{videoname}', '1')\n",
        "    com1 = f\"ffmpeg -i 1 speech.mp3\"\n",
        "    com2 = f\"ffmpeg -i speech.mp3 speech.wav\"\n",
        "    os.system(com1)\n",
        "    os.system(com2)\n",
        "\n",
        "\n",
        "get_wav(\"./Brian Armstrong Coinbase Cryptocurrency and Government Regulation  Lex Fridman Podcast 307.mp4\")\n"
      ],
      "metadata": {
        "colab": {
          "base_uri": "https://localhost:8080/"
        },
        "id": "m9b3PaN3gvb6",
        "outputId": "fb899247-45a5-4b7b-a56a-3d9b9746d780"
      },
      "execution_count": 4,
      "outputs": [
        {
          "output_type": "stream",
          "name": "stdout",
          "text": [
            "Looking in indexes: https://pypi.org/simple, https://us-python.pkg.dev/colab-wheels/public/simple/\n",
            "Requirement already satisfied: pytube in /usr/local/lib/python3.7/dist-packages (12.1.0)\n"
          ]
        }
      ]
    },
    {
      "cell_type": "code",
      "source": [
        "from pyannote.audio import Pipeline\n",
        "DEMO_FILE = '/content/wav/speech.wav'\n",
        "pipeline = Pipeline.from_pretrained('pyannote/speaker-diarization')\n",
        "diarization = pipeline(DEMO_FILE)"
      ],
      "metadata": {
        "colab": {
          "base_uri": "https://localhost:8080/"
        },
        "id": "8EUZiniIEKbz",
        "outputId": "d538b816-f2f0-4e87-953d-a9ed3f3ee00c"
      },
      "execution_count": 5,
      "outputs": [
        {
          "output_type": "stream",
          "name": "stderr",
          "text": [
            "/usr/local/lib/python3.7/dist-packages/resampy/interpn.py:114: NumbaWarning: \u001b[1m\u001b[1mThe TBB threading layer requires TBB version 2019.5 or later i.e., TBB_INTERFACE_VERSION >= 11005. Found TBB_INTERFACE_VERSION = 9107. The TBB threading layer is disabled.\u001b[0m\u001b[0m\n",
            "  _resample_loop_p(x, t_out, interp_win, interp_delta, num_table, scale, y)\n"
          ]
        }
      ]
    },
    {
      "cell_type": "code",
      "source": [
        "import pandas as pd\n",
        "cols = ['start', 'end', 'speaker']\n",
        "l = []\n",
        "for speech_turn, track, speaker in diarization.itertracks(yield_label=True):\n",
        "    #print(f\"{speech_turn.start:4.1f} {speech_turn.end:4.1f} {speaker}\")\n",
        "    l.append([speech_turn.start, speech_turn.end, track])\n",
        "l[0]\n",
        "df = pd.DataFrame(data= l,columns=cols)\n",
        "df"
      ],
      "metadata": {
        "colab": {
          "base_uri": "https://localhost:8080/",
          "height": 424
        },
        "id": "GBQctHOCERsK",
        "outputId": "a9a197f0-854b-4d46-d228-ec0081c623af"
      },
      "execution_count": 6,
      "outputs": [
        {
          "output_type": "execute_result",
          "data": {
            "text/plain": [
              "           start          end  speaker\n",
              "0       0.497812    16.596563        1\n",
              "1      17.372812    47.494688        1\n",
              "2      47.764688    58.007813        1\n",
              "3      58.733438    66.192188        1\n",
              "4      66.782813    98.997187        1\n",
              "..           ...          ...      ...\n",
              "653  8868.833437  8891.564062        1\n",
              "654  8892.239063  8909.063438        0\n",
              "655  8909.350312  8933.059688        1\n",
              "656  8933.279062  8936.519062        0\n",
              "657  8937.514687  8955.689062        1\n",
              "\n",
              "[658 rows x 3 columns]"
            ],
            "text/html": [
              "\n",
              "  <div id=\"df-b6f9cd7f-1aea-4695-ad77-5e6a8b4ca28f\">\n",
              "    <div class=\"colab-df-container\">\n",
              "      <div>\n",
              "<style scoped>\n",
              "    .dataframe tbody tr th:only-of-type {\n",
              "        vertical-align: middle;\n",
              "    }\n",
              "\n",
              "    .dataframe tbody tr th {\n",
              "        vertical-align: top;\n",
              "    }\n",
              "\n",
              "    .dataframe thead th {\n",
              "        text-align: right;\n",
              "    }\n",
              "</style>\n",
              "<table border=\"1\" class=\"dataframe\">\n",
              "  <thead>\n",
              "    <tr style=\"text-align: right;\">\n",
              "      <th></th>\n",
              "      <th>start</th>\n",
              "      <th>end</th>\n",
              "      <th>speaker</th>\n",
              "    </tr>\n",
              "  </thead>\n",
              "  <tbody>\n",
              "    <tr>\n",
              "      <th>0</th>\n",
              "      <td>0.497812</td>\n",
              "      <td>16.596563</td>\n",
              "      <td>1</td>\n",
              "    </tr>\n",
              "    <tr>\n",
              "      <th>1</th>\n",
              "      <td>17.372812</td>\n",
              "      <td>47.494688</td>\n",
              "      <td>1</td>\n",
              "    </tr>\n",
              "    <tr>\n",
              "      <th>2</th>\n",
              "      <td>47.764688</td>\n",
              "      <td>58.007813</td>\n",
              "      <td>1</td>\n",
              "    </tr>\n",
              "    <tr>\n",
              "      <th>3</th>\n",
              "      <td>58.733438</td>\n",
              "      <td>66.192188</td>\n",
              "      <td>1</td>\n",
              "    </tr>\n",
              "    <tr>\n",
              "      <th>4</th>\n",
              "      <td>66.782813</td>\n",
              "      <td>98.997187</td>\n",
              "      <td>1</td>\n",
              "    </tr>\n",
              "    <tr>\n",
              "      <th>...</th>\n",
              "      <td>...</td>\n",
              "      <td>...</td>\n",
              "      <td>...</td>\n",
              "    </tr>\n",
              "    <tr>\n",
              "      <th>653</th>\n",
              "      <td>8868.833437</td>\n",
              "      <td>8891.564062</td>\n",
              "      <td>1</td>\n",
              "    </tr>\n",
              "    <tr>\n",
              "      <th>654</th>\n",
              "      <td>8892.239063</td>\n",
              "      <td>8909.063438</td>\n",
              "      <td>0</td>\n",
              "    </tr>\n",
              "    <tr>\n",
              "      <th>655</th>\n",
              "      <td>8909.350312</td>\n",
              "      <td>8933.059688</td>\n",
              "      <td>1</td>\n",
              "    </tr>\n",
              "    <tr>\n",
              "      <th>656</th>\n",
              "      <td>8933.279062</td>\n",
              "      <td>8936.519062</td>\n",
              "      <td>0</td>\n",
              "    </tr>\n",
              "    <tr>\n",
              "      <th>657</th>\n",
              "      <td>8937.514687</td>\n",
              "      <td>8955.689062</td>\n",
              "      <td>1</td>\n",
              "    </tr>\n",
              "  </tbody>\n",
              "</table>\n",
              "<p>658 rows × 3 columns</p>\n",
              "</div>\n",
              "      <button class=\"colab-df-convert\" onclick=\"convertToInteractive('df-b6f9cd7f-1aea-4695-ad77-5e6a8b4ca28f')\"\n",
              "              title=\"Convert this dataframe to an interactive table.\"\n",
              "              style=\"display:none;\">\n",
              "        \n",
              "  <svg xmlns=\"http://www.w3.org/2000/svg\" height=\"24px\"viewBox=\"0 0 24 24\"\n",
              "       width=\"24px\">\n",
              "    <path d=\"M0 0h24v24H0V0z\" fill=\"none\"/>\n",
              "    <path d=\"M18.56 5.44l.94 2.06.94-2.06 2.06-.94-2.06-.94-.94-2.06-.94 2.06-2.06.94zm-11 1L8.5 8.5l.94-2.06 2.06-.94-2.06-.94L8.5 2.5l-.94 2.06-2.06.94zm10 10l.94 2.06.94-2.06 2.06-.94-2.06-.94-.94-2.06-.94 2.06-2.06.94z\"/><path d=\"M17.41 7.96l-1.37-1.37c-.4-.4-.92-.59-1.43-.59-.52 0-1.04.2-1.43.59L10.3 9.45l-7.72 7.72c-.78.78-.78 2.05 0 2.83L4 21.41c.39.39.9.59 1.41.59.51 0 1.02-.2 1.41-.59l7.78-7.78 2.81-2.81c.8-.78.8-2.07 0-2.86zM5.41 20L4 18.59l7.72-7.72 1.47 1.35L5.41 20z\"/>\n",
              "  </svg>\n",
              "      </button>\n",
              "      \n",
              "  <style>\n",
              "    .colab-df-container {\n",
              "      display:flex;\n",
              "      flex-wrap:wrap;\n",
              "      gap: 12px;\n",
              "    }\n",
              "\n",
              "    .colab-df-convert {\n",
              "      background-color: #E8F0FE;\n",
              "      border: none;\n",
              "      border-radius: 50%;\n",
              "      cursor: pointer;\n",
              "      display: none;\n",
              "      fill: #1967D2;\n",
              "      height: 32px;\n",
              "      padding: 0 0 0 0;\n",
              "      width: 32px;\n",
              "    }\n",
              "\n",
              "    .colab-df-convert:hover {\n",
              "      background-color: #E2EBFA;\n",
              "      box-shadow: 0px 1px 2px rgba(60, 64, 67, 0.3), 0px 1px 3px 1px rgba(60, 64, 67, 0.15);\n",
              "      fill: #174EA6;\n",
              "    }\n",
              "\n",
              "    [theme=dark] .colab-df-convert {\n",
              "      background-color: #3B4455;\n",
              "      fill: #D2E3FC;\n",
              "    }\n",
              "\n",
              "    [theme=dark] .colab-df-convert:hover {\n",
              "      background-color: #434B5C;\n",
              "      box-shadow: 0px 1px 3px 1px rgba(0, 0, 0, 0.15);\n",
              "      filter: drop-shadow(0px 1px 2px rgba(0, 0, 0, 0.3));\n",
              "      fill: #FFFFFF;\n",
              "    }\n",
              "  </style>\n",
              "\n",
              "      <script>\n",
              "        const buttonEl =\n",
              "          document.querySelector('#df-b6f9cd7f-1aea-4695-ad77-5e6a8b4ca28f button.colab-df-convert');\n",
              "        buttonEl.style.display =\n",
              "          google.colab.kernel.accessAllowed ? 'block' : 'none';\n",
              "\n",
              "        async function convertToInteractive(key) {\n",
              "          const element = document.querySelector('#df-b6f9cd7f-1aea-4695-ad77-5e6a8b4ca28f');\n",
              "          const dataTable =\n",
              "            await google.colab.kernel.invokeFunction('convertToInteractive',\n",
              "                                                     [key], {});\n",
              "          if (!dataTable) return;\n",
              "\n",
              "          const docLinkHtml = 'Like what you see? Visit the ' +\n",
              "            '<a target=\"_blank\" href=https://colab.research.google.com/notebooks/data_table.ipynb>data table notebook</a>'\n",
              "            + ' to learn more about interactive tables.';\n",
              "          element.innerHTML = '';\n",
              "          dataTable['output_type'] = 'display_data';\n",
              "          await google.colab.output.renderOutput(dataTable, element);\n",
              "          const docLink = document.createElement('div');\n",
              "          docLink.innerHTML = docLinkHtml;\n",
              "          element.appendChild(docLink);\n",
              "        }\n",
              "      </script>\n",
              "    </div>\n",
              "  </div>\n",
              "  "
            ]
          },
          "metadata": {},
          "execution_count": 6
        }
      ]
    },
    {
      "cell_type": "code",
      "source": [
        "!pip install pydub\n",
        "from pydub import AudioSegment\n",
        "import math\n",
        "\n",
        "class SplitWavAudioMubin():\n",
        "    def __init__(self, folder, filename):\n",
        "        self.folder = folder\n",
        "        self.filename = filename\n",
        "        self.filepath = filename\n",
        "        \n",
        "        self.audio = AudioSegment.from_wav(self.filepath)\n",
        "    \n",
        "    def export_files(self, df, DEMO_FILE):\n",
        "        for i in range(df.shape[0]):\n",
        "            t1 = round(df.loc[i, 'start'] * 1000, 2)\n",
        "            t2 = round(df.loc[i, 'end'] * 1000, 2)\n",
        "            \n",
        "            newAudio = AudioSegment.from_wav(DEMO_FILE)\n",
        "            newAudio = newAudio[t1:t2]\n",
        "            newAudio.export('./' + f'Audio_{i}_file', format=\"wav\")\n",
        "\n",
        "    \n",
        "\n",
        "folder = '.'\n",
        "file = DEMO_FILE\n",
        "split_wav = SplitWavAudioMubin(folder, file)\n",
        "split_wav.export_files(df, DEMO_FILE)"
      ],
      "metadata": {
        "colab": {
          "base_uri": "https://localhost:8080/"
        },
        "id": "nyxOcGqTEiik",
        "outputId": "4e8f37da-45b0-4f03-9929-40b67e8f8715"
      },
      "execution_count": 10,
      "outputs": [
        {
          "output_type": "stream",
          "name": "stdout",
          "text": [
            "Looking in indexes: https://pypi.org/simple, https://us-python.pkg.dev/colab-wheels/public/simple/\n",
            "Requirement already satisfied: pydub in /usr/local/lib/python3.7/dist-packages (0.25.1)\n"
          ]
        }
      ]
    },
    {
      "cell_type": "code",
      "source": [
        "import os\n",
        "\n",
        "import IPython\n",
        "import matplotlib\n",
        "import matplotlib.pyplot as plt\n",
        "import requests\n",
        "import torch\n",
        "import torchaudio\n",
        "\n",
        "matplotlib.rcParams[\"figure.figsize\"] = [16.0, 4.8]\n",
        "\n",
        "torch.random.manual_seed(0)\n",
        "device = torch.device(\"cuda\" if torch.cuda.is_available() else \"cpu\")\n",
        "\n",
        "print(torch.__version__)\n",
        "print(torchaudio.__version__)\n",
        "print(device)\n",
        "\n",
        "SPEECH_FILE = DEMO_FILE"
      ],
      "metadata": {
        "colab": {
          "base_uri": "https://localhost:8080/"
        },
        "id": "5gzsiJ6BEk60",
        "outputId": "aa3b1dec-211c-465a-e95c-ee20619e80c9"
      },
      "execution_count": 12,
      "outputs": [
        {
          "output_type": "stream",
          "name": "stdout",
          "text": [
            "1.11.0+cu102\n",
            "0.11.0+cu102\n",
            "cuda\n"
          ]
        }
      ]
    },
    {
      "cell_type": "code",
      "source": [
        "bundle = torchaudio.pipelines.WAV2VEC2_ASR_BASE_960H\n",
        "\n",
        "print(\"Sample Rate:\", bundle.sample_rate)\n",
        "\n",
        "print(\"Labels:\", bundle.get_labels())"
      ],
      "metadata": {
        "colab": {
          "base_uri": "https://localhost:8080/"
        },
        "id": "ti5MmajVEl6h",
        "outputId": "a9bc2cee-a39d-4dcf-8a05-bdef952e377e"
      },
      "execution_count": 13,
      "outputs": [
        {
          "output_type": "stream",
          "name": "stdout",
          "text": [
            "Sample Rate: 16000\n",
            "Labels: ('-', '|', 'E', 'T', 'A', 'O', 'N', 'I', 'H', 'S', 'R', 'D', 'L', 'U', 'M', 'W', 'C', 'F', 'G', 'Y', 'P', 'B', 'V', 'K', \"'\", 'X', 'J', 'Q', 'Z')\n"
          ]
        }
      ]
    },
    {
      "cell_type": "code",
      "source": [
        "model = bundle.get_model().to(device)\n",
        "\n",
        "print(model.__class__)"
      ],
      "metadata": {
        "colab": {
          "base_uri": "https://localhost:8080/",
          "height": 104,
          "referenced_widgets": [
            "2a611675d46e4599a6df16478126a034",
            "98d588d0da644c83884e580f44be4ece",
            "61118fc859d3443ba796c438b7b28df9",
            "eb697917487d4714ad3f6b03c8009208",
            "08892fd3ef454d09ba94708c00968d7e",
            "cec32a348e4f419cab9f52235e35b212",
            "ef2087ec5c9d429fb698e1a55df87a56",
            "38efcf10fb964cd6adc083fb605a239e",
            "a1bde4af39854c25834b305cf931c579",
            "0e24514cc61449abad706b755a457658",
            "fe8a05228b204972b5edfc0a9de492ab"
          ]
        },
        "id": "4uerFnRFEog8",
        "outputId": "1a889c47-b75e-4599-f339-89694f6bafda"
      },
      "execution_count": 14,
      "outputs": [
        {
          "output_type": "stream",
          "name": "stderr",
          "text": [
            "Downloading: \"https://download.pytorch.org/torchaudio/models/wav2vec2_fairseq_base_ls960_asr_ls960.pth\" to /root/.cache/torch/hub/checkpoints/wav2vec2_fairseq_base_ls960_asr_ls960.pth\n"
          ]
        },
        {
          "output_type": "display_data",
          "data": {
            "text/plain": [
              "  0%|          | 0.00/360M [00:00<?, ?B/s]"
            ],
            "application/vnd.jupyter.widget-view+json": {
              "version_major": 2,
              "version_minor": 0,
              "model_id": "2a611675d46e4599a6df16478126a034"
            }
          },
          "metadata": {}
        },
        {
          "output_type": "stream",
          "name": "stdout",
          "text": [
            "<class 'torchaudio.models.wav2vec2.model.Wav2Vec2Model'>\n"
          ]
        }
      ]
    },
    {
      "cell_type": "code",
      "source": [
        "def load_data_into_stt(bundle, audio_file):\n",
        "    waveform, sample_rate = torchaudio.load(audio_file)\n",
        "    waveform = waveform.to(device)\n",
        "\n",
        "    if sample_rate != bundle.sample_rate:\n",
        "        waveform = torchaudio.functional.resample(waveform, sample_rate, bundle.sample_rate)\n",
        "    return waveform\n"
      ],
      "metadata": {
        "id": "xkv6BxOfEqRX"
      },
      "execution_count": 15,
      "outputs": []
    },
    {
      "cell_type": "code",
      "source": [
        "def feature_extraction(waveform, model):\n",
        "    with torch.inference_mode():\n",
        "        features, _ = model.extract_features(waveform)\n",
        "    return features\n"
      ],
      "metadata": {
        "id": "zwLKcYLzEs_A"
      },
      "execution_count": 16,
      "outputs": []
    },
    {
      "cell_type": "code",
      "source": [
        "class GreedyCTCDecoder(torch.nn.Module):\n",
        "    def __init__(self, labels, blank=0):\n",
        "        super().__init__()\n",
        "        self.labels = labels\n",
        "        self.blank = blank\n",
        "\n",
        "    def forward(self, emission: torch.Tensor) -> str:\n",
        "        \"\"\"Returns: str: The resulting transcript\n",
        "        \"\"\"\n",
        "        indices = torch.argmax(emission, dim=-1)\n",
        "        indices = torch.unique_consecutive(indices, dim=-1)\n",
        "        indices = [i for i in indices if i != self.blank]\n",
        "        return \"\".join([self.labels[i] for i in indices])"
      ],
      "metadata": {
        "id": "NWP_uwpbEut4"
      },
      "execution_count": 17,
      "outputs": []
    },
    {
      "cell_type": "code",
      "source": [
        "def stt(bundle, file):\n",
        "    waveform = load_data_into_stt(bundle, file)\n",
        "    features = feature_extraction(waveform, model)\n",
        "    with torch.inference_mode():\n",
        "        emission, _ = model(waveform)\n",
        "    decoder = GreedyCTCDecoder(labels=bundle.get_labels())\n",
        "    transcript = decoder(emission[0])\n",
        "    return transcript"
      ],
      "metadata": {
        "id": "odNBb0KAE3hm"
      },
      "execution_count": 18,
      "outputs": []
    },
    {
      "cell_type": "code",
      "source": [
        "from os import listdir\n",
        "from os.path import isfile, join\n",
        "\n",
        "\n",
        "\n",
        "onlyfiles = [f for f in listdir('./') if isfile(join('./', f)) and \"Audio\" in f]\n",
        "from tkinter import Tcl\n",
        "onlyfiles = list(Tcl().call('lsort', '-dict', onlyfiles))"
      ],
      "metadata": {
        "id": "CfgLSSstE6iz"
      },
      "execution_count": 19,
      "outputs": []
    },
    {
      "cell_type": "code",
      "source": [
        "def adjust_df(df, bundle, Files):\n",
        "    l = []\n",
        "    for file in Files:\n",
        "        try:\n",
        "            txt = stt(bundle, file).replace('|', ' ').lower()\n",
        "            l.append(txt)\n",
        "        except RuntimeError:\n",
        "            l.append('')\n",
        "            pass\n",
        "    df['text'] = l\n",
        "    return df\n",
        "\n",
        "\n",
        "\n",
        "new_df = adjust_df(df, bundle, onlyfiles)\n",
        "new_df.head(15)"
      ],
      "metadata": {
        "colab": {
          "base_uri": "https://localhost:8080/",
          "height": 520
        },
        "id": "OgdsmyXXJ5qc",
        "outputId": "4dd2aa50-3f2e-468a-ce3c-c1b62a97b7b3"
      },
      "execution_count": 20,
      "outputs": [
        {
          "output_type": "execute_result",
          "data": {
            "text/plain": [
              "         start         end  speaker  \\\n",
              "0     0.497812   16.596563        1   \n",
              "1    17.372812   47.494688        1   \n",
              "2    47.764688   58.007813        1   \n",
              "3    58.733438   66.192188        1   \n",
              "4    66.782813   98.997187        1   \n",
              "5    99.317813  115.500938        1   \n",
              "6   115.079063  115.112813        0   \n",
              "7   115.939688  168.252187        0   \n",
              "8   168.269063  193.244062        0   \n",
              "9   193.328438  193.345313        0   \n",
              "10  193.345313  196.568438        1   \n",
              "11  198.475313  218.489062        1   \n",
              "12  212.549062  212.599688        0   \n",
              "13  217.155937  217.392188        0   \n",
              "14  218.877187  223.332188        0   \n",
              "\n",
              "                                                 text  \n",
              "0   ing is a conversation of brinarmstrong cofonde...  \n",
              "1   i recorded this conversation with brian before...  \n",
              "2   our world runs on money the exchange and store...  \n",
              "3   corn base and briane are trying to do this by ...  \n",
              "4   biracrisies resist change for better and for w...  \n",
              "5   this is thalex freadmen potgast te support it ...  \n",
              "6                                                      \n",
              "7   the first memory i have of programing was prob...  \n",
              "8   but it was so i felt like i was so confused ab...  \n",
              "9                                                      \n",
              "10                yeh you know jolla has a lot of va   \n",
              "11  out of all the hollow worlds it can possibly w...  \n",
              "12                                                     \n",
              "13                                                     \n",
              "14  probably better it's easer to learnge lowers t...  "
            ],
            "text/html": [
              "\n",
              "  <div id=\"df-fb991e3a-2546-4d37-a4b6-f99ab2a6ddd7\">\n",
              "    <div class=\"colab-df-container\">\n",
              "      <div>\n",
              "<style scoped>\n",
              "    .dataframe tbody tr th:only-of-type {\n",
              "        vertical-align: middle;\n",
              "    }\n",
              "\n",
              "    .dataframe tbody tr th {\n",
              "        vertical-align: top;\n",
              "    }\n",
              "\n",
              "    .dataframe thead th {\n",
              "        text-align: right;\n",
              "    }\n",
              "</style>\n",
              "<table border=\"1\" class=\"dataframe\">\n",
              "  <thead>\n",
              "    <tr style=\"text-align: right;\">\n",
              "      <th></th>\n",
              "      <th>start</th>\n",
              "      <th>end</th>\n",
              "      <th>speaker</th>\n",
              "      <th>text</th>\n",
              "    </tr>\n",
              "  </thead>\n",
              "  <tbody>\n",
              "    <tr>\n",
              "      <th>0</th>\n",
              "      <td>0.497812</td>\n",
              "      <td>16.596563</td>\n",
              "      <td>1</td>\n",
              "      <td>ing is a conversation of brinarmstrong cofonde...</td>\n",
              "    </tr>\n",
              "    <tr>\n",
              "      <th>1</th>\n",
              "      <td>17.372812</td>\n",
              "      <td>47.494688</td>\n",
              "      <td>1</td>\n",
              "      <td>i recorded this conversation with brian before...</td>\n",
              "    </tr>\n",
              "    <tr>\n",
              "      <th>2</th>\n",
              "      <td>47.764688</td>\n",
              "      <td>58.007813</td>\n",
              "      <td>1</td>\n",
              "      <td>our world runs on money the exchange and store...</td>\n",
              "    </tr>\n",
              "    <tr>\n",
              "      <th>3</th>\n",
              "      <td>58.733438</td>\n",
              "      <td>66.192188</td>\n",
              "      <td>1</td>\n",
              "      <td>corn base and briane are trying to do this by ...</td>\n",
              "    </tr>\n",
              "    <tr>\n",
              "      <th>4</th>\n",
              "      <td>66.782813</td>\n",
              "      <td>98.997187</td>\n",
              "      <td>1</td>\n",
              "      <td>biracrisies resist change for better and for w...</td>\n",
              "    </tr>\n",
              "    <tr>\n",
              "      <th>5</th>\n",
              "      <td>99.317813</td>\n",
              "      <td>115.500938</td>\n",
              "      <td>1</td>\n",
              "      <td>this is thalex freadmen potgast te support it ...</td>\n",
              "    </tr>\n",
              "    <tr>\n",
              "      <th>6</th>\n",
              "      <td>115.079063</td>\n",
              "      <td>115.112813</td>\n",
              "      <td>0</td>\n",
              "      <td></td>\n",
              "    </tr>\n",
              "    <tr>\n",
              "      <th>7</th>\n",
              "      <td>115.939688</td>\n",
              "      <td>168.252187</td>\n",
              "      <td>0</td>\n",
              "      <td>the first memory i have of programing was prob...</td>\n",
              "    </tr>\n",
              "    <tr>\n",
              "      <th>8</th>\n",
              "      <td>168.269063</td>\n",
              "      <td>193.244062</td>\n",
              "      <td>0</td>\n",
              "      <td>but it was so i felt like i was so confused ab...</td>\n",
              "    </tr>\n",
              "    <tr>\n",
              "      <th>9</th>\n",
              "      <td>193.328438</td>\n",
              "      <td>193.345313</td>\n",
              "      <td>0</td>\n",
              "      <td></td>\n",
              "    </tr>\n",
              "    <tr>\n",
              "      <th>10</th>\n",
              "      <td>193.345313</td>\n",
              "      <td>196.568438</td>\n",
              "      <td>1</td>\n",
              "      <td>yeh you know jolla has a lot of va</td>\n",
              "    </tr>\n",
              "    <tr>\n",
              "      <th>11</th>\n",
              "      <td>198.475313</td>\n",
              "      <td>218.489062</td>\n",
              "      <td>1</td>\n",
              "      <td>out of all the hollow worlds it can possibly w...</td>\n",
              "    </tr>\n",
              "    <tr>\n",
              "      <th>12</th>\n",
              "      <td>212.549062</td>\n",
              "      <td>212.599688</td>\n",
              "      <td>0</td>\n",
              "      <td></td>\n",
              "    </tr>\n",
              "    <tr>\n",
              "      <th>13</th>\n",
              "      <td>217.155937</td>\n",
              "      <td>217.392188</td>\n",
              "      <td>0</td>\n",
              "      <td></td>\n",
              "    </tr>\n",
              "    <tr>\n",
              "      <th>14</th>\n",
              "      <td>218.877187</td>\n",
              "      <td>223.332188</td>\n",
              "      <td>0</td>\n",
              "      <td>probably better it's easer to learnge lowers t...</td>\n",
              "    </tr>\n",
              "  </tbody>\n",
              "</table>\n",
              "</div>\n",
              "      <button class=\"colab-df-convert\" onclick=\"convertToInteractive('df-fb991e3a-2546-4d37-a4b6-f99ab2a6ddd7')\"\n",
              "              title=\"Convert this dataframe to an interactive table.\"\n",
              "              style=\"display:none;\">\n",
              "        \n",
              "  <svg xmlns=\"http://www.w3.org/2000/svg\" height=\"24px\"viewBox=\"0 0 24 24\"\n",
              "       width=\"24px\">\n",
              "    <path d=\"M0 0h24v24H0V0z\" fill=\"none\"/>\n",
              "    <path d=\"M18.56 5.44l.94 2.06.94-2.06 2.06-.94-2.06-.94-.94-2.06-.94 2.06-2.06.94zm-11 1L8.5 8.5l.94-2.06 2.06-.94-2.06-.94L8.5 2.5l-.94 2.06-2.06.94zm10 10l.94 2.06.94-2.06 2.06-.94-2.06-.94-.94-2.06-.94 2.06-2.06.94z\"/><path d=\"M17.41 7.96l-1.37-1.37c-.4-.4-.92-.59-1.43-.59-.52 0-1.04.2-1.43.59L10.3 9.45l-7.72 7.72c-.78.78-.78 2.05 0 2.83L4 21.41c.39.39.9.59 1.41.59.51 0 1.02-.2 1.41-.59l7.78-7.78 2.81-2.81c.8-.78.8-2.07 0-2.86zM5.41 20L4 18.59l7.72-7.72 1.47 1.35L5.41 20z\"/>\n",
              "  </svg>\n",
              "      </button>\n",
              "      \n",
              "  <style>\n",
              "    .colab-df-container {\n",
              "      display:flex;\n",
              "      flex-wrap:wrap;\n",
              "      gap: 12px;\n",
              "    }\n",
              "\n",
              "    .colab-df-convert {\n",
              "      background-color: #E8F0FE;\n",
              "      border: none;\n",
              "      border-radius: 50%;\n",
              "      cursor: pointer;\n",
              "      display: none;\n",
              "      fill: #1967D2;\n",
              "      height: 32px;\n",
              "      padding: 0 0 0 0;\n",
              "      width: 32px;\n",
              "    }\n",
              "\n",
              "    .colab-df-convert:hover {\n",
              "      background-color: #E2EBFA;\n",
              "      box-shadow: 0px 1px 2px rgba(60, 64, 67, 0.3), 0px 1px 3px 1px rgba(60, 64, 67, 0.15);\n",
              "      fill: #174EA6;\n",
              "    }\n",
              "\n",
              "    [theme=dark] .colab-df-convert {\n",
              "      background-color: #3B4455;\n",
              "      fill: #D2E3FC;\n",
              "    }\n",
              "\n",
              "    [theme=dark] .colab-df-convert:hover {\n",
              "      background-color: #434B5C;\n",
              "      box-shadow: 0px 1px 3px 1px rgba(0, 0, 0, 0.15);\n",
              "      filter: drop-shadow(0px 1px 2px rgba(0, 0, 0, 0.3));\n",
              "      fill: #FFFFFF;\n",
              "    }\n",
              "  </style>\n",
              "\n",
              "      <script>\n",
              "        const buttonEl =\n",
              "          document.querySelector('#df-fb991e3a-2546-4d37-a4b6-f99ab2a6ddd7 button.colab-df-convert');\n",
              "        buttonEl.style.display =\n",
              "          google.colab.kernel.accessAllowed ? 'block' : 'none';\n",
              "\n",
              "        async function convertToInteractive(key) {\n",
              "          const element = document.querySelector('#df-fb991e3a-2546-4d37-a4b6-f99ab2a6ddd7');\n",
              "          const dataTable =\n",
              "            await google.colab.kernel.invokeFunction('convertToInteractive',\n",
              "                                                     [key], {});\n",
              "          if (!dataTable) return;\n",
              "\n",
              "          const docLinkHtml = 'Like what you see? Visit the ' +\n",
              "            '<a target=\"_blank\" href=https://colab.research.google.com/notebooks/data_table.ipynb>data table notebook</a>'\n",
              "            + ' to learn more about interactive tables.';\n",
              "          element.innerHTML = '';\n",
              "          dataTable['output_type'] = 'display_data';\n",
              "          await google.colab.output.renderOutput(dataTable, element);\n",
              "          const docLink = document.createElement('div');\n",
              "          docLink.innerHTML = docLinkHtml;\n",
              "          element.appendChild(docLink);\n",
              "        }\n",
              "      </script>\n",
              "    </div>\n",
              "  </div>\n",
              "  "
            ]
          },
          "metadata": {},
          "execution_count": 20
        }
      ]
    },
    {
      "cell_type": "code",
      "source": [
        "(new_df.text  == '').value_counts()"
      ],
      "metadata": {
        "colab": {
          "base_uri": "https://localhost:8080/"
        },
        "id": "pvcMudvDm1k0",
        "outputId": "4a26125b-b468-4977-d889-702e397ce077"
      },
      "execution_count": 25,
      "outputs": [
        {
          "output_type": "execute_result",
          "data": {
            "text/plain": [
              "False    512\n",
              "True     146\n",
              "Name: text, dtype: int64"
            ]
          },
          "metadata": {},
          "execution_count": 25
        }
      ]
    },
    {
      "cell_type": "code",
      "source": [
        "def lemmatizing(list):\n",
        "    wnl = WordNetLemmatizer()\n",
        "    lemmatized_list = []\n",
        "    for words in list:\n",
        "        lemmatized_list.append(wnl.lemmatize(words))\n",
        "    return lemmatized_list\n",
        "\n",
        "\n",
        "import nltk\n",
        "from nltk.stem import WordNetLemmatizer\n",
        "nltk.download('averaged_perceptron_tagger')\n",
        "from nltk.corpus import wordnet\n",
        " \n",
        "lemmatizer = WordNetLemmatizer()\n",
        "\n",
        "def applay_lemmatization2(df):\n",
        "    new_df = []\n",
        "    wnl = WordNetLemmatizer()\n",
        "    for i in range(len(df)):\n",
        "        pos_tagged = nltk.pos_tag(nltk.word_tokenize(df['text'][i]))\n",
        "        wordnet_tagged = list(map(lambda x: (x[0], pos_tagger(x[1])), pos_tagged))\n",
        "        lemmatized_sentence = []\n",
        "        for word, tag in wordnet_tagged:\n",
        "            if tag is None:\n",
        "                lemmatized_sentence.append(word)\n",
        "            else:       \n",
        "                lemmatized_sentence.append(lemmatizer.lemmatize(word, tag))\n",
        "        new_df.append( \" \".join(lemmatized_sentence))\n",
        "\n",
        "    return new_df\n",
        "\n",
        "\n",
        "\n",
        "def pos_tagger(nltk_tag):\n",
        "    if nltk_tag.startswith('J'):\n",
        "        return wordnet.ADJ\n",
        "    elif nltk_tag.startswith('V'):\n",
        "        return wordnet.VERB\n",
        "    elif nltk_tag.startswith('N'):\n",
        "        return wordnet.NOUN\n",
        "    elif nltk_tag.startswith('R'):\n",
        "        return wordnet.ADV\n",
        "    else:         \n",
        "        return None\n",
        "\n",
        "\n"
      ],
      "metadata": {
        "id": "nhKtuiOXLEA-",
        "colab": {
          "base_uri": "https://localhost:8080/"
        },
        "outputId": "f1c873cb-ab4e-491a-a6fb-19ce6e048e73"
      },
      "execution_count": 26,
      "outputs": [
        {
          "output_type": "stream",
          "name": "stderr",
          "text": [
            "[nltk_data] Downloading package averaged_perceptron_tagger to\n",
            "[nltk_data]     /root/nltk_data...\n",
            "[nltk_data]   Unzipping taggers/averaged_perceptron_tagger.zip.\n"
          ]
        }
      ]
    },
    {
      "cell_type": "code",
      "source": [
        "import nltk\n",
        "nltk.download(\"wordnet\")\n",
        "nltk.download('omw-1.4')\n",
        "nltk.download('punkt')"
      ],
      "metadata": {
        "colab": {
          "base_uri": "https://localhost:8080/"
        },
        "id": "G76cTKoXqlLF",
        "outputId": "9bdca494-3108-4890-febc-ecd7b8c72ba4"
      },
      "execution_count": 33,
      "outputs": [
        {
          "output_type": "stream",
          "name": "stderr",
          "text": [
            "[nltk_data] Downloading package wordnet to /root/nltk_data...\n",
            "[nltk_data]   Package wordnet is already up-to-date!\n",
            "[nltk_data] Downloading package omw-1.4 to /root/nltk_data...\n",
            "[nltk_data] Downloading package punkt to /root/nltk_data...\n",
            "[nltk_data]   Package punkt is already up-to-date!\n"
          ]
        },
        {
          "output_type": "execute_result",
          "data": {
            "text/plain": [
              "True"
            ]
          },
          "metadata": {},
          "execution_count": 33
        }
      ]
    },
    {
      "cell_type": "code",
      "source": [
        "new_df['text'] = applay_lemmatization2(df)"
      ],
      "metadata": {
        "id": "fzB7P58exFo4"
      },
      "execution_count": 34,
      "outputs": []
    },
    {
      "cell_type": "code",
      "source": [
        "new_df.head(-5)"
      ],
      "metadata": {
        "colab": {
          "base_uri": "https://localhost:8080/",
          "height": 424
        },
        "id": "WYKQdwQUre_a",
        "outputId": "00a5748d-f1b8-4d95-b909-f1a10b2222dd"
      },
      "execution_count": 36,
      "outputs": [
        {
          "output_type": "execute_result",
          "data": {
            "text/plain": [
              "           start          end  speaker  \\\n",
              "0       0.497812    16.596563        1   \n",
              "1      17.372812    47.494688        1   \n",
              "2      47.764688    58.007813        1   \n",
              "3      58.733438    66.192188        1   \n",
              "4      66.782813    98.997187        1   \n",
              "..           ...          ...      ...   \n",
              "648  8747.299687  8789.487187        0   \n",
              "649  8789.740312  8794.937813        0   \n",
              "650  8795.528438  8798.616562        0   \n",
              "651  8798.768437  8813.567812        0   \n",
              "652  8814.040313  8868.732187        0   \n",
              "\n",
              "                                                  text  \n",
              "0    ing be a conversation of brinarmstrong cofonde...  \n",
              "1    i record this conversation with brian before t...  \n",
              "2    our world run on money the exchange and store ...  \n",
              "3    corn base and briane be try to do this by work...  \n",
              "4    biracrisies resist change for good and for bad...  \n",
              "..                                                 ...  \n",
              "648  that 's crazy and i have iad never start like ...  \n",
              "649  seven year a no it 's prbabym mike ten year of...  \n",
              "650  um qrenby 's have a valuation over a million d...  \n",
              "651  so it it be out of my realm of what be even po...  \n",
              "652  i want to get a billion people access the open...  \n",
              "\n",
              "[653 rows x 4 columns]"
            ],
            "text/html": [
              "\n",
              "  <div id=\"df-0d4bd352-c53e-46f0-a555-9cb452d27022\">\n",
              "    <div class=\"colab-df-container\">\n",
              "      <div>\n",
              "<style scoped>\n",
              "    .dataframe tbody tr th:only-of-type {\n",
              "        vertical-align: middle;\n",
              "    }\n",
              "\n",
              "    .dataframe tbody tr th {\n",
              "        vertical-align: top;\n",
              "    }\n",
              "\n",
              "    .dataframe thead th {\n",
              "        text-align: right;\n",
              "    }\n",
              "</style>\n",
              "<table border=\"1\" class=\"dataframe\">\n",
              "  <thead>\n",
              "    <tr style=\"text-align: right;\">\n",
              "      <th></th>\n",
              "      <th>start</th>\n",
              "      <th>end</th>\n",
              "      <th>speaker</th>\n",
              "      <th>text</th>\n",
              "    </tr>\n",
              "  </thead>\n",
              "  <tbody>\n",
              "    <tr>\n",
              "      <th>0</th>\n",
              "      <td>0.497812</td>\n",
              "      <td>16.596563</td>\n",
              "      <td>1</td>\n",
              "      <td>ing be a conversation of brinarmstrong cofonde...</td>\n",
              "    </tr>\n",
              "    <tr>\n",
              "      <th>1</th>\n",
              "      <td>17.372812</td>\n",
              "      <td>47.494688</td>\n",
              "      <td>1</td>\n",
              "      <td>i record this conversation with brian before t...</td>\n",
              "    </tr>\n",
              "    <tr>\n",
              "      <th>2</th>\n",
              "      <td>47.764688</td>\n",
              "      <td>58.007813</td>\n",
              "      <td>1</td>\n",
              "      <td>our world run on money the exchange and store ...</td>\n",
              "    </tr>\n",
              "    <tr>\n",
              "      <th>3</th>\n",
              "      <td>58.733438</td>\n",
              "      <td>66.192188</td>\n",
              "      <td>1</td>\n",
              "      <td>corn base and briane be try to do this by work...</td>\n",
              "    </tr>\n",
              "    <tr>\n",
              "      <th>4</th>\n",
              "      <td>66.782813</td>\n",
              "      <td>98.997187</td>\n",
              "      <td>1</td>\n",
              "      <td>biracrisies resist change for good and for bad...</td>\n",
              "    </tr>\n",
              "    <tr>\n",
              "      <th>...</th>\n",
              "      <td>...</td>\n",
              "      <td>...</td>\n",
              "      <td>...</td>\n",
              "      <td>...</td>\n",
              "    </tr>\n",
              "    <tr>\n",
              "      <th>648</th>\n",
              "      <td>8747.299687</td>\n",
              "      <td>8789.487187</td>\n",
              "      <td>0</td>\n",
              "      <td>that 's crazy and i have iad never start like ...</td>\n",
              "    </tr>\n",
              "    <tr>\n",
              "      <th>649</th>\n",
              "      <td>8789.740312</td>\n",
              "      <td>8794.937813</td>\n",
              "      <td>0</td>\n",
              "      <td>seven year a no it 's prbabym mike ten year of...</td>\n",
              "    </tr>\n",
              "    <tr>\n",
              "      <th>650</th>\n",
              "      <td>8795.528438</td>\n",
              "      <td>8798.616562</td>\n",
              "      <td>0</td>\n",
              "      <td>um qrenby 's have a valuation over a million d...</td>\n",
              "    </tr>\n",
              "    <tr>\n",
              "      <th>651</th>\n",
              "      <td>8798.768437</td>\n",
              "      <td>8813.567812</td>\n",
              "      <td>0</td>\n",
              "      <td>so it it be out of my realm of what be even po...</td>\n",
              "    </tr>\n",
              "    <tr>\n",
              "      <th>652</th>\n",
              "      <td>8814.040313</td>\n",
              "      <td>8868.732187</td>\n",
              "      <td>0</td>\n",
              "      <td>i want to get a billion people access the open...</td>\n",
              "    </tr>\n",
              "  </tbody>\n",
              "</table>\n",
              "<p>653 rows × 4 columns</p>\n",
              "</div>\n",
              "      <button class=\"colab-df-convert\" onclick=\"convertToInteractive('df-0d4bd352-c53e-46f0-a555-9cb452d27022')\"\n",
              "              title=\"Convert this dataframe to an interactive table.\"\n",
              "              style=\"display:none;\">\n",
              "        \n",
              "  <svg xmlns=\"http://www.w3.org/2000/svg\" height=\"24px\"viewBox=\"0 0 24 24\"\n",
              "       width=\"24px\">\n",
              "    <path d=\"M0 0h24v24H0V0z\" fill=\"none\"/>\n",
              "    <path d=\"M18.56 5.44l.94 2.06.94-2.06 2.06-.94-2.06-.94-.94-2.06-.94 2.06-2.06.94zm-11 1L8.5 8.5l.94-2.06 2.06-.94-2.06-.94L8.5 2.5l-.94 2.06-2.06.94zm10 10l.94 2.06.94-2.06 2.06-.94-2.06-.94-.94-2.06-.94 2.06-2.06.94z\"/><path d=\"M17.41 7.96l-1.37-1.37c-.4-.4-.92-.59-1.43-.59-.52 0-1.04.2-1.43.59L10.3 9.45l-7.72 7.72c-.78.78-.78 2.05 0 2.83L4 21.41c.39.39.9.59 1.41.59.51 0 1.02-.2 1.41-.59l7.78-7.78 2.81-2.81c.8-.78.8-2.07 0-2.86zM5.41 20L4 18.59l7.72-7.72 1.47 1.35L5.41 20z\"/>\n",
              "  </svg>\n",
              "      </button>\n",
              "      \n",
              "  <style>\n",
              "    .colab-df-container {\n",
              "      display:flex;\n",
              "      flex-wrap:wrap;\n",
              "      gap: 12px;\n",
              "    }\n",
              "\n",
              "    .colab-df-convert {\n",
              "      background-color: #E8F0FE;\n",
              "      border: none;\n",
              "      border-radius: 50%;\n",
              "      cursor: pointer;\n",
              "      display: none;\n",
              "      fill: #1967D2;\n",
              "      height: 32px;\n",
              "      padding: 0 0 0 0;\n",
              "      width: 32px;\n",
              "    }\n",
              "\n",
              "    .colab-df-convert:hover {\n",
              "      background-color: #E2EBFA;\n",
              "      box-shadow: 0px 1px 2px rgba(60, 64, 67, 0.3), 0px 1px 3px 1px rgba(60, 64, 67, 0.15);\n",
              "      fill: #174EA6;\n",
              "    }\n",
              "\n",
              "    [theme=dark] .colab-df-convert {\n",
              "      background-color: #3B4455;\n",
              "      fill: #D2E3FC;\n",
              "    }\n",
              "\n",
              "    [theme=dark] .colab-df-convert:hover {\n",
              "      background-color: #434B5C;\n",
              "      box-shadow: 0px 1px 3px 1px rgba(0, 0, 0, 0.15);\n",
              "      filter: drop-shadow(0px 1px 2px rgba(0, 0, 0, 0.3));\n",
              "      fill: #FFFFFF;\n",
              "    }\n",
              "  </style>\n",
              "\n",
              "      <script>\n",
              "        const buttonEl =\n",
              "          document.querySelector('#df-0d4bd352-c53e-46f0-a555-9cb452d27022 button.colab-df-convert');\n",
              "        buttonEl.style.display =\n",
              "          google.colab.kernel.accessAllowed ? 'block' : 'none';\n",
              "\n",
              "        async function convertToInteractive(key) {\n",
              "          const element = document.querySelector('#df-0d4bd352-c53e-46f0-a555-9cb452d27022');\n",
              "          const dataTable =\n",
              "            await google.colab.kernel.invokeFunction('convertToInteractive',\n",
              "                                                     [key], {});\n",
              "          if (!dataTable) return;\n",
              "\n",
              "          const docLinkHtml = 'Like what you see? Visit the ' +\n",
              "            '<a target=\"_blank\" href=https://colab.research.google.com/notebooks/data_table.ipynb>data table notebook</a>'\n",
              "            + ' to learn more about interactive tables.';\n",
              "          element.innerHTML = '';\n",
              "          dataTable['output_type'] = 'display_data';\n",
              "          await google.colab.output.renderOutput(dataTable, element);\n",
              "          const docLink = document.createElement('div');\n",
              "          docLink.innerHTML = docLinkHtml;\n",
              "          element.appendChild(docLink);\n",
              "        }\n",
              "      </script>\n",
              "    </div>\n",
              "  </div>\n",
              "  "
            ]
          },
          "metadata": {},
          "execution_count": 36
        }
      ]
    },
    {
      "cell_type": "code",
      "source": [
        "df = new_df"
      ],
      "metadata": {
        "id": "o6jcUxTrqhFT"
      },
      "execution_count": 37,
      "outputs": []
    },
    {
      "cell_type": "code",
      "source": [
        "!pip install pyLDAvis"
      ],
      "metadata": {
        "colab": {
          "base_uri": "https://localhost:8080/"
        },
        "id": "G-Gaq2Skr0sY",
        "outputId": "3f859bd5-9715-4131-c867-f860ea74da48"
      },
      "execution_count": 38,
      "outputs": [
        {
          "output_type": "stream",
          "name": "stdout",
          "text": [
            "Looking in indexes: https://pypi.org/simple, https://us-python.pkg.dev/colab-wheels/public/simple/\n",
            "Collecting pyLDAvis\n",
            "  Downloading pyLDAvis-3.3.1.tar.gz (1.7 MB)\n",
            "\u001b[K     |████████████████████████████████| 1.7 MB 10.2 MB/s \n",
            "\u001b[?25h  Installing build dependencies ... \u001b[?25l\u001b[?25hdone\n",
            "  Getting requirements to build wheel ... \u001b[?25l\u001b[?25hdone\n",
            "  Installing backend dependencies ... \u001b[?25l\u001b[?25hdone\n",
            "    Preparing wheel metadata ... \u001b[?25l\u001b[?25hdone\n",
            "Requirement already satisfied: future in /usr/local/lib/python3.7/dist-packages (from pyLDAvis) (0.16.0)\n",
            "Collecting funcy\n",
            "  Downloading funcy-1.17-py2.py3-none-any.whl (33 kB)\n",
            "Requirement already satisfied: numexpr in /usr/local/lib/python3.7/dist-packages (from pyLDAvis) (2.8.3)\n",
            "Requirement already satisfied: scipy in /usr/local/lib/python3.7/dist-packages (from pyLDAvis) (1.7.3)\n",
            "Requirement already satisfied: sklearn in /usr/local/lib/python3.7/dist-packages (from pyLDAvis) (0.0)\n",
            "Requirement already satisfied: jinja2 in /usr/local/lib/python3.7/dist-packages (from pyLDAvis) (2.11.3)\n",
            "Requirement already satisfied: numpy>=1.20.0 in /usr/local/lib/python3.7/dist-packages (from pyLDAvis) (1.21.6)\n",
            "Requirement already satisfied: gensim in /usr/local/lib/python3.7/dist-packages (from pyLDAvis) (3.6.0)\n",
            "Requirement already satisfied: joblib in /usr/local/lib/python3.7/dist-packages (from pyLDAvis) (1.1.0)\n",
            "Requirement already satisfied: setuptools in /usr/local/lib/python3.7/dist-packages (from pyLDAvis) (57.4.0)\n",
            "Requirement already satisfied: scikit-learn in /usr/local/lib/python3.7/dist-packages (from pyLDAvis) (1.0.2)\n",
            "Requirement already satisfied: pandas>=1.2.0 in /usr/local/lib/python3.7/dist-packages (from pyLDAvis) (1.3.5)\n",
            "Requirement already satisfied: pytz>=2017.3 in /usr/local/lib/python3.7/dist-packages (from pandas>=1.2.0->pyLDAvis) (2022.1)\n",
            "Requirement already satisfied: python-dateutil>=2.7.3 in /usr/local/lib/python3.7/dist-packages (from pandas>=1.2.0->pyLDAvis) (2.8.2)\n",
            "Requirement already satisfied: six>=1.5 in /usr/local/lib/python3.7/dist-packages (from python-dateutil>=2.7.3->pandas>=1.2.0->pyLDAvis) (1.15.0)\n",
            "Requirement already satisfied: smart-open>=1.2.1 in /usr/local/lib/python3.7/dist-packages (from gensim->pyLDAvis) (5.2.1)\n",
            "Requirement already satisfied: MarkupSafe>=0.23 in /usr/local/lib/python3.7/dist-packages (from jinja2->pyLDAvis) (2.0.1)\n",
            "Requirement already satisfied: packaging in /usr/local/lib/python3.7/dist-packages (from numexpr->pyLDAvis) (21.3)\n",
            "Requirement already satisfied: pyparsing!=3.0.5,>=2.0.2 in /usr/local/lib/python3.7/dist-packages (from packaging->numexpr->pyLDAvis) (3.0.9)\n",
            "Requirement already satisfied: threadpoolctl>=2.0.0 in /usr/local/lib/python3.7/dist-packages (from scikit-learn->pyLDAvis) (3.1.0)\n",
            "Building wheels for collected packages: pyLDAvis\n",
            "  Building wheel for pyLDAvis (PEP 517) ... \u001b[?25l\u001b[?25hdone\n",
            "  Created wheel for pyLDAvis: filename=pyLDAvis-3.3.1-py2.py3-none-any.whl size=136898 sha256=b083045c4507a8b58c8a8d4ab6ffd738c34b99b4250a9213b037d871fa9bdef5\n",
            "  Stored in directory: /root/.cache/pip/wheels/c9/21/f6/17bcf2667e8a68532ba2fbf6d5c72fdf4c7f7d9abfa4852d2f\n",
            "Successfully built pyLDAvis\n",
            "Installing collected packages: funcy, pyLDAvis\n",
            "Successfully installed funcy-1.17 pyLDAvis-3.3.1\n"
          ]
        }
      ]
    },
    {
      "cell_type": "code",
      "source": [
        "import urllib.request\n",
        "import random\n",
        "import re\n",
        "import string\n",
        "from warnings import filterwarnings\n",
        "filterwarnings('ignore')\n",
        "import numpy as np\n",
        "import pandas as pd\n",
        "\n",
        "import nltk as nl\n",
        "from nltk.tokenize import word_tokenize\n",
        "from nltk.corpus import stopwords\n",
        "from nltk.corpus import gutenberg\n",
        "from warnings import filterwarnings\n",
        "filterwarnings('ignore')\n",
        "nl.download('stopwords')\n",
        "nl.download('wordnet')\n",
        "nl.download('punkt')\n",
        "nl.download('omw-1.4')\n",
        "stop_words=set(stopwords.words(\"english\"))\n",
        "\n",
        "from pprint import pprint\n",
        "import pyLDAvis.gensim_models as gensimvis\n",
        "import gensim.corpora as corpora\n",
        "import gensim\n",
        "import pyLDAvis\n",
        "\n",
        "from sklearn.feature_extraction.text import TfidfVectorizer\n",
        "from sklearn import preprocessing\n",
        "from sklearn.preprocessing import label_binarize, LabelEncoder\n",
        "le = LabelEncoder()\n",
        "from sklearn.model_selection import train_test_split\n",
        "from sklearn.feature_extraction.text import CountVectorizer, TfidfTransformer"
      ],
      "metadata": {
        "colab": {
          "base_uri": "https://localhost:8080/"
        },
        "id": "pyr5GrD7sdF_",
        "outputId": "61c1c5af-90f0-4fc6-89cd-861ce4a39c22"
      },
      "execution_count": 39,
      "outputs": [
        {
          "output_type": "stream",
          "name": "stderr",
          "text": [
            "[nltk_data] Downloading package stopwords to /root/nltk_data...\n",
            "[nltk_data]   Unzipping corpora/stopwords.zip.\n",
            "[nltk_data] Downloading package wordnet to /root/nltk_data...\n",
            "[nltk_data]   Package wordnet is already up-to-date!\n",
            "[nltk_data] Downloading package punkt to /root/nltk_data...\n",
            "[nltk_data]   Package punkt is already up-to-date!\n",
            "[nltk_data] Downloading package omw-1.4 to /root/nltk_data...\n",
            "[nltk_data]   Package omw-1.4 is already up-to-date!\n",
            "/usr/local/lib/python3.7/dist-packages/past/types/oldstr.py:5: DeprecationWarning: Using or importing the ABCs from 'collections' instead of from 'collections.abc' is deprecated since Python 3.3,and in 3.9 it will stop working\n",
            "  from collections import Iterable\n",
            "/usr/local/lib/python3.7/dist-packages/past/builtins/misc.py:4: DeprecationWarning: Using or importing the ABCs from 'collections' instead of from 'collections.abc' is deprecated since Python 3.3,and in 3.9 it will stop working\n",
            "  from collections import Mapping\n",
            "/usr/local/lib/python3.7/dist-packages/scipy/sparse/sparsetools.py:21: DeprecationWarning: `scipy.sparse.sparsetools` is deprecated!\n",
            "scipy.sparse.sparsetools is a private module for scipy.sparse, and should not be used.\n",
            "  _deprecated()\n"
          ]
        }
      ]
    },
    {
      "cell_type": "code",
      "source": [
        "from sklearn.neural_network import MLPClassifier\n",
        "from sklearn.metrics import accuracy_score\n",
        "def MLP(X , y):\n",
        "    model_MLP = MLPClassifier(random_state=1, max_iter=10)\n",
        "    model_MLP.fit(X , y)\n",
        "    y_MLP = model_MLP.predict(X)\n",
        "    print(accuracy_score(y, y_MLP))\n",
        "    return model_MLP, y_MLP"
      ],
      "metadata": {
        "id": "BbAm0XTXspTo"
      },
      "execution_count": 40,
      "outputs": []
    },
    {
      "cell_type": "code",
      "source": [
        "from sklearn.cluster import KMeans\n",
        "def K_means(X):\n",
        "    model_km = KMeans(n_clusters=5, init='k-means++', n_init=10, random_state=42)\n",
        "    model_km.fit(X)\n",
        "    y_km = model_km.fit_predict(X)\n",
        "    return model_km, y_km"
      ],
      "metadata": {
        "id": "m1jMh59Bsw-L"
      },
      "execution_count": 41,
      "outputs": []
    },
    {
      "cell_type": "code",
      "source": [
        "from sklearn.naive_bayes import GaussianNB\n",
        "def NB(x , y ):\n",
        "  gnb = GaussianNB()\n",
        "  model_NB = gnb.fit(x, y)\n",
        "  y_NB = model_NB.predict(x)\n",
        "  print(accuracy_score(y, y_NB))\n",
        "  return gnb, y_NB"
      ],
      "metadata": {
        "id": "r7bZFl0pszba"
      },
      "execution_count": 42,
      "outputs": []
    },
    {
      "cell_type": "code",
      "source": [
        "from sklearn.svm import SVC\n",
        "def SVM(x , y ):\n",
        "  svm = SVC(gamma='auto' , kernel = 'linear')\n",
        "  model_SVM = svm.fit(x, y)\n",
        "  y_SVM = model_SVM.predict(x)\n",
        "  print(accuracy_score(y, y_SVM))\n",
        "  return model_SVM, y_SVM"
      ],
      "metadata": {
        "id": "rI77OCX_s1TN"
      },
      "execution_count": 93,
      "outputs": []
    },
    {
      "cell_type": "code",
      "source": [
        "from sklearn.cluster import AgglomerativeClustering\n",
        "def Agglomorative(X):\n",
        "    model_agg = AgglomerativeClustering(n_clusters=5, affinity = 'euclidean',\n",
        "                                        linkage = 'ward', compute_distances=True)\n",
        "    y_agg_bow = model_agg.fit_predict(X)\n",
        "    return model_agg, y_agg_bow"
      ],
      "metadata": {
        "id": "4pMBHmBzs3Yo"
      },
      "execution_count": 44,
      "outputs": []
    },
    {
      "cell_type": "code",
      "source": [
        "from sklearn.decomposition import TruncatedSVD\n",
        "from copy import deepcopy\n",
        "\n",
        "def dim_reduction(X, model, centers=0):\n",
        "    svd = TruncatedSVD(n_components=2, n_iter=7, random_state=42)\n",
        "    \n",
        "    components = svd.fit_transform(X)\n",
        "    components_df = pd.DataFrame(data = components,\n",
        "                columns = ['bow component 1', 'bow component 2'])\n",
        "    if type(centers) == type(0):\n",
        "        centers = svd.transform(model.cluster_centers_)\n",
        "    centers_new = deepcopy(centers)\n",
        "    return centers_new, components_df, components"
      ],
      "metadata": {
        "id": "04rgXST-s5V1"
      },
      "execution_count": 45,
      "outputs": []
    },
    {
      "cell_type": "code",
      "source": [
        "from sklearn.metrics import silhouette_score\n",
        "from sklearn.metrics import cohen_kappa_score\n",
        "\n",
        "def Evaluate(y_actual, y_prediction):\n",
        "    kappa = cohen_kappa_score(y_actual, y_prediction)\n",
        "    sil = silhouette_score(y_actual, y_prediction)\n",
        "    indices = ['kappa', 'silhouette']\n",
        "    return pd.DataFrame(data=[kappa, sil], index=indices, columns=['values'])"
      ],
      "metadata": {
        "id": "-rtdF81Ys-WF"
      },
      "execution_count": 46,
      "outputs": []
    },
    {
      "cell_type": "code",
      "source": [
        "import matplotlib.pyplot as plt\n",
        "colors = ['b', 'y']\n",
        "authors = ['a', 'b']\n",
        "\n",
        "def visualizeClusters(components, y_train, centers):\n",
        "    \n",
        "    fig = plt.figure(figsize = (8,8))\n",
        "    ax = fig.add_subplot(1,1,1)\n",
        "    \n",
        "    ax.set_xlabel('1st Component', fontsize = 12)\n",
        "    ax.set_ylabel('2nd Component', fontsize = 12)\n",
        "    ax.set_title('Clusters visualization', fontsize = 18)\n",
        "    \n",
        "    for color, i, target_name in zip(colors, [0, 1], authors):\n",
        "        ax.scatter(components[y_train.iloc[:, 0] == i, 0],\n",
        "                   components[y_train.iloc[:, 0] == i, 1],\n",
        "                   alpha=.8, color=color, label=target_name, s = 20)\n",
        "        #print(y_train.iloc[:, 0] == i)\n",
        "        \n",
        "    ax.legend(loc='best', shadow=False, scatterpoints=1)\n",
        "    #ax.scatter(centers[:,0], centers[:,1], marker='*', c='k',\n",
        "               #label = 'centroid', s=350)"
      ],
      "metadata": {
        "id": "N-6Nh8HctBDN"
      },
      "execution_count": 98,
      "outputs": []
    },
    {
      "cell_type": "code",
      "source": [
        "import scipy.cluster.hierarchy as sch\n",
        "def visualizeHierarchy(X, y):\n",
        "    plt.xlim(-15,15)\n",
        "    plt.ylim(-15,15)\n",
        "\n",
        "    dendrogram = sch.dendrogram(sch.linkage(X, method='ward'))\n",
        "\n",
        "    plt.scatter(X[y ==0,0], X[y == 0,1], s=100, c='red')\n",
        "    plt.scatter(X[y ==1,0], X[y == 1,1], s=100, c='yellow')\n",
        "    # plt.scatter(X[y ==2,0], X[y == 2,1], s=100, c='blue')\n",
        "    # plt.scatter(X[y ==3,0], X[y == 3,1], s=100, c='cyan')\n",
        "    # plt.scatter(X[y ==4,0], X[y == 4,1], s=100, c='green')"
      ],
      "metadata": {
        "id": "W_Nf3vjPtDbD"
      },
      "execution_count": 99,
      "outputs": []
    },
    {
      "cell_type": "code",
      "source": [
        "df  = df.loc[df['text'] != '']\n",
        "df"
      ],
      "metadata": {
        "colab": {
          "base_uri": "https://localhost:8080/",
          "height": 424
        },
        "id": "MJgeZeDMtHSt",
        "outputId": "98a55ce3-e8ed-4bdc-9fca-76b6b4fb1c55"
      },
      "execution_count": 100,
      "outputs": [
        {
          "output_type": "execute_result",
          "data": {
            "text/plain": [
              "           start          end  speaker  \\\n",
              "0       0.497812    16.596563        1   \n",
              "1      17.372812    47.494688        1   \n",
              "2      47.764688    58.007813        1   \n",
              "3      58.733438    66.192188        1   \n",
              "4      66.782813    98.997187        1   \n",
              "..           ...          ...      ...   \n",
              "653  8868.833437  8891.564062        1   \n",
              "654  8892.239063  8909.063438        0   \n",
              "655  8909.350312  8933.059688        1   \n",
              "656  8933.279062  8936.519062        0   \n",
              "657  8937.514687  8955.689062        1   \n",
              "\n",
              "                                                  text  \n",
              "0    ing be a conversation of brinarmstrong cofonde...  \n",
              "1    i record this conversation with brian before t...  \n",
              "2    our world run on money the exchange and store ...  \n",
              "3    corn base and briane be try to do this by work...  \n",
              "4    biracrisies resist change for good and for bad...  \n",
              "..                                                 ...  \n",
              "653  and the universe be a way of smile and na help...  \n",
              "654  yeah i mean i don im not eterally subscribe al...  \n",
              "655  sobuian thank you for drink big ah thank you f...  \n",
              "656  thanks for your assum podcast i i love it i li...  \n",
              "657  thanks for listen to his conversation with bri...  \n",
              "\n",
              "[509 rows x 4 columns]"
            ],
            "text/html": [
              "\n",
              "  <div id=\"df-1a00f325-9840-4891-af4e-8c99780df26e\">\n",
              "    <div class=\"colab-df-container\">\n",
              "      <div>\n",
              "<style scoped>\n",
              "    .dataframe tbody tr th:only-of-type {\n",
              "        vertical-align: middle;\n",
              "    }\n",
              "\n",
              "    .dataframe tbody tr th {\n",
              "        vertical-align: top;\n",
              "    }\n",
              "\n",
              "    .dataframe thead th {\n",
              "        text-align: right;\n",
              "    }\n",
              "</style>\n",
              "<table border=\"1\" class=\"dataframe\">\n",
              "  <thead>\n",
              "    <tr style=\"text-align: right;\">\n",
              "      <th></th>\n",
              "      <th>start</th>\n",
              "      <th>end</th>\n",
              "      <th>speaker</th>\n",
              "      <th>text</th>\n",
              "    </tr>\n",
              "  </thead>\n",
              "  <tbody>\n",
              "    <tr>\n",
              "      <th>0</th>\n",
              "      <td>0.497812</td>\n",
              "      <td>16.596563</td>\n",
              "      <td>1</td>\n",
              "      <td>ing be a conversation of brinarmstrong cofonde...</td>\n",
              "    </tr>\n",
              "    <tr>\n",
              "      <th>1</th>\n",
              "      <td>17.372812</td>\n",
              "      <td>47.494688</td>\n",
              "      <td>1</td>\n",
              "      <td>i record this conversation with brian before t...</td>\n",
              "    </tr>\n",
              "    <tr>\n",
              "      <th>2</th>\n",
              "      <td>47.764688</td>\n",
              "      <td>58.007813</td>\n",
              "      <td>1</td>\n",
              "      <td>our world run on money the exchange and store ...</td>\n",
              "    </tr>\n",
              "    <tr>\n",
              "      <th>3</th>\n",
              "      <td>58.733438</td>\n",
              "      <td>66.192188</td>\n",
              "      <td>1</td>\n",
              "      <td>corn base and briane be try to do this by work...</td>\n",
              "    </tr>\n",
              "    <tr>\n",
              "      <th>4</th>\n",
              "      <td>66.782813</td>\n",
              "      <td>98.997187</td>\n",
              "      <td>1</td>\n",
              "      <td>biracrisies resist change for good and for bad...</td>\n",
              "    </tr>\n",
              "    <tr>\n",
              "      <th>...</th>\n",
              "      <td>...</td>\n",
              "      <td>...</td>\n",
              "      <td>...</td>\n",
              "      <td>...</td>\n",
              "    </tr>\n",
              "    <tr>\n",
              "      <th>653</th>\n",
              "      <td>8868.833437</td>\n",
              "      <td>8891.564062</td>\n",
              "      <td>1</td>\n",
              "      <td>and the universe be a way of smile and na help...</td>\n",
              "    </tr>\n",
              "    <tr>\n",
              "      <th>654</th>\n",
              "      <td>8892.239063</td>\n",
              "      <td>8909.063438</td>\n",
              "      <td>0</td>\n",
              "      <td>yeah i mean i don im not eterally subscribe al...</td>\n",
              "    </tr>\n",
              "    <tr>\n",
              "      <th>655</th>\n",
              "      <td>8909.350312</td>\n",
              "      <td>8933.059688</td>\n",
              "      <td>1</td>\n",
              "      <td>sobuian thank you for drink big ah thank you f...</td>\n",
              "    </tr>\n",
              "    <tr>\n",
              "      <th>656</th>\n",
              "      <td>8933.279062</td>\n",
              "      <td>8936.519062</td>\n",
              "      <td>0</td>\n",
              "      <td>thanks for your assum podcast i i love it i li...</td>\n",
              "    </tr>\n",
              "    <tr>\n",
              "      <th>657</th>\n",
              "      <td>8937.514687</td>\n",
              "      <td>8955.689062</td>\n",
              "      <td>1</td>\n",
              "      <td>thanks for listen to his conversation with bri...</td>\n",
              "    </tr>\n",
              "  </tbody>\n",
              "</table>\n",
              "<p>509 rows × 4 columns</p>\n",
              "</div>\n",
              "      <button class=\"colab-df-convert\" onclick=\"convertToInteractive('df-1a00f325-9840-4891-af4e-8c99780df26e')\"\n",
              "              title=\"Convert this dataframe to an interactive table.\"\n",
              "              style=\"display:none;\">\n",
              "        \n",
              "  <svg xmlns=\"http://www.w3.org/2000/svg\" height=\"24px\"viewBox=\"0 0 24 24\"\n",
              "       width=\"24px\">\n",
              "    <path d=\"M0 0h24v24H0V0z\" fill=\"none\"/>\n",
              "    <path d=\"M18.56 5.44l.94 2.06.94-2.06 2.06-.94-2.06-.94-.94-2.06-.94 2.06-2.06.94zm-11 1L8.5 8.5l.94-2.06 2.06-.94-2.06-.94L8.5 2.5l-.94 2.06-2.06.94zm10 10l.94 2.06.94-2.06 2.06-.94-2.06-.94-.94-2.06-.94 2.06-2.06.94z\"/><path d=\"M17.41 7.96l-1.37-1.37c-.4-.4-.92-.59-1.43-.59-.52 0-1.04.2-1.43.59L10.3 9.45l-7.72 7.72c-.78.78-.78 2.05 0 2.83L4 21.41c.39.39.9.59 1.41.59.51 0 1.02-.2 1.41-.59l7.78-7.78 2.81-2.81c.8-.78.8-2.07 0-2.86zM5.41 20L4 18.59l7.72-7.72 1.47 1.35L5.41 20z\"/>\n",
              "  </svg>\n",
              "      </button>\n",
              "      \n",
              "  <style>\n",
              "    .colab-df-container {\n",
              "      display:flex;\n",
              "      flex-wrap:wrap;\n",
              "      gap: 12px;\n",
              "    }\n",
              "\n",
              "    .colab-df-convert {\n",
              "      background-color: #E8F0FE;\n",
              "      border: none;\n",
              "      border-radius: 50%;\n",
              "      cursor: pointer;\n",
              "      display: none;\n",
              "      fill: #1967D2;\n",
              "      height: 32px;\n",
              "      padding: 0 0 0 0;\n",
              "      width: 32px;\n",
              "    }\n",
              "\n",
              "    .colab-df-convert:hover {\n",
              "      background-color: #E2EBFA;\n",
              "      box-shadow: 0px 1px 2px rgba(60, 64, 67, 0.3), 0px 1px 3px 1px rgba(60, 64, 67, 0.15);\n",
              "      fill: #174EA6;\n",
              "    }\n",
              "\n",
              "    [theme=dark] .colab-df-convert {\n",
              "      background-color: #3B4455;\n",
              "      fill: #D2E3FC;\n",
              "    }\n",
              "\n",
              "    [theme=dark] .colab-df-convert:hover {\n",
              "      background-color: #434B5C;\n",
              "      box-shadow: 0px 1px 3px 1px rgba(0, 0, 0, 0.15);\n",
              "      filter: drop-shadow(0px 1px 2px rgba(0, 0, 0, 0.3));\n",
              "      fill: #FFFFFF;\n",
              "    }\n",
              "  </style>\n",
              "\n",
              "      <script>\n",
              "        const buttonEl =\n",
              "          document.querySelector('#df-1a00f325-9840-4891-af4e-8c99780df26e button.colab-df-convert');\n",
              "        buttonEl.style.display =\n",
              "          google.colab.kernel.accessAllowed ? 'block' : 'none';\n",
              "\n",
              "        async function convertToInteractive(key) {\n",
              "          const element = document.querySelector('#df-1a00f325-9840-4891-af4e-8c99780df26e');\n",
              "          const dataTable =\n",
              "            await google.colab.kernel.invokeFunction('convertToInteractive',\n",
              "                                                     [key], {});\n",
              "          if (!dataTable) return;\n",
              "\n",
              "          const docLinkHtml = 'Like what you see? Visit the ' +\n",
              "            '<a target=\"_blank\" href=https://colab.research.google.com/notebooks/data_table.ipynb>data table notebook</a>'\n",
              "            + ' to learn more about interactive tables.';\n",
              "          element.innerHTML = '';\n",
              "          dataTable['output_type'] = 'display_data';\n",
              "          await google.colab.output.renderOutput(dataTable, element);\n",
              "          const docLink = document.createElement('div');\n",
              "          docLink.innerHTML = docLinkHtml;\n",
              "          element.appendChild(docLink);\n",
              "        }\n",
              "      </script>\n",
              "    </div>\n",
              "  </div>\n",
              "  "
            ]
          },
          "metadata": {},
          "execution_count": 100
        }
      ]
    },
    {
      "cell_type": "code",
      "source": [
        "X_train, X_test, y_train, y_test = train_test_split(df[['text', 'start', 'end']], df[['speaker']], random_state=42)\n",
        "\n",
        "X_train = pd.DataFrame(X_train)\n",
        "y_train = pd.DataFrame(y_train)\n",
        "\n",
        "X_test = pd.DataFrame(X_test)\n",
        "y_test = pd.DataFrame(y_test)"
      ],
      "metadata": {
        "id": "mlLL2i19tM-I"
      },
      "execution_count": 101,
      "outputs": []
    },
    {
      "cell_type": "code",
      "source": [
        "\n",
        "all_Partitions = list(X_train['text'])\n",
        "    \n",
        "vectorizer = CountVectorizer(analyzer = \"word\")\n",
        "bow_matrix = vectorizer.fit(all_Partitions)\n",
        "feature_names = vectorizer.vocabulary_\n",
        "    \n",
        "bow_matrix = vectorizer.transform(all_Partitions)\n",
        "X_bow = bow_matrix.toarray()"
      ],
      "metadata": {
        "id": "MG6YgckTtRf1"
      },
      "execution_count": 102,
      "outputs": []
    },
    {
      "cell_type": "code",
      "source": [
        "X_bow_test = vectorizer.transform(X_test['text'])\n",
        "print(X_bow_test.shape)\n",
        "print(X_bow.shape)"
      ],
      "metadata": {
        "colab": {
          "base_uri": "https://localhost:8080/"
        },
        "id": "TEem9UmxtUcU",
        "outputId": "7c4434a6-56bb-41ab-beff-c41998fa97fe"
      },
      "execution_count": 103,
      "outputs": [
        {
          "output_type": "stream",
          "name": "stdout",
          "text": [
            "(128, 3185)\n",
            "(381, 3185)\n"
          ]
        }
      ]
    },
    {
      "cell_type": "code",
      "source": [
        "model_km_bow, y_km_bow = K_means(X_bow)\n",
        "model_km_bow.cluster_centers_.shape"
      ],
      "metadata": {
        "colab": {
          "base_uri": "https://localhost:8080/"
        },
        "id": "dkCVzymbtYfs",
        "outputId": "a34d202f-b444-4dc2-e7f3-e58cbd2b52de"
      },
      "execution_count": 104,
      "outputs": [
        {
          "output_type": "execute_result",
          "data": {
            "text/plain": [
              "(5, 3185)"
            ]
          },
          "metadata": {},
          "execution_count": 104
        }
      ]
    },
    {
      "cell_type": "code",
      "source": [
        "Bow_center, Bow_components_df, Bow_components  = dim_reduction(X_bow, model_km_bow)"
      ],
      "metadata": {
        "id": "VfTLQRUKtcro"
      },
      "execution_count": 105,
      "outputs": []
    },
    {
      "cell_type": "code",
      "source": [
        "visualizeClusters(Bow_components, y_train, Bow_center)"
      ],
      "metadata": {
        "colab": {
          "base_uri": "https://localhost:8080/",
          "height": 520
        },
        "id": "A1B0ZTIytfKH",
        "outputId": "80d59da4-da1c-48d4-c7ad-65f1e7d72dd8"
      },
      "execution_count": 106,
      "outputs": [
        {
          "output_type": "display_data",
          "data": {
            "text/plain": [
              "<Figure size 576x576 with 1 Axes>"
            ],
            "image/png": "[encoded data removed]"
          },
          "metadata": {
            "needs_background": "light"
          }
        }
      ]
    },
    {
      "cell_type": "code",
      "source": [
        "km_bow_eval = Evaluate(y_train, y_km_bow)\n",
        "km_bow_eval"
      ],
      "metadata": {
        "colab": {
          "base_uri": "https://localhost:8080/",
          "height": 112
        },
        "id": "udAEhprEthK2",
        "outputId": "91dcc305-9c32-4f9e-b1f6-6e3f4bcfbbec"
      },
      "execution_count": 107,
      "outputs": [
        {
          "output_type": "execute_result",
          "data": {
            "text/plain": [
              "              values\n",
              "kappa      -0.003134\n",
              "silhouette -0.440115"
            ],
            "text/html": [
              "\n",
              "  <div id=\"df-b752cc8f-f25b-484c-bf6c-437d23189a5f\">\n",
              "    <div class=\"colab-df-container\">\n",
              "      <div>\n",
              "<style scoped>\n",
              "    .dataframe tbody tr th:only-of-type {\n",
              "        vertical-align: middle;\n",
              "    }\n",
              "\n",
              "    .dataframe tbody tr th {\n",
              "        vertical-align: top;\n",
              "    }\n",
              "\n",
              "    .dataframe thead th {\n",
              "        text-align: right;\n",
              "    }\n",
              "</style>\n",
              "<table border=\"1\" class=\"dataframe\">\n",
              "  <thead>\n",
              "    <tr style=\"text-align: right;\">\n",
              "      <th></th>\n",
              "      <th>values</th>\n",
              "    </tr>\n",
              "  </thead>\n",
              "  <tbody>\n",
              "    <tr>\n",
              "      <th>kappa</th>\n",
              "      <td>-0.003134</td>\n",
              "    </tr>\n",
              "    <tr>\n",
              "      <th>silhouette</th>\n",
              "      <td>-0.440115</td>\n",
              "    </tr>\n",
              "  </tbody>\n",
              "</table>\n",
              "</div>\n",
              "      <button class=\"colab-df-convert\" onclick=\"convertToInteractive('df-b752cc8f-f25b-484c-bf6c-437d23189a5f')\"\n",
              "              title=\"Convert this dataframe to an interactive table.\"\n",
              "              style=\"display:none;\">\n",
              "        \n",
              "  <svg xmlns=\"http://www.w3.org/2000/svg\" height=\"24px\"viewBox=\"0 0 24 24\"\n",
              "       width=\"24px\">\n",
              "    <path d=\"M0 0h24v24H0V0z\" fill=\"none\"/>\n",
              "    <path d=\"M18.56 5.44l.94 2.06.94-2.06 2.06-.94-2.06-.94-.94-2.06-.94 2.06-2.06.94zm-11 1L8.5 8.5l.94-2.06 2.06-.94-2.06-.94L8.5 2.5l-.94 2.06-2.06.94zm10 10l.94 2.06.94-2.06 2.06-.94-2.06-.94-.94-2.06-.94 2.06-2.06.94z\"/><path d=\"M17.41 7.96l-1.37-1.37c-.4-.4-.92-.59-1.43-.59-.52 0-1.04.2-1.43.59L10.3 9.45l-7.72 7.72c-.78.78-.78 2.05 0 2.83L4 21.41c.39.39.9.59 1.41.59.51 0 1.02-.2 1.41-.59l7.78-7.78 2.81-2.81c.8-.78.8-2.07 0-2.86zM5.41 20L4 18.59l7.72-7.72 1.47 1.35L5.41 20z\"/>\n",
              "  </svg>\n",
              "      </button>\n",
              "      \n",
              "  <style>\n",
              "    .colab-df-container {\n",
              "      display:flex;\n",
              "      flex-wrap:wrap;\n",
              "      gap: 12px;\n",
              "    }\n",
              "\n",
              "    .colab-df-convert {\n",
              "      background-color: #E8F0FE;\n",
              "      border: none;\n",
              "      border-radius: 50%;\n",
              "      cursor: pointer;\n",
              "      display: none;\n",
              "      fill: #1967D2;\n",
              "      height: 32px;\n",
              "      padding: 0 0 0 0;\n",
              "      width: 32px;\n",
              "    }\n",
              "\n",
              "    .colab-df-convert:hover {\n",
              "      background-color: #E2EBFA;\n",
              "      box-shadow: 0px 1px 2px rgba(60, 64, 67, 0.3), 0px 1px 3px 1px rgba(60, 64, 67, 0.15);\n",
              "      fill: #174EA6;\n",
              "    }\n",
              "\n",
              "    [theme=dark] .colab-df-convert {\n",
              "      background-color: #3B4455;\n",
              "      fill: #D2E3FC;\n",
              "    }\n",
              "\n",
              "    [theme=dark] .colab-df-convert:hover {\n",
              "      background-color: #434B5C;\n",
              "      box-shadow: 0px 1px 3px 1px rgba(0, 0, 0, 0.15);\n",
              "      filter: drop-shadow(0px 1px 2px rgba(0, 0, 0, 0.3));\n",
              "      fill: #FFFFFF;\n",
              "    }\n",
              "  </style>\n",
              "\n",
              "      <script>\n",
              "        const buttonEl =\n",
              "          document.querySelector('#df-b752cc8f-f25b-484c-bf6c-437d23189a5f button.colab-df-convert');\n",
              "        buttonEl.style.display =\n",
              "          google.colab.kernel.accessAllowed ? 'block' : 'none';\n",
              "\n",
              "        async function convertToInteractive(key) {\n",
              "          const element = document.querySelector('#df-b752cc8f-f25b-484c-bf6c-437d23189a5f');\n",
              "          const dataTable =\n",
              "            await google.colab.kernel.invokeFunction('convertToInteractive',\n",
              "                                                     [key], {});\n",
              "          if (!dataTable) return;\n",
              "\n",
              "          const docLinkHtml = 'Like what you see? Visit the ' +\n",
              "            '<a target=\"_blank\" href=https://colab.research.google.com/notebooks/data_table.ipynb>data table notebook</a>'\n",
              "            + ' to learn more about interactive tables.';\n",
              "          element.innerHTML = '';\n",
              "          dataTable['output_type'] = 'display_data';\n",
              "          await google.colab.output.renderOutput(dataTable, element);\n",
              "          const docLink = document.createElement('div');\n",
              "          docLink.innerHTML = docLinkHtml;\n",
              "          element.appendChild(docLink);\n",
              "        }\n",
              "      </script>\n",
              "    </div>\n",
              "  </div>\n",
              "  "
            ]
          },
          "metadata": {},
          "execution_count": 107
        }
      ]
    },
    {
      "cell_type": "code",
      "source": [
        "print('Accuracy score on the traning set:')\n",
        "model_MLP_bow, y_MLP_bow = MLP(X_bow_test , y_test)\n"
      ],
      "metadata": {
        "colab": {
          "base_uri": "https://localhost:8080/"
        },
        "id": "5N8VBJ3Xtl_g",
        "outputId": "98d4a423-3bc1-4b96-efcc-3cb1c360a3c7"
      },
      "execution_count": 108,
      "outputs": [
        {
          "output_type": "stream",
          "name": "stdout",
          "text": [
            "Accuracy score on the traning set:\n",
            "0.8671875\n"
          ]
        }
      ]
    },
    {
      "cell_type": "code",
      "source": [
        "print('Accuracy score on the traning set:')\n",
        "model_NB_bow, y_NB_bow = NB(X_bow_test.toarray() , y_test)"
      ],
      "metadata": {
        "colab": {
          "base_uri": "https://localhost:8080/"
        },
        "id": "bPfYNch1t0gf",
        "outputId": "ede0bf1b-4a85-40d1-d0b3-04ccf39a27b3"
      },
      "execution_count": 109,
      "outputs": [
        {
          "output_type": "stream",
          "name": "stdout",
          "text": [
            "Accuracy score on the traning set:\n",
            "0.8515625\n"
          ]
        }
      ]
    },
    {
      "cell_type": "code",
      "source": [
        "model_SVM_bow, y_SVM_bow = SVM(X_bow_test.toarray() , y_test)\n",
        "model_SVM_bow"
      ],
      "metadata": {
        "colab": {
          "base_uri": "https://localhost:8080/"
        },
        "id": "bnP44Oa9uFnO",
        "outputId": "df5d4a99-1c4d-4219-c0eb-aff478c72da6"
      },
      "execution_count": 110,
      "outputs": [
        {
          "output_type": "stream",
          "name": "stdout",
          "text": [
            "0.9609375\n"
          ]
        },
        {
          "output_type": "execute_result",
          "data": {
            "text/plain": [
              "SVC(gamma='auto', kernel='linear')"
            ]
          },
          "metadata": {},
          "execution_count": 110
        }
      ]
    },
    {
      "cell_type": "code",
      "source": [
        "model_AGG_bow, y_agg_bow = Agglomorative(X_bow)\n",
        "model_AGG_bow"
      ],
      "metadata": {
        "colab": {
          "base_uri": "https://localhost:8080/"
        },
        "id": "gueeyzSWuNFe",
        "outputId": "d28dcd2c-2878-48b6-ddf4-e2255815c2b5"
      },
      "execution_count": 111,
      "outputs": [
        {
          "output_type": "execute_result",
          "data": {
            "text/plain": [
              "AgglomerativeClustering(compute_distances=True, n_clusters=5)"
            ]
          },
          "metadata": {},
          "execution_count": 111
        }
      ]
    },
    {
      "cell_type": "code",
      "source": [
        "visualizeHierarchy(X_bow, y_agg_bow)"
      ],
      "metadata": {
        "colab": {
          "base_uri": "https://localhost:8080/",
          "height": 292
        },
        "id": "YDGUU6k4uTbl",
        "outputId": "d457d648-dee3-40a3-f11e-a2ebf22b0542"
      },
      "execution_count": 112,
      "outputs": [
        {
          "output_type": "display_data",
          "data": {
            "text/plain": [
              "<Figure size 1152x345.6 with 1 Axes>"
            ],
            "image/png": "[encoded data removed]"
          },
          "metadata": {
            "needs_background": "light"
          }
        }
      ]
    },
    {
      "cell_type": "code",
      "source": [
        "agg_bow_eval = Evaluate(y_train, y_agg_bow)\n",
        "agg_bow_eval"
      ],
      "metadata": {
        "colab": {
          "base_uri": "https://localhost:8080/",
          "height": 112
        },
        "id": "99crNDoYuVyW",
        "outputId": "8d342f37-505e-4b46-f79d-67fa0cc767bc"
      },
      "execution_count": 113,
      "outputs": [
        {
          "output_type": "execute_result",
          "data": {
            "text/plain": [
              "              values\n",
              "kappa      -0.004631\n",
              "silhouette -0.496253"
            ],
            "text/html": [
              "\n",
              "  <div id=\"df-da4116dc-77cb-4c96-b654-7a7f88043e07\">\n",
              "    <div class=\"colab-df-container\">\n",
              "      <div>\n",
              "<style scoped>\n",
              "    .dataframe tbody tr th:only-of-type {\n",
              "        vertical-align: middle;\n",
              "    }\n",
              "\n",
              "    .dataframe tbody tr th {\n",
              "        vertical-align: top;\n",
              "    }\n",
              "\n",
              "    .dataframe thead th {\n",
              "        text-align: right;\n",
              "    }\n",
              "</style>\n",
              "<table border=\"1\" class=\"dataframe\">\n",
              "  <thead>\n",
              "    <tr style=\"text-align: right;\">\n",
              "      <th></th>\n",
              "      <th>values</th>\n",
              "    </tr>\n",
              "  </thead>\n",
              "  <tbody>\n",
              "    <tr>\n",
              "      <th>kappa</th>\n",
              "      <td>-0.004631</td>\n",
              "    </tr>\n",
              "    <tr>\n",
              "      <th>silhouette</th>\n",
              "      <td>-0.496253</td>\n",
              "    </tr>\n",
              "  </tbody>\n",
              "</table>\n",
              "</div>\n",
              "      <button class=\"colab-df-convert\" onclick=\"convertToInteractive('df-da4116dc-77cb-4c96-b654-7a7f88043e07')\"\n",
              "              title=\"Convert this dataframe to an interactive table.\"\n",
              "              style=\"display:none;\">\n",
              "        \n",
              "  <svg xmlns=\"http://www.w3.org/2000/svg\" height=\"24px\"viewBox=\"0 0 24 24\"\n",
              "       width=\"24px\">\n",
              "    <path d=\"M0 0h24v24H0V0z\" fill=\"none\"/>\n",
              "    <path d=\"M18.56 5.44l.94 2.06.94-2.06 2.06-.94-2.06-.94-.94-2.06-.94 2.06-2.06.94zm-11 1L8.5 8.5l.94-2.06 2.06-.94-2.06-.94L8.5 2.5l-.94 2.06-2.06.94zm10 10l.94 2.06.94-2.06 2.06-.94-2.06-.94-.94-2.06-.94 2.06-2.06.94z\"/><path d=\"M17.41 7.96l-1.37-1.37c-.4-.4-.92-.59-1.43-.59-.52 0-1.04.2-1.43.59L10.3 9.45l-7.72 7.72c-.78.78-.78 2.05 0 2.83L4 21.41c.39.39.9.59 1.41.59.51 0 1.02-.2 1.41-.59l7.78-7.78 2.81-2.81c.8-.78.8-2.07 0-2.86zM5.41 20L4 18.59l7.72-7.72 1.47 1.35L5.41 20z\"/>\n",
              "  </svg>\n",
              "      </button>\n",
              "      \n",
              "  <style>\n",
              "    .colab-df-container {\n",
              "      display:flex;\n",
              "      flex-wrap:wrap;\n",
              "      gap: 12px;\n",
              "    }\n",
              "\n",
              "    .colab-df-convert {\n",
              "      background-color: #E8F0FE;\n",
              "      border: none;\n",
              "      border-radius: 50%;\n",
              "      cursor: pointer;\n",
              "      display: none;\n",
              "      fill: #1967D2;\n",
              "      height: 32px;\n",
              "      padding: 0 0 0 0;\n",
              "      width: 32px;\n",
              "    }\n",
              "\n",
              "    .colab-df-convert:hover {\n",
              "      background-color: #E2EBFA;\n",
              "      box-shadow: 0px 1px 2px rgba(60, 64, 67, 0.3), 0px 1px 3px 1px rgba(60, 64, 67, 0.15);\n",
              "      fill: #174EA6;\n",
              "    }\n",
              "\n",
              "    [theme=dark] .colab-df-convert {\n",
              "      background-color: #3B4455;\n",
              "      fill: #D2E3FC;\n",
              "    }\n",
              "\n",
              "    [theme=dark] .colab-df-convert:hover {\n",
              "      background-color: #434B5C;\n",
              "      box-shadow: 0px 1px 3px 1px rgba(0, 0, 0, 0.15);\n",
              "      filter: drop-shadow(0px 1px 2px rgba(0, 0, 0, 0.3));\n",
              "      fill: #FFFFFF;\n",
              "    }\n",
              "  </style>\n",
              "\n",
              "      <script>\n",
              "        const buttonEl =\n",
              "          document.querySelector('#df-da4116dc-77cb-4c96-b654-7a7f88043e07 button.colab-df-convert');\n",
              "        buttonEl.style.display =\n",
              "          google.colab.kernel.accessAllowed ? 'block' : 'none';\n",
              "\n",
              "        async function convertToInteractive(key) {\n",
              "          const element = document.querySelector('#df-da4116dc-77cb-4c96-b654-7a7f88043e07');\n",
              "          const dataTable =\n",
              "            await google.colab.kernel.invokeFunction('convertToInteractive',\n",
              "                                                     [key], {});\n",
              "          if (!dataTable) return;\n",
              "\n",
              "          const docLinkHtml = 'Like what you see? Visit the ' +\n",
              "            '<a target=\"_blank\" href=https://colab.research.google.com/notebooks/data_table.ipynb>data table notebook</a>'\n",
              "            + ' to learn more about interactive tables.';\n",
              "          element.innerHTML = '';\n",
              "          dataTable['output_type'] = 'display_data';\n",
              "          await google.colab.output.renderOutput(dataTable, element);\n",
              "          const docLink = document.createElement('div');\n",
              "          docLink.innerHTML = docLinkHtml;\n",
              "          element.appendChild(docLink);\n",
              "        }\n",
              "      </script>\n",
              "    </div>\n",
              "  </div>\n",
              "  "
            ]
          },
          "metadata": {},
          "execution_count": 113
        }
      ]
    },
    {
      "cell_type": "code",
      "source": [
        "def doc_relation_rate(lda_top , num):\n",
        "    print(\"topic \",num,\": \")\n",
        "    for i,topic in enumerate(lda_top[num]):\n",
        "        print(\"speaker \",i+1,\": \",topic*100,\"%\")"
      ],
      "metadata": {
        "id": "Bfom4c-fua4b"
      },
      "execution_count": 114,
      "outputs": []
    },
    {
      "cell_type": "code",
      "source": [
        "def topic_Modeling():\n",
        "    vocab = vectorizer.get_feature_names()\n",
        "\n",
        "    for i, comp in enumerate(lda_model.components_):\n",
        "        vocab_comp = zip(vocab, comp)\n",
        "        sorted_words = sorted(vocab_comp, key= lambda x:x[1], reverse=True)[:20]\n",
        "        print(\"Author \"+str(i+1)+\": \")\n",
        "        for t in sorted_words:\n",
        "            print(t[0],end=\" \")\n",
        "        print(\"\\n\")"
      ],
      "metadata": {
        "id": "JdqvkyChudFi"
      },
      "execution_count": 115,
      "outputs": []
    },
    {
      "cell_type": "code",
      "source": [
        "vectorizer = CountVectorizer(analyzer='word',       \n",
        "                             min_df=1,                        # minimum reqd occurences of a word \n",
        "                             stop_words='english',             # remove stop words\n",
        "                             lowercase=True,                   # convert all words to lowercase\n",
        "                             token_pattern='[a-zA-Z0-9]{3,}',  # num chars > 3\n",
        "                             # max_features=50000,             # max number of uniq words\n",
        "                            )\n",
        "\n",
        "train_vectorized = vectorizer.fit_transform(X_train['text'])"
      ],
      "metadata": {
        "id": "x4d_tqntudxk"
      },
      "execution_count": 116,
      "outputs": []
    },
    {
      "cell_type": "code",
      "source": [
        "from sklearn.decomposition import LatentDirichletAllocation\n",
        "lda_model = LatentDirichletAllocation( \n",
        "                                      n_components=2, max_iter=10, learning_method='online',   \n",
        "                                      random_state=100, batch_size=128,            \n",
        "                                      evaluate_every = -1, n_jobs = -1,)\n",
        "lda_output = lda_model.fit_transform(train_vectorized)\n",
        "\n",
        "print(lda_model) "
      ],
      "metadata": {
        "colab": {
          "base_uri": "https://localhost:8080/"
        },
        "id": "y4mS-b6sugRr",
        "outputId": "10e1edae-9837-4e49-b19f-1677208393e7"
      },
      "execution_count": 117,
      "outputs": [
        {
          "output_type": "stream",
          "name": "stdout",
          "text": [
            "LatentDirichletAllocation(learning_method='online', n_components=2, n_jobs=-1,\n",
            "                          random_state=100)\n"
          ]
        }
      ]
    },
    {
      "cell_type": "code",
      "source": [
        "doc_relation_rate(lda_output,1)"
      ],
      "metadata": {
        "colab": {
          "base_uri": "https://localhost:8080/"
        },
        "id": "ie8hNvBXuiSL",
        "outputId": "2d02c0be-1961-43e6-927c-be887e65e5f5"
      },
      "execution_count": 118,
      "outputs": [
        {
          "output_type": "stream",
          "name": "stdout",
          "text": [
            "topic  1 : \n",
            "speaker  1 :  92.36115976764955 %\n",
            "speaker  2 :  7.638840232350437 %\n"
          ]
        }
      ]
    },
    {
      "cell_type": "code",
      "source": [
        "topic_Modeling()"
      ],
      "metadata": {
        "colab": {
          "base_uri": "https://localhost:8080/"
        },
        "id": "CQoat2WFulWE",
        "outputId": "716cf59c-4680-4af7-ca4a-e256a2b25b47"
      },
      "execution_count": 119,
      "outputs": [
        {
          "output_type": "stream",
          "name": "stdout",
          "text": [
            "Author 1: \n",
            "language like product time just wallet lisp let cut account human school chain ruby transaction fog difficult step course layer \n",
            "\n",
            "Author 2: \n",
            "like know people thing think just kind right really lot try want work make say company way good basely world \n",
            "\n"
          ]
        }
      ]
    },
    {
      "cell_type": "code",
      "source": [
        "from sklearn.model_selection import GridSearchCV\n",
        "search_params = {'n_components': [2], 'learning_decay': [.5, .7, .9]}\n",
        "model = GridSearchCV(lda_model, param_grid=search_params)\n",
        "model.fit(train_vectorized)"
      ],
      "metadata": {
        "colab": {
          "base_uri": "https://localhost:8080/"
        },
        "id": "GtTTVo-BunaF",
        "outputId": "82414848-5fb9-4434-bf65-e34d7375f5a4"
      },
      "execution_count": 120,
      "outputs": [
        {
          "output_type": "execute_result",
          "data": {
            "text/plain": [
              "GridSearchCV(estimator=LatentDirichletAllocation(learning_method='online',\n",
              "                                                 n_components=2, n_jobs=-1,\n",
              "                                                 random_state=100),\n",
              "             param_grid={'learning_decay': [0.5, 0.7, 0.9],\n",
              "                         'n_components': [2]})"
            ]
          },
          "metadata": {},
          "execution_count": 120
        }
      ]
    },
    {
      "cell_type": "code",
      "source": [
        "GridSearchCV(cv=None, error_score='raise',\n",
        "       estimator=LatentDirichletAllocation(batch_size=128, doc_topic_prior=None,\n",
        "             evaluate_every=-1, learning_decay=0.7, learning_method=None,\n",
        "             learning_offset=10.0, max_doc_update_iter=100, max_iter=10,\n",
        "             mean_change_tol=0.001, n_components=2, n_jobs=1,perp_tol=0.1,\n",
        "             random_state=None,\n",
        "             topic_word_prior=None, total_samples=1000000.0, verbose=0), n_jobs=1,\n",
        "       param_grid={'n_topics': [4], 'learning_decay': [0.5, 0.7, 0.9]},\n",
        "       pre_dispatch='2*n_jobs', refit=True, return_train_score='warn',\n",
        "       scoring=None, verbose=0)"
      ],
      "metadata": {
        "colab": {
          "base_uri": "https://localhost:8080/"
        },
        "id": "MBDUaZy6upi0",
        "outputId": "ea365db3-bce5-4b7b-c0f0-39baaea1b864"
      },
      "execution_count": 121,
      "outputs": [
        {
          "output_type": "execute_result",
          "data": {
            "text/plain": [
              "GridSearchCV(error_score='raise',\n",
              "             estimator=LatentDirichletAllocation(learning_method=None,\n",
              "                                                 n_components=2, n_jobs=1),\n",
              "             n_jobs=1,\n",
              "             param_grid={'learning_decay': [0.5, 0.7, 0.9], 'n_topics': [4]},\n",
              "             return_train_score='warn')"
            ]
          },
          "metadata": {},
          "execution_count": 121
        }
      ]
    },
    {
      "cell_type": "code",
      "source": [
        "best_lda_model = model.best_estimator_\n",
        "\n",
        "print(\"Best Model's Params: \", model.best_params_)\n",
        "\n",
        "print(\"Best Log Likelihood Score: \", model.best_score_)\n",
        "\n",
        "print(\"Model Perplexity: \", best_lda_model.perplexity(train_vectorized))"
      ],
      "metadata": {
        "colab": {
          "base_uri": "https://localhost:8080/"
        },
        "id": "FDKQMTNzuuD1",
        "outputId": "4b9d7018-569b-4305-fd76-06a98e50711b"
      },
      "execution_count": 122,
      "outputs": [
        {
          "output_type": "stream",
          "name": "stdout",
          "text": [
            "Best Model's Params:  {'learning_decay': 0.9, 'n_components': 2}\n",
            "Best Log Likelihood Score:  -15114.354103758935\n",
            "Model Perplexity:  1228.914438471622\n"
          ]
        }
      ]
    },
    {
      "cell_type": "code",
      "source": [
        "lda_output = best_lda_model.transform(train_vectorized)\n",
        "topicnames = [\"speaker\" + str(i+1) for i in range(best_lda_model.n_components)]\n",
        "docnames = [\"topic\" + str(i+1) for i in range(len(X_train['text']))]\n",
        "df_document_topic = pd.DataFrame(np.round(lda_output, 2), columns=topicnames, index=docnames)\n",
        "dominant_topic = np.argmax(df_document_topic.values, axis=1)\n",
        "df_document_topic['dominant_speaker'] = dominant_topic\n",
        "\n",
        "\n",
        "def color_green(val):\n",
        "    color = 'green' if val > .1 else 'black'\n",
        "    return 'color: {col}'.format(col=color)\n",
        "\n",
        "def make_bold(val):\n",
        "    weight = 700 if val > .1 else 400\n",
        "    return 'font-weight: {weight}'.format(weight=weight)\n",
        "\n",
        "# Apply Style\n",
        "df_document_topics = df_document_topic.head(15).style.applymap(color_green).applymap(make_bold)\n",
        "df_document_topics"
      ],
      "metadata": {
        "colab": {
          "base_uri": "https://localhost:8080/",
          "height": 520
        },
        "id": "W6YZOKZ2uwBB",
        "outputId": "2c2e437d-f573-41b4-8bb1-01c3e71b6126"
      },
      "execution_count": 123,
      "outputs": [
        {
          "output_type": "execute_result",
          "data": {
            "text/plain": [
              "<pandas.io.formats.style.Styler at 0x7f2d37344cd0>"
            ],
            "text/html": [
              "<style type=\"text/css\">\n",
              "#T_f7bbe_row0_col0, #T_f7bbe_row1_col0, #T_f7bbe_row1_col1, #T_f7bbe_row2_col1, #T_f7bbe_row2_col2, #T_f7bbe_row3_col1, #T_f7bbe_row3_col2, #T_f7bbe_row4_col1, #T_f7bbe_row4_col2, #T_f7bbe_row5_col0, #T_f7bbe_row5_col1, #T_f7bbe_row6_col0, #T_f7bbe_row6_col1, #T_f7bbe_row7_col1, #T_f7bbe_row7_col2, #T_f7bbe_row8_col1, #T_f7bbe_row8_col2, #T_f7bbe_row9_col1, #T_f7bbe_row9_col2, #T_f7bbe_row10_col1, #T_f7bbe_row10_col2, #T_f7bbe_row11_col0, #T_f7bbe_row11_col1, #T_f7bbe_row11_col2, #T_f7bbe_row12_col0, #T_f7bbe_row12_col1, #T_f7bbe_row13_col0, #T_f7bbe_row13_col1, #T_f7bbe_row14_col1, #T_f7bbe_row14_col2 {\n",
              "  color: green;\n",
              "  font-weight: 700;\n",
              "}\n",
              "#T_f7bbe_row0_col1, #T_f7bbe_row0_col2, #T_f7bbe_row1_col2, #T_f7bbe_row2_col0, #T_f7bbe_row3_col0, #T_f7bbe_row4_col0, #T_f7bbe_row5_col2, #T_f7bbe_row6_col2, #T_f7bbe_row7_col0, #T_f7bbe_row8_col0, #T_f7bbe_row9_col0, #T_f7bbe_row10_col0, #T_f7bbe_row12_col2, #T_f7bbe_row13_col2, #T_f7bbe_row14_col0 {\n",
              "  color: black;\n",
              "  font-weight: 400;\n",
              "}\n",
              "</style>\n",
              "<table id=\"T_f7bbe_\" class=\"dataframe\">\n",
              "  <thead>\n",
              "    <tr>\n",
              "      <th class=\"blank level0\" >&nbsp;</th>\n",
              "      <th class=\"col_heading level0 col0\" >speaker1</th>\n",
              "      <th class=\"col_heading level0 col1\" >speaker2</th>\n",
              "      <th class=\"col_heading level0 col2\" >dominant_speaker</th>\n",
              "    </tr>\n",
              "  </thead>\n",
              "  <tbody>\n",
              "    <tr>\n",
              "      <th id=\"T_f7bbe_level0_row0\" class=\"row_heading level0 row0\" >topic1</th>\n",
              "      <td id=\"T_f7bbe_row0_col0\" class=\"data row0 col0\" >0.920000</td>\n",
              "      <td id=\"T_f7bbe_row0_col1\" class=\"data row0 col1\" >0.080000</td>\n",
              "      <td id=\"T_f7bbe_row0_col2\" class=\"data row0 col2\" >0</td>\n",
              "    </tr>\n",
              "    <tr>\n",
              "      <th id=\"T_f7bbe_level0_row1\" class=\"row_heading level0 row1\" >topic2</th>\n",
              "      <td id=\"T_f7bbe_row1_col0\" class=\"data row1 col0\" >0.880000</td>\n",
              "      <td id=\"T_f7bbe_row1_col1\" class=\"data row1 col1\" >0.120000</td>\n",
              "      <td id=\"T_f7bbe_row1_col2\" class=\"data row1 col2\" >0</td>\n",
              "    </tr>\n",
              "    <tr>\n",
              "      <th id=\"T_f7bbe_level0_row2\" class=\"row_heading level0 row2\" >topic3</th>\n",
              "      <td id=\"T_f7bbe_row2_col0\" class=\"data row2 col0\" >0.040000</td>\n",
              "      <td id=\"T_f7bbe_row2_col1\" class=\"data row2 col1\" >0.960000</td>\n",
              "      <td id=\"T_f7bbe_row2_col2\" class=\"data row2 col2\" >1</td>\n",
              "    </tr>\n",
              "    <tr>\n",
              "      <th id=\"T_f7bbe_level0_row3\" class=\"row_heading level0 row3\" >topic4</th>\n",
              "      <td id=\"T_f7bbe_row3_col0\" class=\"data row3 col0\" >0.010000</td>\n",
              "      <td id=\"T_f7bbe_row3_col1\" class=\"data row3 col1\" >0.990000</td>\n",
              "      <td id=\"T_f7bbe_row3_col2\" class=\"data row3 col2\" >1</td>\n",
              "    </tr>\n",
              "    <tr>\n",
              "      <th id=\"T_f7bbe_level0_row4\" class=\"row_heading level0 row4\" >topic5</th>\n",
              "      <td id=\"T_f7bbe_row4_col0\" class=\"data row4 col0\" >0.020000</td>\n",
              "      <td id=\"T_f7bbe_row4_col1\" class=\"data row4 col1\" >0.980000</td>\n",
              "      <td id=\"T_f7bbe_row4_col2\" class=\"data row4 col2\" >1</td>\n",
              "    </tr>\n",
              "    <tr>\n",
              "      <th id=\"T_f7bbe_level0_row5\" class=\"row_heading level0 row5\" >topic6</th>\n",
              "      <td id=\"T_f7bbe_row5_col0\" class=\"data row5 col0\" >0.740000</td>\n",
              "      <td id=\"T_f7bbe_row5_col1\" class=\"data row5 col1\" >0.260000</td>\n",
              "      <td id=\"T_f7bbe_row5_col2\" class=\"data row5 col2\" >0</td>\n",
              "    </tr>\n",
              "    <tr>\n",
              "      <th id=\"T_f7bbe_level0_row6\" class=\"row_heading level0 row6\" >topic7</th>\n",
              "      <td id=\"T_f7bbe_row6_col0\" class=\"data row6 col0\" >0.500000</td>\n",
              "      <td id=\"T_f7bbe_row6_col1\" class=\"data row6 col1\" >0.500000</td>\n",
              "      <td id=\"T_f7bbe_row6_col2\" class=\"data row6 col2\" >0</td>\n",
              "    </tr>\n",
              "    <tr>\n",
              "      <th id=\"T_f7bbe_level0_row7\" class=\"row_heading level0 row7\" >topic8</th>\n",
              "      <td id=\"T_f7bbe_row7_col0\" class=\"data row7 col0\" >0.010000</td>\n",
              "      <td id=\"T_f7bbe_row7_col1\" class=\"data row7 col1\" >0.990000</td>\n",
              "      <td id=\"T_f7bbe_row7_col2\" class=\"data row7 col2\" >1</td>\n",
              "    </tr>\n",
              "    <tr>\n",
              "      <th id=\"T_f7bbe_level0_row8\" class=\"row_heading level0 row8\" >topic9</th>\n",
              "      <td id=\"T_f7bbe_row8_col0\" class=\"data row8 col0\" >0.040000</td>\n",
              "      <td id=\"T_f7bbe_row8_col1\" class=\"data row8 col1\" >0.960000</td>\n",
              "      <td id=\"T_f7bbe_row8_col2\" class=\"data row8 col2\" >1</td>\n",
              "    </tr>\n",
              "    <tr>\n",
              "      <th id=\"T_f7bbe_level0_row9\" class=\"row_heading level0 row9\" >topic10</th>\n",
              "      <td id=\"T_f7bbe_row9_col0\" class=\"data row9 col0\" >0.010000</td>\n",
              "      <td id=\"T_f7bbe_row9_col1\" class=\"data row9 col1\" >0.990000</td>\n",
              "      <td id=\"T_f7bbe_row9_col2\" class=\"data row9 col2\" >1</td>\n",
              "    </tr>\n",
              "    <tr>\n",
              "      <th id=\"T_f7bbe_level0_row10\" class=\"row_heading level0 row10\" >topic11</th>\n",
              "      <td id=\"T_f7bbe_row10_col0\" class=\"data row10 col0\" >0.050000</td>\n",
              "      <td id=\"T_f7bbe_row10_col1\" class=\"data row10 col1\" >0.950000</td>\n",
              "      <td id=\"T_f7bbe_row10_col2\" class=\"data row10 col2\" >1</td>\n",
              "    </tr>\n",
              "    <tr>\n",
              "      <th id=\"T_f7bbe_level0_row11\" class=\"row_heading level0 row11\" >topic12</th>\n",
              "      <td id=\"T_f7bbe_row11_col0\" class=\"data row11 col0\" >0.160000</td>\n",
              "      <td id=\"T_f7bbe_row11_col1\" class=\"data row11 col1\" >0.840000</td>\n",
              "      <td id=\"T_f7bbe_row11_col2\" class=\"data row11 col2\" >1</td>\n",
              "    </tr>\n",
              "    <tr>\n",
              "      <th id=\"T_f7bbe_level0_row12\" class=\"row_heading level0 row12\" >topic13</th>\n",
              "      <td id=\"T_f7bbe_row12_col0\" class=\"data row12 col0\" >0.500000</td>\n",
              "      <td id=\"T_f7bbe_row12_col1\" class=\"data row12 col1\" >0.500000</td>\n",
              "      <td id=\"T_f7bbe_row12_col2\" class=\"data row12 col2\" >0</td>\n",
              "    </tr>\n",
              "    <tr>\n",
              "      <th id=\"T_f7bbe_level0_row13\" class=\"row_heading level0 row13\" >topic14</th>\n",
              "      <td id=\"T_f7bbe_row13_col0\" class=\"data row13 col0\" >0.830000</td>\n",
              "      <td id=\"T_f7bbe_row13_col1\" class=\"data row13 col1\" >0.170000</td>\n",
              "      <td id=\"T_f7bbe_row13_col2\" class=\"data row13 col2\" >0</td>\n",
              "    </tr>\n",
              "    <tr>\n",
              "      <th id=\"T_f7bbe_level0_row14\" class=\"row_heading level0 row14\" >topic15</th>\n",
              "      <td id=\"T_f7bbe_row14_col0\" class=\"data row14 col0\" >0.020000</td>\n",
              "      <td id=\"T_f7bbe_row14_col1\" class=\"data row14 col1\" >0.980000</td>\n",
              "      <td id=\"T_f7bbe_row14_col2\" class=\"data row14 col2\" >1</td>\n",
              "    </tr>\n",
              "  </tbody>\n",
              "</table>\n"
            ]
          },
          "metadata": {},
          "execution_count": 123
        }
      ]
    },
    {
      "cell_type": "code",
      "source": [
        "df_topic_keywords = pd.DataFrame(best_lda_model.components_)\n",
        "df_topic_keywords.columns = vectorizer.get_feature_names()\n",
        "df_topic_keywords.index = topicnames\n",
        "df_topic_keywords.head()"
      ],
      "metadata": {
        "colab": {
          "base_uri": "https://localhost:8080/",
          "height": 205
        },
        "id": "mEeLzmbpuyPo",
        "outputId": "911fcc6a-c411-4533-e065-417fac9a0d53"
      },
      "execution_count": 124,
      "outputs": [
        {
          "output_type": "execute_result",
          "data": {
            "text/plain": [
              "               aah    aamail      aand       aat      abio      able  \\\n",
              "speaker1  0.569776  0.582977  0.595239  0.587021  0.577128  0.584006   \n",
              "speaker2  1.397530  1.465173  1.398199  1.455854  1.477139  2.317548   \n",
              "\n",
              "              aboy    abroad   absence     abuse  ...       yur      yway  \\\n",
              "speaker1  0.572688  0.588297  0.589632  0.577122  ...  0.608935  0.581598   \n",
              "speaker2  1.378573  1.442182  1.456151  1.465210  ...  1.473696  1.361032   \n",
              "\n",
              "              yyou       zak  zakeburg       zee    zocker       zok  \\\n",
              "speaker1  0.584148  0.557139  0.596839  0.588583  0.580201  0.575382   \n",
              "speaker2  1.428772  2.269392  1.394092  1.437988  1.382156  1.440176   \n",
              "\n",
              "               zon       zuc  \n",
              "speaker1  0.552893  0.579250  \n",
              "speaker2  2.341480  1.463153  \n",
              "\n",
              "[2 rows x 2864 columns]"
            ],
            "text/html": [
              "\n",
              "  <div id=\"df-4126e8e2-0289-4e2e-97ab-135235a0af82\">\n",
              "    <div class=\"colab-df-container\">\n",
              "      <div>\n",
              "<style scoped>\n",
              "    .dataframe tbody tr th:only-of-type {\n",
              "        vertical-align: middle;\n",
              "    }\n",
              "\n",
              "    .dataframe tbody tr th {\n",
              "        vertical-align: top;\n",
              "    }\n",
              "\n",
              "    .dataframe thead th {\n",
              "        text-align: right;\n",
              "    }\n",
              "</style>\n",
              "<table border=\"1\" class=\"dataframe\">\n",
              "  <thead>\n",
              "    <tr style=\"text-align: right;\">\n",
              "      <th></th>\n",
              "      <th>aah</th>\n",
              "      <th>aamail</th>\n",
              "      <th>aand</th>\n",
              "      <th>aat</th>\n",
              "      <th>abio</th>\n",
              "      <th>able</th>\n",
              "      <th>aboy</th>\n",
              "      <th>abroad</th>\n",
              "      <th>absence</th>\n",
              "      <th>abuse</th>\n",
              "      <th>...</th>\n",
              "      <th>yur</th>\n",
              "      <th>yway</th>\n",
              "      <th>yyou</th>\n",
              "      <th>zak</th>\n",
              "      <th>zakeburg</th>\n",
              "      <th>zee</th>\n",
              "      <th>zocker</th>\n",
              "      <th>zok</th>\n",
              "      <th>zon</th>\n",
              "      <th>zuc</th>\n",
              "    </tr>\n",
              "  </thead>\n",
              "  <tbody>\n",
              "    <tr>\n",
              "      <th>speaker1</th>\n",
              "      <td>0.569776</td>\n",
              "      <td>0.582977</td>\n",
              "      <td>0.595239</td>\n",
              "      <td>0.587021</td>\n",
              "      <td>0.577128</td>\n",
              "      <td>0.584006</td>\n",
              "      <td>0.572688</td>\n",
              "      <td>0.588297</td>\n",
              "      <td>0.589632</td>\n",
              "      <td>0.577122</td>\n",
              "      <td>...</td>\n",
              "      <td>0.608935</td>\n",
              "      <td>0.581598</td>\n",
              "      <td>0.584148</td>\n",
              "      <td>0.557139</td>\n",
              "      <td>0.596839</td>\n",
              "      <td>0.588583</td>\n",
              "      <td>0.580201</td>\n",
              "      <td>0.575382</td>\n",
              "      <td>0.552893</td>\n",
              "      <td>0.579250</td>\n",
              "    </tr>\n",
              "    <tr>\n",
              "      <th>speaker2</th>\n",
              "      <td>1.397530</td>\n",
              "      <td>1.465173</td>\n",
              "      <td>1.398199</td>\n",
              "      <td>1.455854</td>\n",
              "      <td>1.477139</td>\n",
              "      <td>2.317548</td>\n",
              "      <td>1.378573</td>\n",
              "      <td>1.442182</td>\n",
              "      <td>1.456151</td>\n",
              "      <td>1.465210</td>\n",
              "      <td>...</td>\n",
              "      <td>1.473696</td>\n",
              "      <td>1.361032</td>\n",
              "      <td>1.428772</td>\n",
              "      <td>2.269392</td>\n",
              "      <td>1.394092</td>\n",
              "      <td>1.437988</td>\n",
              "      <td>1.382156</td>\n",
              "      <td>1.440176</td>\n",
              "      <td>2.341480</td>\n",
              "      <td>1.463153</td>\n",
              "    </tr>\n",
              "  </tbody>\n",
              "</table>\n",
              "<p>2 rows × 2864 columns</p>\n",
              "</div>\n",
              "      <button class=\"colab-df-convert\" onclick=\"convertToInteractive('df-4126e8e2-0289-4e2e-97ab-135235a0af82')\"\n",
              "              title=\"Convert this dataframe to an interactive table.\"\n",
              "              style=\"display:none;\">\n",
              "        \n",
              "  <svg xmlns=\"http://www.w3.org/2000/svg\" height=\"24px\"viewBox=\"0 0 24 24\"\n",
              "       width=\"24px\">\n",
              "    <path d=\"M0 0h24v24H0V0z\" fill=\"none\"/>\n",
              "    <path d=\"M18.56 5.44l.94 2.06.94-2.06 2.06-.94-2.06-.94-.94-2.06-.94 2.06-2.06.94zm-11 1L8.5 8.5l.94-2.06 2.06-.94-2.06-.94L8.5 2.5l-.94 2.06-2.06.94zm10 10l.94 2.06.94-2.06 2.06-.94-2.06-.94-.94-2.06-.94 2.06-2.06.94z\"/><path d=\"M17.41 7.96l-1.37-1.37c-.4-.4-.92-.59-1.43-.59-.52 0-1.04.2-1.43.59L10.3 9.45l-7.72 7.72c-.78.78-.78 2.05 0 2.83L4 21.41c.39.39.9.59 1.41.59.51 0 1.02-.2 1.41-.59l7.78-7.78 2.81-2.81c.8-.78.8-2.07 0-2.86zM5.41 20L4 18.59l7.72-7.72 1.47 1.35L5.41 20z\"/>\n",
              "  </svg>\n",
              "      </button>\n",
              "      \n",
              "  <style>\n",
              "    .colab-df-container {\n",
              "      display:flex;\n",
              "      flex-wrap:wrap;\n",
              "      gap: 12px;\n",
              "    }\n",
              "\n",
              "    .colab-df-convert {\n",
              "      background-color: #E8F0FE;\n",
              "      border: none;\n",
              "      border-radius: 50%;\n",
              "      cursor: pointer;\n",
              "      display: none;\n",
              "      fill: #1967D2;\n",
              "      height: 32px;\n",
              "      padding: 0 0 0 0;\n",
              "      width: 32px;\n",
              "    }\n",
              "\n",
              "    .colab-df-convert:hover {\n",
              "      background-color: #E2EBFA;\n",
              "      box-shadow: 0px 1px 2px rgba(60, 64, 67, 0.3), 0px 1px 3px 1px rgba(60, 64, 67, 0.15);\n",
              "      fill: #174EA6;\n",
              "    }\n",
              "\n",
              "    [theme=dark] .colab-df-convert {\n",
              "      background-color: #3B4455;\n",
              "      fill: #D2E3FC;\n",
              "    }\n",
              "\n",
              "    [theme=dark] .colab-df-convert:hover {\n",
              "      background-color: #434B5C;\n",
              "      box-shadow: 0px 1px 3px 1px rgba(0, 0, 0, 0.15);\n",
              "      filter: drop-shadow(0px 1px 2px rgba(0, 0, 0, 0.3));\n",
              "      fill: #FFFFFF;\n",
              "    }\n",
              "  </style>\n",
              "\n",
              "      <script>\n",
              "        const buttonEl =\n",
              "          document.querySelector('#df-4126e8e2-0289-4e2e-97ab-135235a0af82 button.colab-df-convert');\n",
              "        buttonEl.style.display =\n",
              "          google.colab.kernel.accessAllowed ? 'block' : 'none';\n",
              "\n",
              "        async function convertToInteractive(key) {\n",
              "          const element = document.querySelector('#df-4126e8e2-0289-4e2e-97ab-135235a0af82');\n",
              "          const dataTable =\n",
              "            await google.colab.kernel.invokeFunction('convertToInteractive',\n",
              "                                                     [key], {});\n",
              "          if (!dataTable) return;\n",
              "\n",
              "          const docLinkHtml = 'Like what you see? Visit the ' +\n",
              "            '<a target=\"_blank\" href=https://colab.research.google.com/notebooks/data_table.ipynb>data table notebook</a>'\n",
              "            + ' to learn more about interactive tables.';\n",
              "          element.innerHTML = '';\n",
              "          dataTable['output_type'] = 'display_data';\n",
              "          await google.colab.output.renderOutput(dataTable, element);\n",
              "          const docLink = document.createElement('div');\n",
              "          docLink.innerHTML = docLinkHtml;\n",
              "          element.appendChild(docLink);\n",
              "        }\n",
              "      </script>\n",
              "    </div>\n",
              "  </div>\n",
              "  "
            ]
          },
          "metadata": {},
          "execution_count": 124
        }
      ]
    },
    {
      "cell_type": "code",
      "source": [
        "def show_topics(vectorizer=vectorizer, lda_model=lda_model, n_words=20):\n",
        "    keywords = np.array(vectorizer.get_feature_names())\n",
        "    topic_keywords = []\n",
        "    for topic_weights in lda_model.components_:\n",
        "        top_keyword_locs = (-topic_weights).argsort()[:n_words]\n",
        "        topic_keywords.append(keywords.take(top_keyword_locs))\n",
        "    return topic_keywords\n",
        "\n",
        "topic_keywords = show_topics(vectorizer=vectorizer, lda_model=best_lda_model, n_words=15)        \n",
        "\n",
        "# Topic - Keywords Dataframe\n",
        "df_topic_keywords = pd.DataFrame(topic_keywords)\n",
        "df_topic_keywords.columns = ['Word '+str(i) for i in range(df_topic_keywords.shape[1])]\n",
        "df_topic_keywords.index = ['speaker '+str(i) for i in range(df_topic_keywords.shape[0])]\n",
        "df_topic_keywords"
      ],
      "metadata": {
        "colab": {
          "base_uri": "https://localhost:8080/",
          "height": 228
        },
        "id": "gfVIushau1K7",
        "outputId": "707081be-662c-4f84-ae5c-3daa9deab4fb"
      },
      "execution_count": 125,
      "outputs": [
        {
          "output_type": "execute_result",
          "data": {
            "text/plain": [
              "          Word 0 Word 1  Word 2 Word 3 Word 4  Word 5 Word 6 Word 7  \\\n",
              "speaker 0   like   time     fog    cut    let  moment   just   step   \n",
              "speaker 1   like   know  people  thing  think    just   kind  right   \n",
              "\n",
              "               Word 8 Word 9 Word 10  Word 11 Word 12 Word 13 Word 14  \n",
              "speaker 0  programmer   word  wallet  failure  thanks    risk  advice  \n",
              "speaker 1      really    lot     try     want    work    make     say  "
            ],
            "text/html": [
              "\n",
              "  <div id=\"df-aef83f3a-5002-4c9e-9c66-48b6a7503cc9\">\n",
              "    <div class=\"colab-df-container\">\n",
              "      <div>\n",
              "<style scoped>\n",
              "    .dataframe tbody tr th:only-of-type {\n",
              "        vertical-align: middle;\n",
              "    }\n",
              "\n",
              "    .dataframe tbody tr th {\n",
              "        vertical-align: top;\n",
              "    }\n",
              "\n",
              "    .dataframe thead th {\n",
              "        text-align: right;\n",
              "    }\n",
              "</style>\n",
              "<table border=\"1\" class=\"dataframe\">\n",
              "  <thead>\n",
              "    <tr style=\"text-align: right;\">\n",
              "      <th></th>\n",
              "      <th>Word 0</th>\n",
              "      <th>Word 1</th>\n",
              "      <th>Word 2</th>\n",
              "      <th>Word 3</th>\n",
              "      <th>Word 4</th>\n",
              "      <th>Word 5</th>\n",
              "      <th>Word 6</th>\n",
              "      <th>Word 7</th>\n",
              "      <th>Word 8</th>\n",
              "      <th>Word 9</th>\n",
              "      <th>Word 10</th>\n",
              "      <th>Word 11</th>\n",
              "      <th>Word 12</th>\n",
              "      <th>Word 13</th>\n",
              "      <th>Word 14</th>\n",
              "    </tr>\n",
              "  </thead>\n",
              "  <tbody>\n",
              "    <tr>\n",
              "      <th>speaker 0</th>\n",
              "      <td>like</td>\n",
              "      <td>time</td>\n",
              "      <td>fog</td>\n",
              "      <td>cut</td>\n",
              "      <td>let</td>\n",
              "      <td>moment</td>\n",
              "      <td>just</td>\n",
              "      <td>step</td>\n",
              "      <td>programmer</td>\n",
              "      <td>word</td>\n",
              "      <td>wallet</td>\n",
              "      <td>failure</td>\n",
              "      <td>thanks</td>\n",
              "      <td>risk</td>\n",
              "      <td>advice</td>\n",
              "    </tr>\n",
              "    <tr>\n",
              "      <th>speaker 1</th>\n",
              "      <td>like</td>\n",
              "      <td>know</td>\n",
              "      <td>people</td>\n",
              "      <td>thing</td>\n",
              "      <td>think</td>\n",
              "      <td>just</td>\n",
              "      <td>kind</td>\n",
              "      <td>right</td>\n",
              "      <td>really</td>\n",
              "      <td>lot</td>\n",
              "      <td>try</td>\n",
              "      <td>want</td>\n",
              "      <td>work</td>\n",
              "      <td>make</td>\n",
              "      <td>say</td>\n",
              "    </tr>\n",
              "  </tbody>\n",
              "</table>\n",
              "</div>\n",
              "      <button class=\"colab-df-convert\" onclick=\"convertToInteractive('df-aef83f3a-5002-4c9e-9c66-48b6a7503cc9')\"\n",
              "              title=\"Convert this dataframe to an interactive table.\"\n",
              "              style=\"display:none;\">\n",
              "        \n",
              "  <svg xmlns=\"http://www.w3.org/2000/svg\" height=\"24px\"viewBox=\"0 0 24 24\"\n",
              "       width=\"24px\">\n",
              "    <path d=\"M0 0h24v24H0V0z\" fill=\"none\"/>\n",
              "    <path d=\"M18.56 5.44l.94 2.06.94-2.06 2.06-.94-2.06-.94-.94-2.06-.94 2.06-2.06.94zm-11 1L8.5 8.5l.94-2.06 2.06-.94-2.06-.94L8.5 2.5l-.94 2.06-2.06.94zm10 10l.94 2.06.94-2.06 2.06-.94-2.06-.94-.94-2.06-.94 2.06-2.06.94z\"/><path d=\"M17.41 7.96l-1.37-1.37c-.4-.4-.92-.59-1.43-.59-.52 0-1.04.2-1.43.59L10.3 9.45l-7.72 7.72c-.78.78-.78 2.05 0 2.83L4 21.41c.39.39.9.59 1.41.59.51 0 1.02-.2 1.41-.59l7.78-7.78 2.81-2.81c.8-.78.8-2.07 0-2.86zM5.41 20L4 18.59l7.72-7.72 1.47 1.35L5.41 20z\"/>\n",
              "  </svg>\n",
              "      </button>\n",
              "      \n",
              "  <style>\n",
              "    .colab-df-container {\n",
              "      display:flex;\n",
              "      flex-wrap:wrap;\n",
              "      gap: 12px;\n",
              "    }\n",
              "\n",
              "    .colab-df-convert {\n",
              "      background-color: #E8F0FE;\n",
              "      border: none;\n",
              "      border-radius: 50%;\n",
              "      cursor: pointer;\n",
              "      display: none;\n",
              "      fill: #1967D2;\n",
              "      height: 32px;\n",
              "      padding: 0 0 0 0;\n",
              "      width: 32px;\n",
              "    }\n",
              "\n",
              "    .colab-df-convert:hover {\n",
              "      background-color: #E2EBFA;\n",
              "      box-shadow: 0px 1px 2px rgba(60, 64, 67, 0.3), 0px 1px 3px 1px rgba(60, 64, 67, 0.15);\n",
              "      fill: #174EA6;\n",
              "    }\n",
              "\n",
              "    [theme=dark] .colab-df-convert {\n",
              "      background-color: #3B4455;\n",
              "      fill: #D2E3FC;\n",
              "    }\n",
              "\n",
              "    [theme=dark] .colab-df-convert:hover {\n",
              "      background-color: #434B5C;\n",
              "      box-shadow: 0px 1px 3px 1px rgba(0, 0, 0, 0.15);\n",
              "      filter: drop-shadow(0px 1px 2px rgba(0, 0, 0, 0.3));\n",
              "      fill: #FFFFFF;\n",
              "    }\n",
              "  </style>\n",
              "\n",
              "      <script>\n",
              "        const buttonEl =\n",
              "          document.querySelector('#df-aef83f3a-5002-4c9e-9c66-48b6a7503cc9 button.colab-df-convert');\n",
              "        buttonEl.style.display =\n",
              "          google.colab.kernel.accessAllowed ? 'block' : 'none';\n",
              "\n",
              "        async function convertToInteractive(key) {\n",
              "          const element = document.querySelector('#df-aef83f3a-5002-4c9e-9c66-48b6a7503cc9');\n",
              "          const dataTable =\n",
              "            await google.colab.kernel.invokeFunction('convertToInteractive',\n",
              "                                                     [key], {});\n",
              "          if (!dataTable) return;\n",
              "\n",
              "          const docLinkHtml = 'Like what you see? Visit the ' +\n",
              "            '<a target=\"_blank\" href=https://colab.research.google.com/notebooks/data_table.ipynb>data table notebook</a>'\n",
              "            + ' to learn more about interactive tables.';\n",
              "          element.innerHTML = '';\n",
              "          dataTable['output_type'] = 'display_data';\n",
              "          await google.colab.output.renderOutput(dataTable, element);\n",
              "          const docLink = document.createElement('div');\n",
              "          docLink.innerHTML = docLinkHtml;\n",
              "          element.appendChild(docLink);\n",
              "        }\n",
              "      </script>\n",
              "    </div>\n",
              "  </div>\n",
              "  "
            ]
          },
          "metadata": {},
          "execution_count": 125
        }
      ]
    },
    {
      "cell_type": "code",
      "source": [
        "lda_output.shape, train_vectorized.shape"
      ],
      "metadata": {
        "colab": {
          "base_uri": "https://localhost:8080/"
        },
        "id": "T1skxasku25-",
        "outputId": "cf37ee18-7543-4d87-91c8-875854576e17"
      },
      "execution_count": 126,
      "outputs": [
        {
          "output_type": "execute_result",
          "data": {
            "text/plain": [
              "((381, 2), (381, 2864))"
            ]
          },
          "metadata": {},
          "execution_count": 126
        }
      ]
    },
    {
      "cell_type": "code",
      "source": [
        "from sklearn.cluster import KMeans\n",
        "model_km_lda = KMeans(n_clusters=2)\n",
        "model_km_lda.fit(train_vectorized)\n",
        "y_km_lda = model_km_bow.fit_predict(train_vectorized)"
      ],
      "metadata": {
        "id": "ulLjchLiu4zg"
      },
      "execution_count": 127,
      "outputs": []
    },
    {
      "cell_type": "code",
      "source": [
        "svm = SVC(gamma='auto' , kernel = 'linear')\n",
        "model_SVM = svm.fit(train_vectorized, y_train)\n",
        "y_SVM = model_SVM.predict(train_vectorized)\n",
        "print(accuracy_score(y_train, y_SVM))"
      ],
      "metadata": {
        "colab": {
          "base_uri": "https://localhost:8080/"
        },
        "id": "GmoyuKdLu689",
        "outputId": "af5cbe29-7e15-47c1-a64f-d6ec6c453c38"
      },
      "execution_count": 128,
      "outputs": [
        {
          "output_type": "stream",
          "name": "stdout",
          "text": [
            "0.968503937007874\n"
          ]
        }
      ]
    },
    {
      "cell_type": "code",
      "source": [
        "from sklearn.decomposition import TruncatedSVD\n",
        "from copy import deepcopy\n",
        "lda_SVD = TruncatedSVD(n_components=2, random_state=42)\n",
        "lda_Components = lda_SVD.fit_transform(train_vectorized)\n",
        "lda_centers = lda_SVD.transform(model_km_lda.cluster_centers_)\n",
        "\n",
        "centers_lda = deepcopy(lda_Components)"
      ],
      "metadata": {
        "id": "EkKua2gtu8tK"
      },
      "execution_count": 129,
      "outputs": []
    },
    {
      "cell_type": "code",
      "source": [
        "import matplotlib.pyplot as plt\n",
        "fig = plt.figure(figsize = (8,8))\n",
        "ax = fig.add_subplot(1,1,1)\n",
        "ax.set_xlabel('lda Component 1', fontsize = 10)\n",
        "ax.set_ylabel('lda Component 2', fontsize = 10)\n",
        "ax.set_title('2lda component PCA', fontsize = 15)\n",
        "\n",
        "colors = ['b', 'y','r', 'g', 'c']  \n",
        "for color, i, target_name in zip(colors, [0, 1, 2, 3, 4],['a', 'b', 'c', 'd','e']):\n",
        "    ax.scatter(lda_Components[y_train.iloc[:,0] == i, 0], lda_Components[y_train.iloc[:,0] == i, 1],\n",
        "               alpha=.8, color=color, label=target_name, s = 10)"
      ],
      "metadata": {
        "colab": {
          "base_uri": "https://localhost:8080/",
          "height": 515
        },
        "id": "DfLHtePzvI1D",
        "outputId": "03da3f38-7354-4561-c6d7-7e6cfe8796af"
      },
      "execution_count": 130,
      "outputs": [
        {
          "output_type": "display_data",
          "data": {
            "text/plain": [
              "<Figure size 576x576 with 1 Axes>"
            ],
            "image/png": "[encoded data removed]"
          },
          "metadata": {
            "needs_background": "light"
          }
        }
      ]
    },
    {
      "cell_type": "code",
      "source": [
        "km_lda_eval = Evaluate(y_train, y_km_lda)\n",
        "km_lda_eval"
      ],
      "metadata": {
        "colab": {
          "base_uri": "https://localhost:8080/",
          "height": 112
        },
        "id": "2t9xaGY0vLEB",
        "outputId": "289e5d0b-3fdc-4217-857f-596c027936a8"
      },
      "execution_count": 131,
      "outputs": [
        {
          "output_type": "execute_result",
          "data": {
            "text/plain": [
              "              values\n",
              "kappa      -0.016865\n",
              "silhouette -0.540443"
            ],
            "text/html": [
              "\n",
              "  <div id=\"df-ed1a9028-71b1-4944-bb59-31e1f5485f24\">\n",
              "    <div class=\"colab-df-container\">\n",
              "      <div>\n",
              "<style scoped>\n",
              "    .dataframe tbody tr th:only-of-type {\n",
              "        vertical-align: middle;\n",
              "    }\n",
              "\n",
              "    .dataframe tbody tr th {\n",
              "        vertical-align: top;\n",
              "    }\n",
              "\n",
              "    .dataframe thead th {\n",
              "        text-align: right;\n",
              "    }\n",
              "</style>\n",
              "<table border=\"1\" class=\"dataframe\">\n",
              "  <thead>\n",
              "    <tr style=\"text-align: right;\">\n",
              "      <th></th>\n",
              "      <th>values</th>\n",
              "    </tr>\n",
              "  </thead>\n",
              "  <tbody>\n",
              "    <tr>\n",
              "      <th>kappa</th>\n",
              "      <td>-0.016865</td>\n",
              "    </tr>\n",
              "    <tr>\n",
              "      <th>silhouette</th>\n",
              "      <td>-0.540443</td>\n",
              "    </tr>\n",
              "  </tbody>\n",
              "</table>\n",
              "</div>\n",
              "      <button class=\"colab-df-convert\" onclick=\"convertToInteractive('df-ed1a9028-71b1-4944-bb59-31e1f5485f24')\"\n",
              "              title=\"Convert this dataframe to an interactive table.\"\n",
              "              style=\"display:none;\">\n",
              "        \n",
              "  <svg xmlns=\"http://www.w3.org/2000/svg\" height=\"24px\"viewBox=\"0 0 24 24\"\n",
              "       width=\"24px\">\n",
              "    <path d=\"M0 0h24v24H0V0z\" fill=\"none\"/>\n",
              "    <path d=\"M18.56 5.44l.94 2.06.94-2.06 2.06-.94-2.06-.94-.94-2.06-.94 2.06-2.06.94zm-11 1L8.5 8.5l.94-2.06 2.06-.94-2.06-.94L8.5 2.5l-.94 2.06-2.06.94zm10 10l.94 2.06.94-2.06 2.06-.94-2.06-.94-.94-2.06-.94 2.06-2.06.94z\"/><path d=\"M17.41 7.96l-1.37-1.37c-.4-.4-.92-.59-1.43-.59-.52 0-1.04.2-1.43.59L10.3 9.45l-7.72 7.72c-.78.78-.78 2.05 0 2.83L4 21.41c.39.39.9.59 1.41.59.51 0 1.02-.2 1.41-.59l7.78-7.78 2.81-2.81c.8-.78.8-2.07 0-2.86zM5.41 20L4 18.59l7.72-7.72 1.47 1.35L5.41 20z\"/>\n",
              "  </svg>\n",
              "      </button>\n",
              "      \n",
              "  <style>\n",
              "    .colab-df-container {\n",
              "      display:flex;\n",
              "      flex-wrap:wrap;\n",
              "      gap: 12px;\n",
              "    }\n",
              "\n",
              "    .colab-df-convert {\n",
              "      background-color: #E8F0FE;\n",
              "      border: none;\n",
              "      border-radius: 50%;\n",
              "      cursor: pointer;\n",
              "      display: none;\n",
              "      fill: #1967D2;\n",
              "      height: 32px;\n",
              "      padding: 0 0 0 0;\n",
              "      width: 32px;\n",
              "    }\n",
              "\n",
              "    .colab-df-convert:hover {\n",
              "      background-color: #E2EBFA;\n",
              "      box-shadow: 0px 1px 2px rgba(60, 64, 67, 0.3), 0px 1px 3px 1px rgba(60, 64, 67, 0.15);\n",
              "      fill: #174EA6;\n",
              "    }\n",
              "\n",
              "    [theme=dark] .colab-df-convert {\n",
              "      background-color: #3B4455;\n",
              "      fill: #D2E3FC;\n",
              "    }\n",
              "\n",
              "    [theme=dark] .colab-df-convert:hover {\n",
              "      background-color: #434B5C;\n",
              "      box-shadow: 0px 1px 3px 1px rgba(0, 0, 0, 0.15);\n",
              "      filter: drop-shadow(0px 1px 2px rgba(0, 0, 0, 0.3));\n",
              "      fill: #FFFFFF;\n",
              "    }\n",
              "  </style>\n",
              "\n",
              "      <script>\n",
              "        const buttonEl =\n",
              "          document.querySelector('#df-ed1a9028-71b1-4944-bb59-31e1f5485f24 button.colab-df-convert');\n",
              "        buttonEl.style.display =\n",
              "          google.colab.kernel.accessAllowed ? 'block' : 'none';\n",
              "\n",
              "        async function convertToInteractive(key) {\n",
              "          const element = document.querySelector('#df-ed1a9028-71b1-4944-bb59-31e1f5485f24');\n",
              "          const dataTable =\n",
              "            await google.colab.kernel.invokeFunction('convertToInteractive',\n",
              "                                                     [key], {});\n",
              "          if (!dataTable) return;\n",
              "\n",
              "          const docLinkHtml = 'Like what you see? Visit the ' +\n",
              "            '<a target=\"_blank\" href=https://colab.research.google.com/notebooks/data_table.ipynb>data table notebook</a>'\n",
              "            + ' to learn more about interactive tables.';\n",
              "          element.innerHTML = '';\n",
              "          dataTable['output_type'] = 'display_data';\n",
              "          await google.colab.output.renderOutput(dataTable, element);\n",
              "          const docLink = document.createElement('div');\n",
              "          docLink.innerHTML = docLinkHtml;\n",
              "          element.appendChild(docLink);\n",
              "        }\n",
              "      </script>\n",
              "    </div>\n",
              "  </div>\n",
              "  "
            ]
          },
          "metadata": {},
          "execution_count": 131
        }
      ]
    },
    {
      "cell_type": "code",
      "source": [
        "model_lda_agg, pred_lda_agg = Agglomorative(lda_output)"
      ],
      "metadata": {
        "id": "OnpPKEiVvN5W"
      },
      "execution_count": 132,
      "outputs": []
    },
    {
      "cell_type": "code",
      "source": [
        "visualizeHierarchy(lda_output, pred_lda_agg)"
      ],
      "metadata": {
        "colab": {
          "base_uri": "https://localhost:8080/",
          "height": 294
        },
        "id": "m8giUHzFvP06",
        "outputId": "18d93f14-98d7-43c9-a82d-bf98f5e84c62"
      },
      "execution_count": 133,
      "outputs": [
        {
          "output_type": "display_data",
          "data": {
            "text/plain": [
              "<Figure size 1152x345.6 with 1 Axes>"
            ],
            "image/png": "[encoded data removed]"
          },
          "metadata": {
            "needs_background": "light"
          }
        }
      ]
    },
    {
      "cell_type": "code",
      "source": [
        "agg_lda_eval = Evaluate(y_train, pred_lda_agg)\n",
        "agg_lda_eval"
      ],
      "metadata": {
        "colab": {
          "base_uri": "https://localhost:8080/",
          "height": 112
        },
        "id": "lTYR8S8RvR6d",
        "outputId": "44a7c539-c9d3-4ab2-d4d4-0aa307daa8db"
      },
      "execution_count": 134,
      "outputs": [
        {
          "output_type": "execute_result",
          "data": {
            "text/plain": [
              "              values\n",
              "kappa       0.097144\n",
              "silhouette -0.190514"
            ],
            "text/html": [
              "\n",
              "  <div id=\"df-7be1707d-ff1a-4d52-b6fb-1c7597603b32\">\n",
              "    <div class=\"colab-df-container\">\n",
              "      <div>\n",
              "<style scoped>\n",
              "    .dataframe tbody tr th:only-of-type {\n",
              "        vertical-align: middle;\n",
              "    }\n",
              "\n",
              "    .dataframe tbody tr th {\n",
              "        vertical-align: top;\n",
              "    }\n",
              "\n",
              "    .dataframe thead th {\n",
              "        text-align: right;\n",
              "    }\n",
              "</style>\n",
              "<table border=\"1\" class=\"dataframe\">\n",
              "  <thead>\n",
              "    <tr style=\"text-align: right;\">\n",
              "      <th></th>\n",
              "      <th>values</th>\n",
              "    </tr>\n",
              "  </thead>\n",
              "  <tbody>\n",
              "    <tr>\n",
              "      <th>kappa</th>\n",
              "      <td>0.097144</td>\n",
              "    </tr>\n",
              "    <tr>\n",
              "      <th>silhouette</th>\n",
              "      <td>-0.190514</td>\n",
              "    </tr>\n",
              "  </tbody>\n",
              "</table>\n",
              "</div>\n",
              "      <button class=\"colab-df-convert\" onclick=\"convertToInteractive('df-7be1707d-ff1a-4d52-b6fb-1c7597603b32')\"\n",
              "              title=\"Convert this dataframe to an interactive table.\"\n",
              "              style=\"display:none;\">\n",
              "        \n",
              "  <svg xmlns=\"http://www.w3.org/2000/svg\" height=\"24px\"viewBox=\"0 0 24 24\"\n",
              "       width=\"24px\">\n",
              "    <path d=\"M0 0h24v24H0V0z\" fill=\"none\"/>\n",
              "    <path d=\"M18.56 5.44l.94 2.06.94-2.06 2.06-.94-2.06-.94-.94-2.06-.94 2.06-2.06.94zm-11 1L8.5 8.5l.94-2.06 2.06-.94-2.06-.94L8.5 2.5l-.94 2.06-2.06.94zm10 10l.94 2.06.94-2.06 2.06-.94-2.06-.94-.94-2.06-.94 2.06-2.06.94z\"/><path d=\"M17.41 7.96l-1.37-1.37c-.4-.4-.92-.59-1.43-.59-.52 0-1.04.2-1.43.59L10.3 9.45l-7.72 7.72c-.78.78-.78 2.05 0 2.83L4 21.41c.39.39.9.59 1.41.59.51 0 1.02-.2 1.41-.59l7.78-7.78 2.81-2.81c.8-.78.8-2.07 0-2.86zM5.41 20L4 18.59l7.72-7.72 1.47 1.35L5.41 20z\"/>\n",
              "  </svg>\n",
              "      </button>\n",
              "      \n",
              "  <style>\n",
              "    .colab-df-container {\n",
              "      display:flex;\n",
              "      flex-wrap:wrap;\n",
              "      gap: 12px;\n",
              "    }\n",
              "\n",
              "    .colab-df-convert {\n",
              "      background-color: #E8F0FE;\n",
              "      border: none;\n",
              "      border-radius: 50%;\n",
              "      cursor: pointer;\n",
              "      display: none;\n",
              "      fill: #1967D2;\n",
              "      height: 32px;\n",
              "      padding: 0 0 0 0;\n",
              "      width: 32px;\n",
              "    }\n",
              "\n",
              "    .colab-df-convert:hover {\n",
              "      background-color: #E2EBFA;\n",
              "      box-shadow: 0px 1px 2px rgba(60, 64, 67, 0.3), 0px 1px 3px 1px rgba(60, 64, 67, 0.15);\n",
              "      fill: #174EA6;\n",
              "    }\n",
              "\n",
              "    [theme=dark] .colab-df-convert {\n",
              "      background-color: #3B4455;\n",
              "      fill: #D2E3FC;\n",
              "    }\n",
              "\n",
              "    [theme=dark] .colab-df-convert:hover {\n",
              "      background-color: #434B5C;\n",
              "      box-shadow: 0px 1px 3px 1px rgba(0, 0, 0, 0.15);\n",
              "      filter: drop-shadow(0px 1px 2px rgba(0, 0, 0, 0.3));\n",
              "      fill: #FFFFFF;\n",
              "    }\n",
              "  </style>\n",
              "\n",
              "      <script>\n",
              "        const buttonEl =\n",
              "          document.querySelector('#df-7be1707d-ff1a-4d52-b6fb-1c7597603b32 button.colab-df-convert');\n",
              "        buttonEl.style.display =\n",
              "          google.colab.kernel.accessAllowed ? 'block' : 'none';\n",
              "\n",
              "        async function convertToInteractive(key) {\n",
              "          const element = document.querySelector('#df-7be1707d-ff1a-4d52-b6fb-1c7597603b32');\n",
              "          const dataTable =\n",
              "            await google.colab.kernel.invokeFunction('convertToInteractive',\n",
              "                                                     [key], {});\n",
              "          if (!dataTable) return;\n",
              "\n",
              "          const docLinkHtml = 'Like what you see? Visit the ' +\n",
              "            '<a target=\"_blank\" href=https://colab.research.google.com/notebooks/data_table.ipynb>data table notebook</a>'\n",
              "            + ' to learn more about interactive tables.';\n",
              "          element.innerHTML = '';\n",
              "          dataTable['output_type'] = 'display_data';\n",
              "          await google.colab.output.renderOutput(dataTable, element);\n",
              "          const docLink = document.createElement('div');\n",
              "          docLink.innerHTML = docLinkHtml;\n",
              "          element.appendChild(docLink);\n",
              "        }\n",
              "      </script>\n",
              "    </div>\n",
              "  </div>\n",
              "  "
            ]
          },
          "metadata": {},
          "execution_count": 134
        }
      ]
    },
    {
      "cell_type": "code",
      "source": [
        "def towords(sentences):\n",
        "    for sentence in sentences:\n",
        "        yield(gensim.utils.simple_preprocess(str(sentence)))"
      ],
      "metadata": {
        "id": "fQzEqf2svXRY"
      },
      "execution_count": 135,
      "outputs": []
    },
    {
      "cell_type": "code",
      "source": [
        "data_words = list(towords(df['text']))"
      ],
      "metadata": {
        "id": "XBnK-izBvaBS"
      },
      "execution_count": 136,
      "outputs": []
    },
    {
      "cell_type": "code",
      "source": [
        "id2word = corpora.Dictionary(data_words)\n",
        "texts = data_words\n",
        "corpus = [id2word.doc2bow(text) for text in texts]#TF"
      ],
      "metadata": {
        "id": "3NtZrwKXvb5Z"
      },
      "execution_count": 137,
      "outputs": []
    },
    {
      "cell_type": "code",
      "source": [
        "def LDA_Model(corpus,id2word):\n",
        "    num_topics = 5\n",
        "    # Build LDA model\n",
        "    lda = gensim.models.LdaMulticore(corpus=corpus,id2word=id2word,num_topics=2,random_state=12345,chunksize=100,per_word_topics=True)\n",
        "    pprint(lda.print_topics())\n",
        "    doc_lda = lda[corpus]\n",
        "    return lda"
      ],
      "metadata": {
        "id": "3ppZduaAveGH"
      },
      "execution_count": 138,
      "outputs": []
    },
    {
      "cell_type": "code",
      "source": [
        "pyLDAvis.enable_notebook()\n",
        "LDAvis_prepared = gensimvis.prepare(LDA_Model(corpus,id2word), corpus, id2word)\n",
        "LDAvis_prepared"
      ],
      "metadata": {
        "colab": {
          "base_uri": "https://localhost:8080/",
          "height": 1000
        },
        "id": "8VZ-4DFRvgHg",
        "outputId": "28dcf2f1-4c44-4842-ff80-ee54ee9da49f"
      },
      "execution_count": 139,
      "outputs": [
        {
          "output_type": "stream",
          "name": "stderr",
          "text": [
            "WARNING:gensim.models.ldamulticore:too few updates, training might not converge; consider increasing the number of passes or iterations to improve accuracy\n",
            "/usr/local/lib/python3.7/dist-packages/gensim/models/ldamodel.py:1077: DeprecationWarning: Calling np.sum(generator) is deprecated, and in the future will give a different result. Use np.sum(np.fromiter(generator)) or the python sum builtin instead.\n",
            "  score += np.sum(cnt * logsumexp(Elogthetad + Elogbeta[:, int(id)]) for id, cnt in doc)\n",
            "/usr/local/lib/python3.7/dist-packages/gensim/models/ldamodel.py:1077: DeprecationWarning: Calling np.sum(generator) is deprecated, and in the future will give a different result. Use np.sum(np.fromiter(generator)) or the python sum builtin instead.\n",
            "  score += np.sum(cnt * logsumexp(Elogthetad + Elogbeta[:, int(id)]) for id, cnt in doc)\n",
            "/usr/local/lib/python3.7/dist-packages/gensim/models/ldamodel.py:1077: DeprecationWarning: Calling np.sum(generator) is deprecated, and in the future will give a different result. Use np.sum(np.fromiter(generator)) or the python sum builtin instead.\n",
            "  score += np.sum(cnt * logsumexp(Elogthetad + Elogbeta[:, int(id)]) for id, cnt in doc)\n",
            "/usr/local/lib/python3.7/dist-packages/gensim/models/ldamodel.py:1077: DeprecationWarning: Calling np.sum(generator) is deprecated, and in the future will give a different result. Use np.sum(np.fromiter(generator)) or the python sum builtin instead.\n",
            "  score += np.sum(cnt * logsumexp(Elogthetad + Elogbeta[:, int(id)]) for id, cnt in doc)\n",
            "/usr/local/lib/python3.7/dist-packages/gensim/models/ldamodel.py:1077: DeprecationWarning: Calling np.sum(generator) is deprecated, and in the future will give a different result. Use np.sum(np.fromiter(generator)) or the python sum builtin instead.\n",
            "  score += np.sum(cnt * logsumexp(Elogthetad + Elogbeta[:, int(id)]) for id, cnt in doc)\n",
            "/usr/local/lib/python3.7/dist-packages/gensim/models/ldamodel.py:1077: DeprecationWarning: Calling np.sum(generator) is deprecated, and in the future will give a different result. Use np.sum(np.fromiter(generator)) or the python sum builtin instead.\n",
            "  score += np.sum(cnt * logsumexp(Elogthetad + Elogbeta[:, int(id)]) for id, cnt in doc)\n",
            "/usr/local/lib/python3.7/dist-packages/gensim/models/ldamodel.py:1077: DeprecationWarning: Calling np.sum(generator) is deprecated, and in the future will give a different result. Use np.sum(np.fromiter(generator)) or the python sum builtin instead.\n",
            "  score += np.sum(cnt * logsumexp(Elogthetad + Elogbeta[:, int(id)]) for id, cnt in doc)\n",
            "/usr/local/lib/python3.7/dist-packages/gensim/models/ldamodel.py:1077: DeprecationWarning: Calling np.sum(generator) is deprecated, and in the future will give a different result. Use np.sum(np.fromiter(generator)) or the python sum builtin instead.\n",
            "  score += np.sum(cnt * logsumexp(Elogthetad + Elogbeta[:, int(id)]) for id, cnt in doc)\n",
            "/usr/local/lib/python3.7/dist-packages/gensim/models/ldamodel.py:1077: DeprecationWarning: Calling np.sum(generator) is deprecated, and in the future will give a different result. Use np.sum(np.fromiter(generator)) or the python sum builtin instead.\n",
            "  score += np.sum(cnt * logsumexp(Elogthetad + Elogbeta[:, int(id)]) for id, cnt in doc)\n"
          ]
        },
        {
          "output_type": "stream",
          "name": "stdout",
          "text": [
            "[(0,\n",
            "  '0.035*\"and\" + 0.035*\"you\" + 0.034*\"be\" + 0.031*\"like\" + 0.027*\"the\" + '\n",
            "  '0.025*\"to\" + 0.024*\"it\" + 0.020*\"so\" + 0.019*\"that\" + 0.017*\"of\"'),\n",
            " (1,\n",
            "  '0.029*\"the\" + 0.028*\"you\" + 0.024*\"like\" + 0.023*\"of\" + 0.021*\"be\" + '\n",
            "  '0.021*\"and\" + 0.019*\"it\" + 0.019*\"that\" + 0.017*\"to\" + 0.012*\"in\"')]\n"
          ]
        },
        {
          "output_type": "execute_result",
          "data": {
            "text/plain": [
              "PreparedData(topic_coordinates=             x    y  topics  cluster       Freq\n",
              "topic                                          \n",
              "0      0.02508  0.0       1        1  60.234324\n",
              "1     -0.02508  0.0       2        1  39.765676, topic_info=           Term        Freq       Total Category  logprob  loglift\n",
              "22           of  544.000000  544.000000  Default  30.0000  30.0000\n",
              "28          the  777.000000  777.000000  Default  29.0000  29.0000\n",
              "20      million   29.000000   29.000000  Default  28.0000  28.0000\n",
              "3776     qrenby   20.000000   20.000000  Default  27.0000  27.0000\n",
              "3777  valuation   20.000000   20.000000  Default  26.0000  26.0000\n",
              "...         ...         ...         ...      ...      ...      ...\n",
              "74         this   59.802902  194.663580   Topic2  -5.2330  -0.2581\n",
              "186         get   60.979556  212.924752   Topic2  -5.2136  -0.3282\n",
              "195        just   59.671569  230.924058   Topic2  -5.2352  -0.4311\n",
              "380        they   55.295225  228.561350   Topic2  -5.3114  -0.4970\n",
              "276      people   55.233589  252.539587   Topic2  -5.3125  -0.5978\n",
              "\n",
              "[187 rows x 6 columns], token_table=      Topic      Freq     Term\n",
              "term                          \n",
              "1612      1  0.165416   actual\n",
              "1612      2  0.827082   actual\n",
              "547       1  0.805070       ah\n",
              "547       2  0.185785       ah\n",
              "3808      1  0.889022  alesome\n",
              "...     ...       ...      ...\n",
              "3821      2  0.688319      yok\n",
              "172       1  0.654877      you\n",
              "172       2  0.345319      you\n",
              "695       1  0.765097     your\n",
              "695       2  0.237700     your\n",
              "\n",
              "[257 rows x 3 columns], R=30, lambda_step=0.01, plot_opts={'xlab': 'PC1', 'ylab': 'PC2'}, topic_order=[1, 2])"
            ],
            "text/html": [
              "\n",
              "<link rel=\"stylesheet\" type=\"text/css\" href=\"https://cdn.jsdelivr.net/gh/bmabey/pyLDAvis@3.3.1/pyLDAvis/js/ldavis.v1.0.0.css\">\n",
              "\n",
              "\n",
              "<div id=\"ldavis_el13221398321678216482155364067\"></div>\n",
              "<script type=\"text/javascript\">\n",
              "\n",
              "var ldavis_el13221398321678216482155364067_data = {\"mdsDat\": {\"x\": [0.025079937839118497, -0.025079937839118497], \"y\": [0.0, 0.0], \"topics\": [1, 2], \"cluster\": [1, 1], \"Freq\": [60.234323657912114, 39.76567634208788]}, \"tinfo\": {\"Term\": [\"of\", \"the\", \"million\", \"qrenby\", \"valuation\", \"dollar\", \"than\", \"in\", \"now\", \"what\", \"next\", \"know\", \"that\", \"sort\", \"um\", \"possible\", \"im\", \"journal\", \"at\", \"kind\", \"mean\", \"armstrong\", \"my\", \"so\", \"more\", \"description\", \"see\", \"day\", \"freedom\", \"ye\", \"seven\", \"valuable\", \"scale\", \"incredible\", \"extremely\", \"thanks\", \"engineering\", \"love\", \"genius\", \"oh\", \"alesome\", \"drink\", \"intocripto\", \"personally\", \"sobuian\", \"ta\", \"brain\", \"most\", \"maybe\", \"human\", \"much\", \"open\", \"my\", \"god\", \"shot\", \"at\", \"humanity\", \"day\", \"easy\", \"realize\", \"try\", \"go\", \"so\", \"write\", \"people\", \"and\", \"year\", \"be\", \"do\", \"they\", \"just\", \"to\", \"you\", \"like\", \"it\", \"your\", \"for\", \"get\", \"thank\", \"ah\", \"the\", \"help\", \"that\", \"this\", \"out\", \"re\", \"or\", \"of\", \"can\", \"think\", \"in\", \"have\", \"know\", \"one\", \"what\", \"we\", \"if\", \"qrenby\", \"valuation\", \"million\", \"dollar\", \"west\", \"authoritarian\", \"misinformation\", \"prestigious\", \"rit\", \"bio\", \"associate\", \"verified\", \"last\", \"cell\", \"top\", \"verse\", \"yah\", \"tissue\", \"journal\", \"possible\", \"arcivan\", \"arcvants\", \"aready\", \"athe\", \"culelly\", \"publishes\", \"shift\", \"sort\", \"china\", \"iown\", \"gain\", \"different\", \"armstrong\", \"body\", \"description\", \"freedom\", \"actual\", \"prestige\", \"publish\", \"fund\", \"next\", \"full\", \"than\", \"term\", \"knowledge\", \"cripto\", \"leave\", \"benjamin\", \"franklin\", \"guest\", \"pot\", \"responsors\", \"of\", \"yok\", \"now\", \"um\", \"the\", \"in\", \"mean\", \"what\", \"that\", \"know\", \"im\", \"you\", \"kind\", \"like\", \"it\", \"see\", \"more\", \"have\", \"to\", \"be\", \"and\", \"if\", \"we\", \"there\", \"but\", \"an\", \"think\", \"thing\", \"or\", \"with\", \"for\", \"so\", \"do\", \"this\", \"get\", \"just\", \"they\", \"people\"], \"Freq\": [544.0, 777.0, 29.0, 20.0, 20.0, 26.0, 71.0, 287.0, 91.0, 195.0, 42.0, 196.0, 526.0, 23.0, 67.0, 23.0, 83.0, 20.0, 126.0, 70.0, 46.0, 20.0, 101.0, 427.0, 107.0, 20.0, 51.0, 113.0, 19.0, 53.0, 18.236032397238446, 18.890645644028353, 19.091257295275426, 19.21992908242013, 18.508807181048304, 34.41620090770322, 19.278790947058244, 18.6264874421287, 17.388477659938776, 19.472714423628403, 16.917839600354693, 16.917839600354693, 16.917839600354693, 16.917839600354693, 16.917839600354693, 20.783924647599832, 19.081743687869416, 32.24601764171782, 36.02893419954629, 38.785070721177476, 43.43305377174477, 54.03644441215919, 86.5480942227808, 18.38564004815763, 16.544841975658795, 106.60903805485493, 18.71072485399743, 95.48495770318267, 20.338172130129713, 7.986132534683421, 83.2980720601036, 83.09026247079213, 332.02389474967697, 68.68619061124343, 197.30599769704048, 588.90610551183, 91.17670626462358, 577.9296747664374, 235.2265136646937, 173.2661253813407, 171.25248887099096, 418.1209866824274, 585.7065301662432, 531.4108019175989, 403.83774850398396, 102.65045268687877, 190.92592559218312, 151.94519661825635, 73.08481638059195, 52.30275098627748, 452.24007456830884, 83.94042134818757, 318.29113780325315, 134.8606782209829, 84.24413758412166, 105.51199563174899, 141.32820833585475, 285.0216239499505, 106.46567204169185, 119.98590902703762, 156.05768310940368, 121.73652343606058, 105.0829408289597, 91.59819760133804, 102.93267192414672, 97.31905475812854, 96.59244039659669, 20.167529618027523, 20.167529618027523, 26.6004079917235, 23.104155145941416, 2.563213949620111, 2.839737403821865, 3.5493637515690746, 3.5462882849125776, 2.936552154995039, 2.5808322548953293, 4.023370090764457, 2.207237896508136, 5.58475265211627, 10.955641181375572, 3.8916493963284817, 5.765445041410285, 2.7535822702997965, 3.4545678970209006, 16.352508289335244, 18.54080309175552, 1.6044457796309382, 1.6044457796309382, 1.6044457796309382, 1.6044457796309382, 1.6044457796309382, 1.6044457796309382, 1.6044457796309382, 19.115976337568636, 2.3878676742447285, 1.60131210379215, 2.5120774275540176, 8.92333133460535, 15.89229377617138, 3.939742898873305, 15.628571287494754, 14.810435197512769, 4.722715751223709, 3.379603601082442, 11.833915672261451, 5.271211908148961, 29.43879859485707, 4.047460865788181, 45.46818428922639, 5.327105441120754, 14.839690447718228, 16.501214651434985, 14.736029187961323, 13.951617248095797, 13.951617248095797, 13.951617248095797, 13.951617248095797, 13.951617248095797, 259.60542397729995, 13.951617248095797, 51.651153849101995, 39.22195879465027, 324.8907662180349, 131.65919684251205, 27.995797857395438, 93.01910029505947, 208.70066250422641, 91.28455144927689, 44.44368181038873, 309.1176418017494, 38.43892822227036, 272.88604490417055, 211.9503484280655, 29.406898006350527, 52.20473393404917, 86.75963506490346, 194.35036485983818, 237.15636312140603, 234.02092241934307, 72.51322564716779, 72.36914601828005, 70.3818343151846, 61.42567365397095, 57.8151521070787, 71.72424175920301, 51.75267327183208, 74.33719944983844, 54.331591145749044, 79.95848072808069, 95.87078541888566, 81.68280301948434, 59.802902091076106, 60.97955587207917, 59.67156913175354, 55.29522475551289, 55.23358889486065], \"Total\": [544.0, 777.0, 29.0, 20.0, 20.0, 26.0, 71.0, 287.0, 91.0, 195.0, 42.0, 196.0, 526.0, 23.0, 67.0, 23.0, 83.0, 20.0, 126.0, 70.0, 46.0, 20.0, 101.0, 427.0, 107.0, 20.0, 51.0, 113.0, 19.0, 53.0, 19.187453818388235, 19.95291936013553, 20.350295820077047, 20.54540817117694, 20.33457258734643, 37.95526212315961, 21.289561765871554, 20.65203393628989, 19.285433222280442, 21.619494665510167, 19.12213687332609, 19.12213687332609, 19.12213687332609, 19.12213687332609, 19.12213687332609, 23.690570979175572, 21.882397457479865, 37.37513262029741, 41.89387683214491, 45.318179110842884, 50.75136913761422, 63.34510553284417, 101.50447043860717, 21.707809611074204, 19.58582303419288, 126.30096767388957, 22.218323761849234, 113.73678889132367, 24.30567021064524, 9.56907744027525, 99.98316902924252, 101.02387433155783, 427.8946801685626, 84.47580534646497, 252.53958659190113, 822.927027931173, 113.86585896389708, 815.0860378878434, 316.90931668417807, 228.56135013685358, 230.92405800274452, 612.4713515422656, 894.8241719679926, 804.2968468217693, 615.7880969320495, 134.6234175449854, 270.8844063202638, 212.92475249033552, 94.61920977784843, 64.5906682790361, 777.1308407863437, 111.84200968218194, 526.9918003074796, 194.663580312059, 114.137008237478, 150.15980677222302, 215.6654077856932, 544.6270479272505, 154.17006462765576, 191.71015078624063, 287.71687995191576, 208.49615850096404, 196.3674922782366, 133.61492500530295, 195.9517722192062, 169.6882007764086, 169.10566604376447, 20.983510823770107, 20.983510823770107, 29.403655887350126, 26.32910258106142, 3.0088326356776376, 3.44103993390874, 4.321678993537292, 4.321360299618747, 3.5919491876910454, 3.164801903638692, 4.9429282891007436, 2.7225361622293525, 6.89503164408551, 13.541259874065183, 4.814967099647486, 7.1366003772182385, 3.432112348231488, 4.311856052489601, 20.439591571672786, 23.177389571706424, 2.007110972811412, 2.007110972811412, 2.007110972811412, 2.007110972811412, 2.007110972811412, 2.007110972811412, 2.007110972811412, 23.91795090539614, 2.9906631269268136, 2.006786182149898, 3.1576775686359455, 11.413917190199939, 20.621336614700706, 5.015094074812993, 20.594008993662968, 19.575343743214635, 6.045347120160869, 4.3040879685495295, 15.718736005867061, 6.8359774284451795, 42.8063258807629, 5.221399268256527, 71.82490946695792, 7.02361367780587, 21.487950947768386, 24.351863735104082, 21.47720839012739, 20.339410391237873, 20.339410391237873, 20.339410391237873, 20.339410391237873, 20.339410391237873, 544.6270479272505, 20.339410391237873, 91.2987126086746, 67.49128458900071, 777.1308407863437, 287.71687995191576, 46.582995977973034, 195.9517722192062, 526.9918003074796, 196.3674922782366, 83.17545262016753, 894.8241719679926, 70.7172842258603, 804.2968468217693, 615.7880969320495, 51.05001698859766, 107.16134472881873, 208.49615850096404, 612.4713515422656, 815.0860378878434, 822.927027931173, 169.10566604376447, 169.6882007764086, 164.1396899516354, 136.04226973914965, 129.51260593625528, 191.71015078624063, 115.2655913958005, 215.6654077856932, 127.96406727728565, 270.8844063202638, 427.8946801685626, 316.90931668417807, 194.663580312059, 212.92475249033552, 230.92405800274452, 228.56135013685358, 252.53958659190113], \"Category\": [\"Default\", \"Default\", \"Default\", \"Default\", \"Default\", \"Default\", \"Default\", \"Default\", \"Default\", \"Default\", \"Default\", \"Default\", \"Default\", \"Default\", \"Default\", \"Default\", \"Default\", \"Default\", \"Default\", \"Default\", \"Default\", \"Default\", \"Default\", \"Default\", \"Default\", \"Default\", \"Default\", \"Default\", \"Default\", \"Default\", \"Topic1\", \"Topic1\", \"Topic1\", \"Topic1\", \"Topic1\", \"Topic1\", \"Topic1\", \"Topic1\", \"Topic1\", \"Topic1\", \"Topic1\", \"Topic1\", \"Topic1\", \"Topic1\", \"Topic1\", \"Topic1\", \"Topic1\", \"Topic1\", \"Topic1\", \"Topic1\", \"Topic1\", \"Topic1\", \"Topic1\", \"Topic1\", \"Topic1\", \"Topic1\", \"Topic1\", \"Topic1\", \"Topic1\", \"Topic1\", \"Topic1\", \"Topic1\", \"Topic1\", \"Topic1\", \"Topic1\", \"Topic1\", \"Topic1\", \"Topic1\", \"Topic1\", \"Topic1\", \"Topic1\", \"Topic1\", \"Topic1\", \"Topic1\", \"Topic1\", \"Topic1\", \"Topic1\", \"Topic1\", \"Topic1\", \"Topic1\", \"Topic1\", \"Topic1\", \"Topic1\", \"Topic1\", \"Topic1\", \"Topic1\", \"Topic1\", \"Topic1\", \"Topic1\", \"Topic1\", \"Topic1\", \"Topic1\", \"Topic1\", \"Topic1\", \"Topic1\", \"Topic1\", \"Topic1\", \"Topic2\", \"Topic2\", \"Topic2\", \"Topic2\", \"Topic2\", \"Topic2\", \"Topic2\", \"Topic2\", \"Topic2\", \"Topic2\", \"Topic2\", \"Topic2\", \"Topic2\", \"Topic2\", \"Topic2\", \"Topic2\", \"Topic2\", \"Topic2\", \"Topic2\", \"Topic2\", \"Topic2\", \"Topic2\", \"Topic2\", \"Topic2\", \"Topic2\", \"Topic2\", \"Topic2\", \"Topic2\", \"Topic2\", \"Topic2\", \"Topic2\", \"Topic2\", \"Topic2\", \"Topic2\", \"Topic2\", \"Topic2\", \"Topic2\", \"Topic2\", \"Topic2\", \"Topic2\", \"Topic2\", \"Topic2\", \"Topic2\", \"Topic2\", \"Topic2\", \"Topic2\", \"Topic2\", \"Topic2\", \"Topic2\", \"Topic2\", \"Topic2\", \"Topic2\", \"Topic2\", \"Topic2\", \"Topic2\", \"Topic2\", \"Topic2\", \"Topic2\", \"Topic2\", \"Topic2\", \"Topic2\", \"Topic2\", \"Topic2\", \"Topic2\", \"Topic2\", \"Topic2\", \"Topic2\", \"Topic2\", \"Topic2\", \"Topic2\", \"Topic2\", \"Topic2\", \"Topic2\", \"Topic2\", \"Topic2\", \"Topic2\", \"Topic2\", \"Topic2\", \"Topic2\", \"Topic2\", \"Topic2\", \"Topic2\", \"Topic2\", \"Topic2\", \"Topic2\", \"Topic2\", \"Topic2\", \"Topic2\", \"Topic2\", \"Topic2\"], \"logprob\": [30.0, 29.0, 28.0, 27.0, 26.0, 25.0, 24.0, 23.0, 22.0, 21.0, 20.0, 19.0, 18.0, 17.0, 16.0, 15.0, 14.0, 13.0, 12.0, 11.0, 10.0, 9.0, 8.0, 7.0, 6.0, 5.0, 4.0, 3.0, 2.0, 1.0, -6.8359, -6.8007, -6.7901, -6.7834, -6.8211, -6.2008, -6.7803, -6.8147, -6.8835, -6.7703, -6.911, -6.911, -6.911, -6.911, -6.911, -6.7052, -6.7906, -6.2659, -6.155, -6.0813, -5.9681, -5.7497, -5.2786, -6.8278, -6.9333, -5.0702, -6.8102, -5.1804, -6.7268, -7.6616, -5.3169, -5.3194, -3.9341, -5.5098, -4.4546, -3.3611, -5.2265, -3.3799, -4.2788, -4.5845, -4.5962, -3.7036, -3.3665, -3.4638, -3.7383, -5.108, -4.4874, -4.7158, -5.4477, -5.7823, -3.6251, -5.3092, -3.9764, -4.8351, -5.3056, -5.0805, -4.7882, -4.0868, -5.0715, -4.952, -4.6891, -4.9375, -5.0846, -5.2219, -5.1053, -5.1613, -5.1688, -6.32, -6.32, -6.0432, -6.1841, -8.3828, -8.2804, -8.0573, -8.0582, -8.2469, -8.376, -7.932, -8.5324, -7.6041, -6.9302, -7.9653, -7.5722, -8.3112, -8.0844, -6.5297, -6.4041, -8.8513, -8.8513, -8.8513, -8.8513, -8.8513, -8.8513, -8.8513, -6.3736, -8.4537, -8.8533, -8.403, -7.1354, -6.5583, -7.953, -6.575, -6.6288, -7.7717, -8.1063, -6.8531, -7.6618, -5.9418, -7.926, -5.5071, -7.6513, -6.6268, -6.5207, -6.6338, -6.6885, -6.6885, -6.6885, -6.6885, -6.6885, -3.7649, -6.6885, -5.3796, -5.6549, -3.5406, -4.4439, -5.992, -4.7913, -3.9832, -4.8101, -5.5299, -3.5904, -5.675, -3.715, -3.9677, -5.9429, -5.3689, -4.861, -4.0544, -3.8554, -3.8687, -5.0403, -5.0423, -5.0702, -5.2063, -5.2668, -5.0513, -5.3776, -5.0155, -5.329, -4.9426, -4.7611, -4.9213, -5.233, -5.2136, -5.2352, -5.3114, -5.3125], \"loglift\": [30.0, 29.0, 28.0, 27.0, 26.0, 25.0, 24.0, 23.0, 22.0, 21.0, 20.0, 19.0, 18.0, 17.0, 16.0, 15.0, 14.0, 13.0, 12.0, 11.0, 10.0, 9.0, 8.0, 7.0, 6.0, 5.0, 4.0, 3.0, 2.0, 1.0, 0.4561, 0.4522, 0.4431, 0.4402, 0.4129, 0.409, 0.4077, 0.4037, 0.4034, 0.4023, 0.3844, 0.3844, 0.3844, 0.3844, 0.3844, 0.376, 0.37, 0.3593, 0.3561, 0.3513, 0.3512, 0.348, 0.3475, 0.3408, 0.3382, 0.3374, 0.3351, 0.332, 0.3287, 0.3261, 0.3244, 0.3115, 0.2533, 0.3, 0.2601, 0.1723, 0.2847, 0.1631, 0.2089, 0.23, 0.208, 0.1252, 0.0831, 0.0925, 0.085, 0.2358, 0.1571, 0.1695, 0.2487, 0.2959, -0.0345, 0.2199, 0.0027, 0.1399, 0.2032, 0.1541, 0.0843, -0.1406, 0.1367, 0.0383, -0.1048, -0.0311, -0.1183, 0.1294, -0.1369, -0.049, -0.0531, 0.8825, 0.8825, 0.822, 0.7915, 0.7619, 0.7301, 0.7253, 0.7245, 0.7207, 0.7182, 0.7163, 0.7123, 0.7114, 0.7103, 0.7093, 0.7088, 0.7019, 0.7005, 0.6991, 0.699, 0.6982, 0.6982, 0.6982, 0.6982, 0.6982, 0.6982, 0.6982, 0.6981, 0.6971, 0.6965, 0.6934, 0.676, 0.6617, 0.6808, 0.6463, 0.6432, 0.6753, 0.6804, 0.6383, 0.6622, 0.5478, 0.6675, 0.4649, 0.6457, 0.552, 0.533, 0.5455, 0.5452, 0.5452, 0.5452, 0.5452, 0.5452, 0.1812, 0.5452, 0.3525, 0.3794, 0.05, 0.1404, 0.413, 0.1771, -0.0041, 0.1562, 0.2954, -0.1407, 0.3125, -0.1587, -0.1444, 0.3706, 0.203, 0.0454, -0.2257, -0.3124, -0.3353, 0.0754, 0.07, 0.0754, 0.127, 0.1156, -0.061, 0.1214, -0.143, 0.0655, -0.298, -0.5737, -0.4336, -0.2581, -0.3282, -0.4311, -0.497, -0.5978]}, \"token.table\": {\"Topic\": [1, 2, 1, 2, 1, 2, 1, 2, 1, 2, 2, 2, 2, 1, 2, 1, 2, 1, 2, 2, 1, 2, 1, 2, 1, 2, 1, 2, 1, 2, 1, 2, 1, 2, 1, 2, 1, 2, 1, 2, 1, 2, 2, 1, 2, 1, 2, 1, 2, 1, 2, 1, 2, 1, 2, 1, 2, 1, 2, 1, 2, 1, 2, 1, 2, 1, 2, 1, 2, 1, 2, 1, 2, 1, 2, 1, 2, 1, 2, 1, 2, 1, 2, 1, 2, 1, 2, 1, 2, 1, 2, 1, 2, 1, 2, 1, 2, 1, 2, 1, 2, 2, 1, 2, 1, 2, 1, 2, 1, 2, 1, 2, 1, 2, 1, 2, 1, 2, 1, 2, 1, 2, 1, 2, 1, 2, 1, 2, 1, 2, 1, 2, 1, 2, 1, 2, 1, 2, 1, 2, 1, 2, 1, 2, 1, 2, 1, 2, 1, 2, 1, 2, 1, 2, 1, 2, 1, 2, 1, 2, 1, 2, 1, 2, 1, 2, 1, 2, 2, 1, 2, 1, 2, 1, 2, 1, 2, 1, 2, 1, 2, 1, 2, 1, 2, 2, 1, 2, 1, 2, 1, 2, 1, 2, 1, 2, 1, 2, 1, 2, 1, 2, 1, 2, 1, 2, 1, 2, 1, 2, 1, 2, 1, 2, 1, 2, 1, 2, 1, 2, 1, 2, 1, 2, 1, 2, 1, 2, 1, 2, 1, 2, 1, 2, 1, 2, 1, 2, 2, 1, 2, 1, 2, 1, 2, 1, 2, 1, 2, 1, 2, 1, 2, 1, 2, 1, 2], \"Freq\": [0.16541647321872718, 0.827082366093636, 0.8050698558398011, 0.1857853513476464, 0.8890219807867651, 0.10459082126903119, 0.5559304399715161, 0.44783285442149917, 0.7157378236570231, 0.28435085014557454, 0.9964571102904931, 0.9964571102904931, 0.9964571102904931, 0.24246730914792203, 0.7758953892733506, 0.20230922674015323, 0.8092369069606129, 0.8471827411194119, 0.15835191422792746, 0.9964571102904931, 0.29060982121880863, 0.8718294636564259, 0.7091275928339891, 0.2907668503488848, 0.2949938019139814, 0.6883188711326232, 0.3159755430032642, 0.9479266290097926, 0.1993980541705569, 0.7975922166822276, 0.8682778035139563, 0.1370964952916773, 0.5512992406243045, 0.448390049041101, 0.6875524133430584, 0.3113444890610076, 0.22154511676906313, 0.8123320948198981, 0.3343740025402305, 0.668748005080461, 0.3285169499559787, 0.6980985186564547, 0.9964571102904931, 0.8352618438241051, 0.15826013882983045, 0.2427890558627299, 0.7769249787607356, 0.17522468112150075, 0.7885110650467533, 0.7415370505948037, 0.2587490985054208, 0.11394235678043604, 0.8735580686500097, 0.8890219807867651, 0.10459082126903119, 0.8228532612624905, 0.16457065225249812, 0.8924561345578349, 0.09394275100608789, 0.9343692825795172, 0.09835466132415971, 0.7050978038735191, 0.29532892308838493, 0.2949938019139814, 0.6883188711326232, 0.25542335631950985, 0.7662700689585297, 0.19151954267881705, 0.7660781707152682, 0.29256971968307, 0.731424299207675, 0.31668844530950013, 0.9500653359285004, 0.8814943280796989, 0.10370521506819987, 0.7138672146954786, 0.286486184844896, 0.8215879716471383, 0.17817570469456012, 0.829194668761851, 0.1381991114603085, 0.2949938019139814, 0.6883188711326232, 0.585142675419777, 0.4172738750944312, 0.7510594653896175, 0.25035315512987255, 0.8605817966474476, 0.15446339939825984, 0.8551500195808933, 0.18003158306966174, 0.5736058540752647, 0.4316827561597352, 0.46888834110827166, 0.5290022309939475, 0.5421996791640145, 0.45878434390801226, 0.9247808484357596, 0.04867267623346103, 0.8890219807867651, 0.10459082126903119, 0.9966183830593115, 0.6560698428774279, 0.3442742739851849, 0.19569862665668902, 0.7827945066267561, 0.7405031830766099, 0.2598256782724947, 0.4525060648228069, 0.5373509519770832, 0.5347117223008767, 0.4634168259940932, 0.3257639603243314, 0.6980656292664245, 0.14503196672894028, 0.8701918003736416, 0.3259269022699314, 0.6984147905784244, 0.660204005645777, 0.3394269181568684, 0.9200062356382765, 0.09684276164613437, 0.8593141223057548, 0.14321902038429246, 0.40787415238350555, 0.6010776982493766, 0.1020281291378683, 0.9182531622408147, 0.2313915497878061, 0.9255661991512244, 0.5132447725360517, 0.4852496031249944, 0.8561842529121002, 0.13377878951751565, 0.8472677827351595, 0.13792731346851433, 0.8571051070368384, 0.14777674259255835, 0.30369343157858314, 0.6774699627522239, 0.43812227858511404, 0.5695589621606483, 0.5232938780485786, 0.47739090628993136, 0.8788364526535822, 0.09250910027932445, 0.688545834204889, 0.31433614170223195, 0.8524731239416947, 0.14207885399028244, 0.6537905241628355, 0.34312410487978595, 0.7359576117960466, 0.2628420042128738, 0.7800757206368125, 0.21778763774124207, 0.8890219807867651, 0.10459082126903119, 0.2157274866753632, 0.8197644493663803, 0.2949938019139814, 0.6883188711326232, 0.23233725874264563, 0.6970117762279369, 0.23140861457171835, 0.9256344582868734, 0.2544733875870801, 0.7634201627612403, 0.9964571102904931, 0.04765646742332559, 0.9531293484665118, 0.7059146004415888, 0.2996807266025613, 0.8360262574873555, 0.20900656437183887, 0.2949938019139814, 0.6883188711326232, 0.27840037476777724, 0.8352011243033317, 0.9336473615904451, 0.049139334820549746, 0.4309499055585787, 0.56807033005449, 0.9381130070916318, 0.05211738928286843, 0.9964571102904931, 0.8679747575744682, 0.1531720160425532, 0.775891861682444, 0.22435427325757418, 0.8890219807867651, 0.10459082126903119, 0.2090480083254936, 0.7943824316368758, 0.8864286140869871, 0.12663265915528388, 0.28475370254486815, 0.7118842563621703, 0.36199140650446554, 0.6265235881808058, 0.7715135242768667, 0.23251092512453517, 0.8957914686420732, 0.10538723160494978, 0.6034249485750236, 0.39659061085591174, 0.5816266402999031, 0.4182049957908595, 0.5726829387072534, 0.42646601818625257, 0.7569083744754499, 0.24063561038236847, 0.5552394190234617, 0.45113202795656265, 0.6259449460962638, 0.37556696765775827, 0.6935041458889526, 0.30822406483953446, 0.23191868833900775, 0.6957560650170233, 0.6824809012657216, 0.3167495091998804, 0.20768573892710754, 0.8307429557084302, 0.830139720573616, 0.1700286174668852, 0.4148683814585929, 0.5778523884601829, 0.9522416072086476, 0.05011797932677093, 0.04765646742332559, 0.9531293484665118, 0.3673045794114076, 0.7346091588228152, 0.140122740120386, 0.840736440722316, 0.5716366816088353, 0.42430763995707366, 0.9970644310444844, 0.5256395430033496, 0.47460657766321857, 0.5782873393641765, 0.42199346386034503, 0.8168019199936213, 0.1894033437666368, 0.2913657533720549, 0.8740972601161647, 0.4462990627516826, 0.5578738284396032, 0.7991859968215139, 0.2019920651307123, 0.2949938019139814, 0.6883188711326232, 0.6548772578541395, 0.3453192366500497, 0.7650972013511825, 0.23770010139065864], \"Term\": [\"actual\", \"actual\", \"ah\", \"ah\", \"alesome\", \"alesome\", \"an\", \"an\", \"and\", \"and\", \"arcivan\", \"arcvants\", \"aready\", \"armstrong\", \"armstrong\", \"associate\", \"associate\", \"at\", \"at\", \"athe\", \"authoritarian\", \"authoritarian\", \"be\", \"be\", \"benjamin\", \"benjamin\", \"bio\", \"bio\", \"body\", \"body\", \"brain\", \"brain\", \"but\", \"but\", \"can\", \"can\", \"cell\", \"cell\", \"china\", \"china\", \"cripto\", \"cripto\", \"culelly\", \"day\", \"day\", \"description\", \"description\", \"different\", \"different\", \"do\", \"do\", \"dollar\", \"dollar\", \"drink\", \"drink\", \"easy\", \"easy\", \"engineering\", \"engineering\", \"extremely\", \"extremely\", \"for\", \"for\", \"franklin\", \"franklin\", \"freedom\", \"freedom\", \"full\", \"full\", \"fund\", \"fund\", \"gain\", \"gain\", \"genius\", \"genius\", \"get\", \"get\", \"go\", \"go\", \"god\", \"god\", \"guest\", \"guest\", \"have\", \"have\", \"help\", \"help\", \"human\", \"human\", \"humanity\", \"humanity\", \"if\", \"if\", \"im\", \"im\", \"in\", \"in\", \"incredible\", \"incredible\", \"intocripto\", \"intocripto\", \"iown\", \"it\", \"it\", \"journal\", \"journal\", \"just\", \"just\", \"kind\", \"kind\", \"know\", \"know\", \"knowledge\", \"knowledge\", \"last\", \"last\", \"leave\", \"leave\", \"like\", \"like\", \"love\", \"love\", \"maybe\", \"maybe\", \"mean\", \"mean\", \"million\", \"million\", \"misinformation\", \"misinformation\", \"more\", \"more\", \"most\", \"most\", \"much\", \"much\", \"my\", \"my\", \"next\", \"next\", \"now\", \"now\", \"of\", \"of\", \"oh\", \"oh\", \"one\", \"one\", \"open\", \"open\", \"or\", \"or\", \"out\", \"out\", \"people\", \"people\", \"personally\", \"personally\", \"possible\", \"possible\", \"pot\", \"pot\", \"prestige\", \"prestige\", \"prestigious\", \"prestigious\", \"publish\", \"publish\", \"publishes\", \"qrenby\", \"qrenby\", \"re\", \"re\", \"realize\", \"realize\", \"responsors\", \"responsors\", \"rit\", \"rit\", \"scale\", \"scale\", \"see\", \"see\", \"seven\", \"seven\", \"shift\", \"shot\", \"shot\", \"so\", \"so\", \"sobuian\", \"sobuian\", \"sort\", \"sort\", \"ta\", \"ta\", \"term\", \"term\", \"than\", \"than\", \"thank\", \"thank\", \"thanks\", \"thanks\", \"that\", \"that\", \"the\", \"the\", \"there\", \"there\", \"they\", \"they\", \"thing\", \"thing\", \"think\", \"think\", \"this\", \"this\", \"tissue\", \"tissue\", \"to\", \"to\", \"top\", \"top\", \"try\", \"try\", \"um\", \"um\", \"valuable\", \"valuable\", \"valuation\", \"valuation\", \"verified\", \"verified\", \"verse\", \"verse\", \"we\", \"we\", \"west\", \"what\", \"what\", \"with\", \"with\", \"write\", \"write\", \"yah\", \"yah\", \"ye\", \"ye\", \"year\", \"year\", \"yok\", \"yok\", \"you\", \"you\", \"your\", \"your\"]}, \"R\": 30, \"lambda.step\": 0.01, \"plot.opts\": {\"xlab\": \"PC1\", \"ylab\": \"PC2\"}, \"topic.order\": [1, 2]};\n",
              "\n",
              "function LDAvis_load_lib(url, callback){\n",
              "  var s = document.createElement('script');\n",
              "  s.src = url;\n",
              "  s.async = true;\n",
              "  s.onreadystatechange = s.onload = callback;\n",
              "  s.onerror = function(){console.warn(\"failed to load library \" + url);};\n",
              "  document.getElementsByTagName(\"head\")[0].appendChild(s);\n",
              "}\n",
              "\n",
              "if(typeof(LDAvis) !== \"undefined\"){\n",
              "   // already loaded: just create the visualization\n",
              "   !function(LDAvis){\n",
              "       new LDAvis(\"#\" + \"ldavis_el13221398321678216482155364067\", ldavis_el13221398321678216482155364067_data);\n",
              "   }(LDAvis);\n",
              "}else if(typeof define === \"function\" && define.amd){\n",
              "   // require.js is available: use it to load d3/LDAvis\n",
              "   require.config({paths: {d3: \"https://d3js.org/d3.v5\"}});\n",
              "   require([\"d3\"], function(d3){\n",
              "      window.d3 = d3;\n",
              "      LDAvis_load_lib(\"https://cdn.jsdelivr.net/gh/bmabey/pyLDAvis@3.3.1/pyLDAvis/js/ldavis.v3.0.0.js\", function(){\n",
              "        new LDAvis(\"#\" + \"ldavis_el13221398321678216482155364067\", ldavis_el13221398321678216482155364067_data);\n",
              "      });\n",
              "    });\n",
              "}else{\n",
              "    // require.js not available: dynamically load d3 & LDAvis\n",
              "    LDAvis_load_lib(\"https://d3js.org/d3.v5.js\", function(){\n",
              "         LDAvis_load_lib(\"https://cdn.jsdelivr.net/gh/bmabey/pyLDAvis@3.3.1/pyLDAvis/js/ldavis.v3.0.0.js\", function(){\n",
              "                 new LDAvis(\"#\" + \"ldavis_el13221398321678216482155364067\", ldavis_el13221398321678216482155364067_data);\n",
              "            })\n",
              "         });\n",
              "}\n",
              "</script>"
            ]
          },
          "metadata": {},
          "execution_count": 139
        }
      ]
    },
    {
      "cell_type": "code",
      "source": [
        ""
      ],
      "metadata": {
        "id": "JV8nlDEwviFZ"
      },
      "execution_count": null,
      "outputs": []
    }
  ]
}